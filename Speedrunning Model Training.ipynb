{
 "cells": [
  {
   "cell_type": "markdown",
   "id": "680715ec-ac32-473e-92ff-12fe07c392ad",
   "metadata": {},
   "source": [
    "# Speedrunning Model Training\n",
    "(includes `pytorch-lightning`!!)  \n",
    "\n",
    "In your 2-hour-ish allocated time for training your model, chances are its going to be difficult to train a model quickly enough, fast enough. So, how can we squeeze the most time out of what we have?  \n",
    "\n",
    "This is a list of techniques to use, one by one, to see how much we can improve times by. As a starter, we will train ResNet18 from scratch on CIFAR-10, for 10 epochs, and see how long 10 epochs takes."
   ]
  },
  {
   "cell_type": "code",
   "execution_count": 1,
   "id": "aff8ec0a-710e-4b73-8057-20182defe6c6",
   "metadata": {},
   "outputs": [],
   "source": [
    "import torch\n",
    "import torch.nn as nn\n",
    "import torchvision"
   ]
  },
  {
   "cell_type": "code",
   "execution_count": 4,
   "id": "c42f865a-b6f0-4001-8421-688b2741bacc",
   "metadata": {},
   "outputs": [],
   "source": [
    "import torchvision.transforms as transforms"
   ]
  },
  {
   "cell_type": "code",
   "execution_count": 3,
   "id": "9ac458da-773b-4e85-b92a-a6b241d4b638",
   "metadata": {},
   "outputs": [
    {
     "name": "stdout",
     "output_type": "stream",
     "text": [
      "Downloading https://www.cs.toronto.edu/~kriz/cifar-10-python.tar.gz to data/cifar-10-python.tar.gz\n"
     ]
    },
    {
     "name": "stderr",
     "output_type": "stream",
     "text": [
      "100%|██████████| 170M/170M [00:02<00:00, 80.7MB/s] \n"
     ]
    },
    {
     "name": "stdout",
     "output_type": "stream",
     "text": [
      "Extracting data/cifar-10-python.tar.gz to data\n",
      "Files already downloaded and verified\n"
     ]
    }
   ],
   "source": [
    "train_transforms = transforms.Compose([\n",
    "    transforms.Resize((32, 32)),\n",
    "    transforms.AutoAugment(transforms.AutoAugmentPolicy.CIFAR10),\n",
    "    transforms.ToTensor(),\n",
    "    transforms.Normalize([0.48, 0.44, 0.40], [0.22, 0.22, 0.22])\n",
    "])\n",
    "test_transforms = transforms.Compose([\n",
    "    transforms.Resize((32, 32)), \n",
    "    transforms.ToTensor(),\n",
    "    transforms.Normalize([0.48, 0.44, 0.40], [0.22, 0.22, 0.22])\n",
    "])\n",
    "\n",
    "train_ds = torchvision.datasets.CIFAR10(root=\"data\", train=True, download=True, transform=train_transforms)\n",
    "test_ds = torchvision.datasets.CIFAR10(root=\"data\", train=False, download=True, transform=test_transforms)"
   ]
  },
  {
   "cell_type": "code",
   "execution_count": 4,
   "id": "4e7943a1-2111-4ac4-bb69-1cdc7d051a55",
   "metadata": {},
   "outputs": [],
   "source": [
    "train_loader = torch.utils.data.DataLoader(train_ds, batch_size=32, shuffle=True, num_workers=2)\n",
    "test_loader = torch.utils.data.DataLoader(test_ds, batch_size=32, shuffle=False, num_workers=2)"
   ]
  },
  {
   "cell_type": "code",
   "execution_count": 2,
   "id": "69780eaa-a899-4fb9-bffe-8562c2ae50d5",
   "metadata": {},
   "outputs": [],
   "source": [
    "from torchvision.models import resnet18"
   ]
  },
  {
   "cell_type": "code",
   "execution_count": 6,
   "id": "3d588209-c879-4bd0-84ed-953507ee97cc",
   "metadata": {
    "scrolled": true
   },
   "outputs": [
    {
     "data": {
      "text/plain": [
       "ResNet(\n",
       "  (conv1): Conv2d(3, 64, kernel_size=(7, 7), stride=(2, 2), padding=(3, 3), bias=False)\n",
       "  (bn1): BatchNorm2d(64, eps=1e-05, momentum=0.1, affine=True, track_running_stats=True)\n",
       "  (relu): ReLU(inplace=True)\n",
       "  (maxpool): MaxPool2d(kernel_size=3, stride=2, padding=1, dilation=1, ceil_mode=False)\n",
       "  (layer1): Sequential(\n",
       "    (0): BasicBlock(\n",
       "      (conv1): Conv2d(64, 64, kernel_size=(3, 3), stride=(1, 1), padding=(1, 1), bias=False)\n",
       "      (bn1): BatchNorm2d(64, eps=1e-05, momentum=0.1, affine=True, track_running_stats=True)\n",
       "      (relu): ReLU(inplace=True)\n",
       "      (conv2): Conv2d(64, 64, kernel_size=(3, 3), stride=(1, 1), padding=(1, 1), bias=False)\n",
       "      (bn2): BatchNorm2d(64, eps=1e-05, momentum=0.1, affine=True, track_running_stats=True)\n",
       "    )\n",
       "    (1): BasicBlock(\n",
       "      (conv1): Conv2d(64, 64, kernel_size=(3, 3), stride=(1, 1), padding=(1, 1), bias=False)\n",
       "      (bn1): BatchNorm2d(64, eps=1e-05, momentum=0.1, affine=True, track_running_stats=True)\n",
       "      (relu): ReLU(inplace=True)\n",
       "      (conv2): Conv2d(64, 64, kernel_size=(3, 3), stride=(1, 1), padding=(1, 1), bias=False)\n",
       "      (bn2): BatchNorm2d(64, eps=1e-05, momentum=0.1, affine=True, track_running_stats=True)\n",
       "    )\n",
       "  )\n",
       "  (layer2): Sequential(\n",
       "    (0): BasicBlock(\n",
       "      (conv1): Conv2d(64, 128, kernel_size=(3, 3), stride=(2, 2), padding=(1, 1), bias=False)\n",
       "      (bn1): BatchNorm2d(128, eps=1e-05, momentum=0.1, affine=True, track_running_stats=True)\n",
       "      (relu): ReLU(inplace=True)\n",
       "      (conv2): Conv2d(128, 128, kernel_size=(3, 3), stride=(1, 1), padding=(1, 1), bias=False)\n",
       "      (bn2): BatchNorm2d(128, eps=1e-05, momentum=0.1, affine=True, track_running_stats=True)\n",
       "      (downsample): Sequential(\n",
       "        (0): Conv2d(64, 128, kernel_size=(1, 1), stride=(2, 2), bias=False)\n",
       "        (1): BatchNorm2d(128, eps=1e-05, momentum=0.1, affine=True, track_running_stats=True)\n",
       "      )\n",
       "    )\n",
       "    (1): BasicBlock(\n",
       "      (conv1): Conv2d(128, 128, kernel_size=(3, 3), stride=(1, 1), padding=(1, 1), bias=False)\n",
       "      (bn1): BatchNorm2d(128, eps=1e-05, momentum=0.1, affine=True, track_running_stats=True)\n",
       "      (relu): ReLU(inplace=True)\n",
       "      (conv2): Conv2d(128, 128, kernel_size=(3, 3), stride=(1, 1), padding=(1, 1), bias=False)\n",
       "      (bn2): BatchNorm2d(128, eps=1e-05, momentum=0.1, affine=True, track_running_stats=True)\n",
       "    )\n",
       "  )\n",
       "  (layer3): Sequential(\n",
       "    (0): BasicBlock(\n",
       "      (conv1): Conv2d(128, 256, kernel_size=(3, 3), stride=(2, 2), padding=(1, 1), bias=False)\n",
       "      (bn1): BatchNorm2d(256, eps=1e-05, momentum=0.1, affine=True, track_running_stats=True)\n",
       "      (relu): ReLU(inplace=True)\n",
       "      (conv2): Conv2d(256, 256, kernel_size=(3, 3), stride=(1, 1), padding=(1, 1), bias=False)\n",
       "      (bn2): BatchNorm2d(256, eps=1e-05, momentum=0.1, affine=True, track_running_stats=True)\n",
       "      (downsample): Sequential(\n",
       "        (0): Conv2d(128, 256, kernel_size=(1, 1), stride=(2, 2), bias=False)\n",
       "        (1): BatchNorm2d(256, eps=1e-05, momentum=0.1, affine=True, track_running_stats=True)\n",
       "      )\n",
       "    )\n",
       "    (1): BasicBlock(\n",
       "      (conv1): Conv2d(256, 256, kernel_size=(3, 3), stride=(1, 1), padding=(1, 1), bias=False)\n",
       "      (bn1): BatchNorm2d(256, eps=1e-05, momentum=0.1, affine=True, track_running_stats=True)\n",
       "      (relu): ReLU(inplace=True)\n",
       "      (conv2): Conv2d(256, 256, kernel_size=(3, 3), stride=(1, 1), padding=(1, 1), bias=False)\n",
       "      (bn2): BatchNorm2d(256, eps=1e-05, momentum=0.1, affine=True, track_running_stats=True)\n",
       "    )\n",
       "  )\n",
       "  (layer4): Sequential(\n",
       "    (0): BasicBlock(\n",
       "      (conv1): Conv2d(256, 512, kernel_size=(3, 3), stride=(2, 2), padding=(1, 1), bias=False)\n",
       "      (bn1): BatchNorm2d(512, eps=1e-05, momentum=0.1, affine=True, track_running_stats=True)\n",
       "      (relu): ReLU(inplace=True)\n",
       "      (conv2): Conv2d(512, 512, kernel_size=(3, 3), stride=(1, 1), padding=(1, 1), bias=False)\n",
       "      (bn2): BatchNorm2d(512, eps=1e-05, momentum=0.1, affine=True, track_running_stats=True)\n",
       "      (downsample): Sequential(\n",
       "        (0): Conv2d(256, 512, kernel_size=(1, 1), stride=(2, 2), bias=False)\n",
       "        (1): BatchNorm2d(512, eps=1e-05, momentum=0.1, affine=True, track_running_stats=True)\n",
       "      )\n",
       "    )\n",
       "    (1): BasicBlock(\n",
       "      (conv1): Conv2d(512, 512, kernel_size=(3, 3), stride=(1, 1), padding=(1, 1), bias=False)\n",
       "      (bn1): BatchNorm2d(512, eps=1e-05, momentum=0.1, affine=True, track_running_stats=True)\n",
       "      (relu): ReLU(inplace=True)\n",
       "      (conv2): Conv2d(512, 512, kernel_size=(3, 3), stride=(1, 1), padding=(1, 1), bias=False)\n",
       "      (bn2): BatchNorm2d(512, eps=1e-05, momentum=0.1, affine=True, track_running_stats=True)\n",
       "    )\n",
       "  )\n",
       "  (avgpool): AdaptiveAvgPool2d(output_size=(1, 1))\n",
       "  (fc): Linear(in_features=512, out_features=1000, bias=True)\n",
       ")"
      ]
     },
     "execution_count": 6,
     "metadata": {},
     "output_type": "execute_result"
    }
   ],
   "source": [
    "model = resnet18()\n",
    "model # hm we gotta replace the fc"
   ]
  },
  {
   "cell_type": "markdown",
   "id": "043c00ff-f4db-4189-8c06-f37235f1e723",
   "metadata": {},
   "source": [
    "I'm gonna use PyTorch Lightning because, well, I'm a lazy person and its made for lazy people like me. Yay!!"
   ]
  },
  {
   "cell_type": "code",
   "execution_count": 3,
   "id": "9639d4a5-79de-42b1-822a-e47397857edb",
   "metadata": {},
   "outputs": [],
   "source": [
    "import pytorch_lightning as pl\n",
    "import torchmetrics"
   ]
  },
  {
   "cell_type": "code",
   "execution_count": 4,
   "id": "1e8af289-035d-4426-b913-3f878a6bafdf",
   "metadata": {},
   "outputs": [],
   "source": [
    "class LResNet(pl.LightningModule):\n",
    "    def __init__(self, resnet_cls, lr):\n",
    "        super().__init__()\n",
    "        self.resnet = resnet_cls()\n",
    "        self.resnet.fc = nn.Linear(512, 10)\n",
    "        self.lr = lr\n",
    "\n",
    "        self.accuracy = torchmetrics.Accuracy(\"multiclass\", num_classes=10)\n",
    "\n",
    "    def training_step(self, batch, batch_idx):\n",
    "        X, y = batch\n",
    "        y_pred = self.resnet(X)\n",
    "        loss = nn.functional.cross_entropy(y_pred, y)\n",
    "        self.log(\"train_loss\", loss, prog_bar=True)\n",
    "        acc = self.accuracy(y_pred, y)\n",
    "        self.log(\"train_acc\", acc)\n",
    "\n",
    "        return loss\n",
    "\n",
    "    def validation_step(self, batch, batch_idx):\n",
    "        X, y = batch\n",
    "        y_pred = self.resnet(X)\n",
    "        loss = nn.functional.cross_entropy(y_pred, y)\n",
    "        self.log(\"val_loss\", loss, prog_bar=True)\n",
    "        acc = self.accuracy(y_pred, y)\n",
    "        self.log(\"val_acc\", acc)\n",
    "\n",
    "    def configure_optimizers(self):\n",
    "        return torch.optim.AdamW(self.resnet.parameters(), lr=self.lr)\n",
    "\n",
    "model = LResNet(resnet18, 3e-4)"
   ]
  },
  {
   "cell_type": "markdown",
   "id": "8fad56ce-bcd1-4708-a0fe-b18674832eb5",
   "metadata": {},
   "source": [
    "This is the most sane defaults for training the model. We train for 10 epochs as a baseline."
   ]
  },
  {
   "cell_type": "code",
   "execution_count": 9,
   "id": "6ae9cb07-acb1-4850-a010-36342cdc71b2",
   "metadata": {},
   "outputs": [
    {
     "name": "stderr",
     "output_type": "stream",
     "text": [
      "Using default `ModelCheckpoint`. Consider installing `litmodels` package to enable `LitModelCheckpoint` for automatic upload to the Lightning model registry.\n",
      "GPU available: True (cuda), used: True\n",
      "TPU available: False, using: 0 TPU cores\n",
      "HPU available: False, using: 0 HPUs\n",
      "You are using a CUDA device ('NVIDIA GeForce RTX 3060') that has Tensor Cores. To properly utilize them, you should set `torch.set_float32_matmul_precision('medium' | 'high')` which will trade-off precision for performance. For more details, read https://pytorch.org/docs/stable/generated/torch.set_float32_matmul_precision.html#torch.set_float32_matmul_precision\n",
      "LOCAL_RANK: 0 - CUDA_VISIBLE_DEVICES: [0]\n",
      "\n",
      "  | Name     | Type               | Params | Mode \n",
      "--------------------------------------------------------\n",
      "0 | resnet   | ResNet             | 11.2 M | train\n",
      "1 | accuracy | MulticlassAccuracy | 0      | train\n",
      "--------------------------------------------------------\n",
      "11.2 M    Trainable params\n",
      "0         Non-trainable params\n",
      "11.2 M    Total params\n",
      "44.727    Total estimated model params size (MB)\n",
      "69        Modules in train mode\n",
      "0         Modules in eval mode\n"
     ]
    },
    {
     "data": {
      "application/vnd.jupyter.widget-view+json": {
       "model_id": "519eeb6a8fa54d578d829b8cd339a336",
       "version_major": 2,
       "version_minor": 0
      },
      "text/plain": [
       "Sanity Checking: |          | 0/? [00:00<?, ?it/s]"
      ]
     },
     "metadata": {},
     "output_type": "display_data"
    },
    {
     "data": {
      "application/vnd.jupyter.widget-view+json": {
       "model_id": "e78db1cb953a432db5bc8c15aacb53d9",
       "version_major": 2,
       "version_minor": 0
      },
      "text/plain": [
       "Training: |          | 0/? [00:00<?, ?it/s]"
      ]
     },
     "metadata": {},
     "output_type": "display_data"
    },
    {
     "data": {
      "application/vnd.jupyter.widget-view+json": {
       "model_id": "e1bf0ec4cf34452b8d5cedbefacbc359",
       "version_major": 2,
       "version_minor": 0
      },
      "text/plain": [
       "Validation: |          | 0/? [00:00<?, ?it/s]"
      ]
     },
     "metadata": {},
     "output_type": "display_data"
    },
    {
     "data": {
      "application/vnd.jupyter.widget-view+json": {
       "model_id": "185b72ea019246cb9f8a18d41fdd8216",
       "version_major": 2,
       "version_minor": 0
      },
      "text/plain": [
       "Validation: |          | 0/? [00:00<?, ?it/s]"
      ]
     },
     "metadata": {},
     "output_type": "display_data"
    },
    {
     "name": "stderr",
     "output_type": "stream",
     "text": [
      "`Trainer.fit` stopped: `max_epochs=10` reached.\n"
     ]
    }
   ],
   "source": [
    "trainer = pl.Trainer(max_epochs=10, check_val_every_n_epoch=5)\n",
    "trainer.fit(model, train_loader, test_loader) # average 33it/s"
   ]
  },
  {
   "cell_type": "markdown",
   "id": "38805453-27f3-4d4b-b154-edd1badc988b",
   "metadata": {},
   "source": [
    "Before we start, I'll link the list of references here.  \n",
    "https://www.reddit.com/r/MachineLearning/comments/kvs1ex/d_here_are_17_ways_of_making_pytorch_training/  \n",
    "https://lightning.ai/pages/community/tutorial/how-to-speed-up-pytorch-model-training/"
   ]
  },
  {
   "cell_type": "code",
   "execution_count": 13,
   "id": "bf336679-7b3a-4a5e-8fa1-725f63b4897b",
   "metadata": {},
   "outputs": [
    {
     "name": "stderr",
     "output_type": "stream",
     "text": [
      "LOCAL_RANK: 0 - CUDA_VISIBLE_DEVICES: [0]\n"
     ]
    },
    {
     "data": {
      "application/vnd.jupyter.widget-view+json": {
       "model_id": "d719768b2a34401ebf266b1148a8f705",
       "version_major": 2,
       "version_minor": 0
      },
      "text/plain": [
       "Validation: |          | 0/? [00:00<?, ?it/s]"
      ]
     },
     "metadata": {},
     "output_type": "display_data"
    },
    {
     "data": {
      "text/html": [
       "<pre style=\"white-space:pre;overflow-x:auto;line-height:normal;font-family:Menlo,'DejaVu Sans Mono',consolas,'Courier New',monospace\">┏━━━━━━━━━━━━━━━━━━━━━━━━━━━┳━━━━━━━━━━━━━━━━━━━━━━━━━━━┓\n",
       "┃<span style=\"font-weight: bold\">      Validate metric      </span>┃<span style=\"font-weight: bold\">       DataLoader 0        </span>┃\n",
       "┡━━━━━━━━━━━━━━━━━━━━━━━━━━━╇━━━━━━━━━━━━━━━━━━━━━━━━━━━┩\n",
       "│<span style=\"color: #008080; text-decoration-color: #008080\">         train_acc         </span>│<span style=\"color: #800080; text-decoration-color: #800080\">    0.7712000012397766     </span>│\n",
       "│<span style=\"color: #008080; text-decoration-color: #008080\">        train_loss         </span>│<span style=\"color: #800080; text-decoration-color: #800080\">    0.6758221387863159     </span>│\n",
       "└───────────────────────────┴───────────────────────────┘\n",
       "</pre>\n"
      ],
      "text/plain": [
       "┏━━━━━━━━━━━━━━━━━━━━━━━━━━━┳━━━━━━━━━━━━━━━━━━━━━━━━━━━┓\n",
       "┃\u001b[1m \u001b[0m\u001b[1m     Validate metric     \u001b[0m\u001b[1m \u001b[0m┃\u001b[1m \u001b[0m\u001b[1m      DataLoader 0       \u001b[0m\u001b[1m \u001b[0m┃\n",
       "┡━━━━━━━━━━━━━━━━━━━━━━━━━━━╇━━━━━━━━━━━━━━━━━━━━━━━━━━━┩\n",
       "│\u001b[36m \u001b[0m\u001b[36m        train_acc        \u001b[0m\u001b[36m \u001b[0m│\u001b[35m \u001b[0m\u001b[35m   0.7712000012397766    \u001b[0m\u001b[35m \u001b[0m│\n",
       "│\u001b[36m \u001b[0m\u001b[36m       train_loss        \u001b[0m\u001b[36m \u001b[0m│\u001b[35m \u001b[0m\u001b[35m   0.6758221387863159    \u001b[0m\u001b[35m \u001b[0m│\n",
       "└───────────────────────────┴───────────────────────────┘\n"
      ]
     },
     "metadata": {},
     "output_type": "display_data"
    },
    {
     "data": {
      "text/plain": [
       "[{'train_loss': 0.6758221387863159, 'train_acc': 0.7712000012397766}]"
      ]
     },
     "execution_count": 13,
     "metadata": {},
     "output_type": "execute_result"
    }
   ],
   "source": [
    "trainer.validate(model, test_loader) # 77.1% accuracy!"
   ]
  },
  {
   "cell_type": "markdown",
   "id": "e9846737-97bf-445b-88f2-e21e7291108d",
   "metadata": {},
   "source": [
    "First, let's just do what recommended above, and set the tensor core settings."
   ]
  },
  {
   "cell_type": "code",
   "execution_count": 5,
   "id": "3a82fa1e-f84a-4271-8291-d5da79067bb5",
   "metadata": {},
   "outputs": [],
   "source": [
    "torch.set_float32_matmul_precision('high')"
   ]
  },
  {
   "cell_type": "markdown",
   "id": "1bf19edf-df6c-4a14-ada2-0a069164918b",
   "metadata": {},
   "source": [
    "Gonna do a quick test of the speed..."
   ]
  },
  {
   "cell_type": "code",
   "execution_count": 33,
   "id": "9d620a78-4e61-4cd2-a66c-88a6add0be53",
   "metadata": {},
   "outputs": [],
   "source": [
    "del model \n",
    "del trainer\n",
    "torch.cuda.empty_cache()"
   ]
  },
  {
   "cell_type": "code",
   "execution_count": 19,
   "id": "5ea4bad1-79d1-4499-a860-e2abe0395bd5",
   "metadata": {},
   "outputs": [
    {
     "name": "stderr",
     "output_type": "stream",
     "text": [
      "Using default `ModelCheckpoint`. Consider installing `litmodels` package to enable `LitModelCheckpoint` for automatic upload to the Lightning model registry.\n",
      "GPU available: True (cuda), used: True\n",
      "TPU available: False, using: 0 TPU cores\n",
      "HPU available: False, using: 0 HPUs\n",
      "LOCAL_RANK: 0 - CUDA_VISIBLE_DEVICES: [0]\n",
      "\n",
      "  | Name     | Type               | Params | Mode \n",
      "--------------------------------------------------------\n",
      "0 | resnet   | ResNet             | 11.2 M | train\n",
      "1 | accuracy | MulticlassAccuracy | 0      | train\n",
      "--------------------------------------------------------\n",
      "11.2 M    Trainable params\n",
      "0         Non-trainable params\n",
      "11.2 M    Total params\n",
      "44.727    Total estimated model params size (MB)\n",
      "69        Modules in train mode\n",
      "0         Modules in eval mode\n"
     ]
    },
    {
     "data": {
      "application/vnd.jupyter.widget-view+json": {
       "model_id": "e1b32b112e5143eca6d0e618bf1644ef",
       "version_major": 2,
       "version_minor": 0
      },
      "text/plain": [
       "Sanity Checking: |          | 0/? [00:00<?, ?it/s]"
      ]
     },
     "metadata": {},
     "output_type": "display_data"
    },
    {
     "data": {
      "application/vnd.jupyter.widget-view+json": {
       "model_id": "0b94a975e41e4a4ab25fed252c3d7406",
       "version_major": 2,
       "version_minor": 0
      },
      "text/plain": [
       "Training: |          | 0/? [00:00<?, ?it/s]"
      ]
     },
     "metadata": {},
     "output_type": "display_data"
    },
    {
     "name": "stderr",
     "output_type": "stream",
     "text": [
      "`Trainer.fit` stopped: `max_epochs=1` reached.\n"
     ]
    }
   ],
   "source": [
    "model = LResNet(resnet18, 3e-4)\n",
    "trainer = pl.Trainer(max_epochs=1, check_val_every_n_epoch=5)\n",
    "trainer.fit(model, train_loader, test_loader) # average 34.5it/s"
   ]
  },
  {
   "cell_type": "markdown",
   "id": "1ece4af7-4b8e-4c40-8a4f-6eeb8581ea19",
   "metadata": {},
   "source": [
    "First of all we must use the age old advice to max out the batch size. We do that by just brute forcing our way through :D  \n",
    "\n",
    "One thing noted is that the dataloader takes a very long time to load the images, so the first modification is moving the augmentations to GPU.  \n",
    "\n",
    "Increasing the batch size also means we have to increase the learning rate - by conventional wisdom. After all, less batch size means less updates means you have less opportunities to learn. The normal saying is increasing by k times means you should increase learning rate by sqrt(k) times. I also add OneCycleLR, which is one of the optimizations recommended, as a LR schedule.  \n",
    "\n",
    "I really didn't want to add too much at once, but increasing batch sizes brings about all these difficult changes."
   ]
  },
  {
   "cell_type": "code",
   "execution_count": 7,
   "id": "40a0913b-138f-4c54-b230-fdd2c074cf68",
   "metadata": {},
   "outputs": [],
   "source": [
    "from torchvision.transforms import v2"
   ]
  },
  {
   "cell_type": "code",
   "execution_count": 8,
   "id": "7df8ce29-bf57-4de4-8804-6173e1dfe72b",
   "metadata": {},
   "outputs": [
    {
     "name": "stdout",
     "output_type": "stream",
     "text": [
      "Files already downloaded and verified\n",
      "Files already downloaded and verified\n"
     ]
    }
   ],
   "source": [
    "img_transforms = v2.Compose([\n",
    "    v2.ToImage(),\n",
    "])\n",
    "\n",
    "train_ds = torchvision.datasets.CIFAR10(root=\"data\", train=True, download=True, transform=img_transforms)\n",
    "test_ds = torchvision.datasets.CIFAR10(root=\"data\", train=False, download=True, transform=img_transforms)"
   ]
  },
  {
   "cell_type": "markdown",
   "id": "0d6b455f-b409-4b44-bc18-62180a475a0c",
   "metadata": {},
   "source": [
    "We now move the augmentation and normalization to the training code!"
   ]
  },
  {
   "cell_type": "code",
   "execution_count": 9,
   "id": "e8baafaf-ac52-4ce9-9b71-a649cfd02e8e",
   "metadata": {},
   "outputs": [],
   "source": [
    "class LResNet(pl.LightningModule):\n",
    "    def __init__(self, resnet_cls, lr):\n",
    "        super().__init__()\n",
    "        self.resnet = resnet_cls()\n",
    "        self.resnet.fc = nn.Linear(512, 10)\n",
    "        self.lr = lr\n",
    "        \n",
    "        self.accuracy = torchmetrics.Accuracy(\"multiclass\", num_classes=10)\n",
    "\n",
    "        # NEW!\n",
    "        self.img_scale = v2.ToDtype(torch.float32, scale=True)\n",
    "        self.img_norm = v2.Normalize([0.48, 0.44, 0.40], [0.22, 0.22, 0.22])\n",
    "        self.img_aug = v2.AutoAugment(v2.AutoAugmentPolicy.CIFAR10)\n",
    "\n",
    "    def training_step(self, batch, batch_idx):\n",
    "        X, y = batch\n",
    "        X = self.img_norm(self.img_scale(self.img_aug(X)))\n",
    "        y_pred = self.resnet(X)\n",
    "        loss = nn.functional.cross_entropy(y_pred, y)\n",
    "        self.log(\"train_loss\", loss)\n",
    "        acc = self.accuracy(y_pred, y)\n",
    "        self.log(\"train_acc\", acc)\n",
    "\n",
    "        return loss\n",
    "\n",
    "    def validation_step(self, batch, batch_idx):\n",
    "        X, y = batch\n",
    "        X = self.img_norm(self.img_scale(X))\n",
    "        y_pred = self.resnet(X)\n",
    "        loss = nn.functional.cross_entropy(y_pred, y)\n",
    "        self.log(\"val_loss\", loss)\n",
    "        acc = self.accuracy(y_pred, y)\n",
    "        self.log(\"val_acc\", acc)\n",
    "\n",
    "    def configure_optimizers(self):\n",
    "        optimizer = torch.optim.AdamW(self.resnet.parameters(), lr=self.lr)\n",
    "        scheduler = torch.optim.lr_scheduler.OneCycleLR(optimizer, max_lr = self.lr, epochs=10, steps_per_epoch=len(train_loader))\n",
    "        return [optimizer], [{\"scheduler\": scheduler, \"interval\": \"step\"}]\n",
    "\n",
    "model = LResNet(resnet18, 3e-4)"
   ]
  },
  {
   "cell_type": "code",
   "execution_count": 10,
   "id": "95425527-ef0d-4779-8e12-0a22daab8b58",
   "metadata": {},
   "outputs": [],
   "source": [
    "import sys\n",
    "\n",
    "def suppress_multiprocessing_exception(exc_type, exc_value, traceback):\n",
    "    if exc_type == AssertionError and 'can only test a child process' in str(exc_value):\n",
    "        return  # suppress\n",
    "    sys.__excepthook__(exc_type, exc_value, traceback)\n",
    "\n",
    "sys.excepthook = suppress_multiprocessing_exception # hide annoying warning"
   ]
  },
  {
   "cell_type": "code",
   "execution_count": 11,
   "id": "9c0b3255-d33a-4470-b632-b107abf5fd70",
   "metadata": {},
   "outputs": [],
   "source": [
    "train_loader = torch.utils.data.DataLoader(train_ds, batch_size=4096, shuffle=True, num_workers=3, pin_memory=True, prefetch_factor=2, persistent_workers=True)\n",
    "test_loader = torch.utils.data.DataLoader(test_ds, batch_size=4096, shuffle=False, num_workers=3, pin_memory=True, prefetch_factor=2, persistent_workers=True)"
   ]
  },
  {
   "cell_type": "code",
   "execution_count": 12,
   "id": "e2545c5c-1bc3-4381-ba23-f8d8683d7654",
   "metadata": {},
   "outputs": [
    {
     "name": "stderr",
     "output_type": "stream",
     "text": [
      "Using default `ModelCheckpoint`. Consider installing `litmodels` package to enable `LitModelCheckpoint` for automatic upload to the Lightning model registry.\n",
      "GPU available: True (cuda), used: True\n",
      "TPU available: False, using: 0 TPU cores\n",
      "HPU available: False, using: 0 HPUs\n",
      "LOCAL_RANK: 0 - CUDA_VISIBLE_DEVICES: [0]\n",
      "\n",
      "  | Name      | Type               | Params | Mode \n",
      "---------------------------------------------------------\n",
      "0 | resnet    | ResNet             | 11.2 M | train\n",
      "1 | accuracy  | MulticlassAccuracy | 0      | train\n",
      "2 | img_scale | ToDtype            | 0      | train\n",
      "3 | img_norm  | Normalize          | 0      | train\n",
      "4 | img_aug   | AutoAugment        | 0      | train\n",
      "---------------------------------------------------------\n",
      "11.2 M    Trainable params\n",
      "0         Non-trainable params\n",
      "11.2 M    Total params\n",
      "44.727    Total estimated model params size (MB)\n",
      "72        Modules in train mode\n",
      "0         Modules in eval mode\n"
     ]
    },
    {
     "data": {
      "application/vnd.jupyter.widget-view+json": {
       "model_id": "e3a441ec96bb4000a8ef5adbeddde512",
       "version_major": 2,
       "version_minor": 0
      },
      "text/plain": [
       "Sanity Checking: |          | 0/? [00:00<?, ?it/s]"
      ]
     },
     "metadata": {},
     "output_type": "display_data"
    },
    {
     "data": {
      "application/vnd.jupyter.widget-view+json": {
       "model_id": "8810b30222474a66ae421e47dcb0db24",
       "version_major": 2,
       "version_minor": 0
      },
      "text/plain": [
       "Training: |          | 0/? [00:00<?, ?it/s]"
      ]
     },
     "metadata": {},
     "output_type": "display_data"
    },
    {
     "data": {
      "application/vnd.jupyter.widget-view+json": {
       "model_id": "9855ae182b134a61b8b203de7c6b6ca4",
       "version_major": 2,
       "version_minor": 0
      },
      "text/plain": [
       "Validation: |          | 0/? [00:00<?, ?it/s]"
      ]
     },
     "metadata": {},
     "output_type": "display_data"
    },
    {
     "data": {
      "application/vnd.jupyter.widget-view+json": {
       "model_id": "5d2ddf1ae23c4f18be60d27ef545748d",
       "version_major": 2,
       "version_minor": 0
      },
      "text/plain": [
       "Validation: |          | 0/? [00:00<?, ?it/s]"
      ]
     },
     "metadata": {},
     "output_type": "display_data"
    },
    {
     "name": "stderr",
     "output_type": "stream",
     "text": [
      "`Trainer.fit` stopped: `max_epochs=10` reached.\n"
     ]
    }
   ],
   "source": [
    "model = LResNet(resnet18, 3e-4*((4096/32)**0.5)) # we went from 32 to 4096, so...\n",
    "trainer = pl.Trainer(max_epochs=10, check_val_every_n_epoch=5, log_every_n_steps=1)\n",
    "trainer.fit(model, train_loader, test_loader)`"
   ]
  },
  {
   "cell_type": "code",
   "execution_count": 13,
   "id": "11f1db49-f9e6-49f1-8c33-ac32e19df28e",
   "metadata": {},
   "outputs": [
    {
     "name": "stderr",
     "output_type": "stream",
     "text": [
      "LOCAL_RANK: 0 - CUDA_VISIBLE_DEVICES: [0]\n"
     ]
    },
    {
     "data": {
      "application/vnd.jupyter.widget-view+json": {
       "model_id": "e1c16ee47958475fb5b8a0d89cbbb9b1",
       "version_major": 2,
       "version_minor": 0
      },
      "text/plain": [
       "Validation: |          | 0/? [00:00<?, ?it/s]"
      ]
     },
     "metadata": {},
     "output_type": "display_data"
    },
    {
     "data": {
      "text/html": [
       "<pre style=\"white-space:pre;overflow-x:auto;line-height:normal;font-family:Menlo,'DejaVu Sans Mono',consolas,'Courier New',monospace\">┏━━━━━━━━━━━━━━━━━━━━━━━━━━━┳━━━━━━━━━━━━━━━━━━━━━━━━━━━┓\n",
       "┃<span style=\"font-weight: bold\">      Validate metric      </span>┃<span style=\"font-weight: bold\">       DataLoader 0        </span>┃\n",
       "┡━━━━━━━━━━━━━━━━━━━━━━━━━━━╇━━━━━━━━━━━━━━━━━━━━━━━━━━━┩\n",
       "│<span style=\"color: #008080; text-decoration-color: #008080\">          val_acc          </span>│<span style=\"color: #800080; text-decoration-color: #800080\">    0.5662000179290771     </span>│\n",
       "│<span style=\"color: #008080; text-decoration-color: #008080\">         val_loss          </span>│<span style=\"color: #800080; text-decoration-color: #800080\">    1.2236377000808716     </span>│\n",
       "└───────────────────────────┴───────────────────────────┘\n",
       "</pre>\n"
      ],
      "text/plain": [
       "┏━━━━━━━━━━━━━━━━━━━━━━━━━━━┳━━━━━━━━━━━━━━━━━━━━━━━━━━━┓\n",
       "┃\u001b[1m \u001b[0m\u001b[1m     Validate metric     \u001b[0m\u001b[1m \u001b[0m┃\u001b[1m \u001b[0m\u001b[1m      DataLoader 0       \u001b[0m\u001b[1m \u001b[0m┃\n",
       "┡━━━━━━━━━━━━━━━━━━━━━━━━━━━╇━━━━━━━━━━━━━━━━━━━━━━━━━━━┩\n",
       "│\u001b[36m \u001b[0m\u001b[36m         val_acc         \u001b[0m\u001b[36m \u001b[0m│\u001b[35m \u001b[0m\u001b[35m   0.5662000179290771    \u001b[0m\u001b[35m \u001b[0m│\n",
       "│\u001b[36m \u001b[0m\u001b[36m        val_loss         \u001b[0m\u001b[36m \u001b[0m│\u001b[35m \u001b[0m\u001b[35m   1.2236377000808716    \u001b[0m\u001b[35m \u001b[0m│\n",
       "└───────────────────────────┴───────────────────────────┘\n"
      ]
     },
     "metadata": {},
     "output_type": "display_data"
    },
    {
     "data": {
      "text/plain": [
       "[{'val_loss': 1.2236377000808716, 'val_acc': 0.5662000179290771}]"
      ]
     },
     "execution_count": 13,
     "metadata": {},
     "output_type": "execute_result"
    }
   ],
   "source": [
    "trainer.validate(model, test_loader)"
   ]
  },
  {
   "cell_type": "markdown",
   "id": "596e7169-b0f8-4278-b52a-e98789e6e4b9",
   "metadata": {},
   "source": [
    "Okay, perhaps the LR isnt too good. Luckly, Lightning has a LR finder, and according to the original OneCycle paper, we need to use the interval where the loss first starts to decrease, and where it stops decreasing. For that, we also need to disable the scheduler (I delete the code block to save space...)"
   ]
  },
  {
   "cell_type": "code",
   "execution_count": 76,
   "id": "ac5e750d-9bb9-42c3-af93-76c26cbbc16c",
   "metadata": {},
   "outputs": [
    {
     "name": "stderr",
     "output_type": "stream",
     "text": [
      "Using default `ModelCheckpoint`. Consider installing `litmodels` package to enable `LitModelCheckpoint` for automatic upload to the Lightning model registry.\n",
      "GPU available: True (cuda), used: True\n",
      "TPU available: False, using: 0 TPU cores\n",
      "HPU available: False, using: 0 HPUs\n",
      "/venv/main/lib/python3.10/site-packages/pytorch_lightning/trainer/configuration_validator.py:70: You defined a `validation_step` but have no `val_dataloader`. Skipping val loop.\n",
      "LOCAL_RANK: 0 - CUDA_VISIBLE_DEVICES: [0]\n"
     ]
    },
    {
     "data": {
      "application/vnd.jupyter.widget-view+json": {
       "model_id": "6be0c5779fe5496c9ccfe1a77485712c",
       "version_major": 2,
       "version_minor": 0
      },
      "text/plain": [
       "Finding best initial lr:   0%|          | 0/100 [00:00<?, ?it/s]"
      ]
     },
     "metadata": {},
     "output_type": "display_data"
    },
    {
     "name": "stderr",
     "output_type": "stream",
     "text": [
      "`Trainer.fit` stopped: `max_steps=100` reached.\n",
      "Learning rate set to 0.0007585775750291836\n",
      "Restoring states from the checkpoint path at /workspace/.lr_find_1aa2e173-4c6e-49c4-a827-f0571fd28e62.ckpt\n",
      "Restored all states from the checkpoint at /workspace/.lr_find_1aa2e173-4c6e-49c4-a827-f0571fd28e62.ckpt\n"
     ]
    },
    {
     "data": {
      "image/png": "[encoded data removed]",
      "text/plain": [
       "<Figure size 640x480 with 1 Axes>"
      ]
     },
     "execution_count": 76,
     "metadata": {},
     "output_type": "execute_result"
    },
    {
     "data": {
      "image/png": "[encoded data removed]",
      "text/plain": [
       "<Figure size 640x480 with 1 Axes>"
      ]
     },
     "metadata": {},
     "output_type": "display_data"
    }
   ],
   "source": [
    "model = LResNet(resnet18, 3e-4) # will be overriden\n",
    "trainer = pl.Trainer(max_epochs=10, check_val_every_n_epoch=5, log_every_n_steps=1)\n",
    "tuner = pl.tuner.Tuner(trainer)\n",
    "results = tuner.lr_find(model, train_loader)\n",
    "results.plot()"
   ]
  },
  {
   "cell_type": "markdown",
   "id": "2734dfe8-a32c-43fa-b2cb-5a5cd1a4635d",
   "metadata": {},
   "source": [
    "From the graph, I'lll chose the starting value to be 1e-5 and the peak value to be 2e-3."
   ]
  },
  {
   "cell_type": "code",
   "execution_count": 15,
   "id": "0c2392fc-7f77-40d6-8314-3e457a7977c5",
   "metadata": {},
   "outputs": [],
   "source": [
    "class LResNet(pl.LightningModule):\n",
    "    def __init__(self, resnet_cls, max_lr, min_lr):\n",
    "        super().__init__()\n",
    "        self.resnet = resnet_cls()\n",
    "        self.resnet.fc = nn.Linear(512, 10)\n",
    "        self.max_lr = max_lr\n",
    "        self.min_lr = min_lr\n",
    "        \n",
    "        self.accuracy = torchmetrics.Accuracy(\"multiclass\", num_classes=10)\n",
    "\n",
    "        self.img_scale = v2.ToDtype(torch.float32, scale=True)\n",
    "        self.img_norm = v2.Normalize([0.48, 0.44, 0.40], [0.22, 0.22, 0.22])\n",
    "        self.img_aug = v2.AutoAugment(v2.AutoAugmentPolicy.CIFAR10)\n",
    "\n",
    "    def training_step(self, batch, batch_idx):\n",
    "        X, y = batch\n",
    "        X = self.img_norm(self.img_scale(self.img_aug(X)))\n",
    "        y_pred = self.resnet(X)\n",
    "        loss = nn.functional.cross_entropy(y_pred, y)\n",
    "        self.log(\"train_loss\", loss)\n",
    "        acc = self.accuracy(y_pred, y)\n",
    "        self.log(\"train_acc\", acc)\n",
    "\n",
    "        return loss\n",
    "\n",
    "    def validation_step(self, batch, batch_idx):\n",
    "        X, y = batch\n",
    "        X = self.img_norm(self.img_scale(X))\n",
    "        y_pred = self.resnet(X)\n",
    "        loss = nn.functional.cross_entropy(y_pred, y)\n",
    "        self.log(\"val_loss\", loss)\n",
    "        acc = self.accuracy(y_pred, y)\n",
    "        self.log(\"val_acc\", acc)\n",
    "\n",
    "    def configure_optimizers(self):\n",
    "        optimizer = torch.optim.AdamW(self.resnet.parameters(), lr=self.min_lr)\n",
    "        scheduler = torch.optim.lr_scheduler.OneCycleLR(optimizer, max_lr=self.max_lr, epochs=30, steps_per_epoch=len(train_loader), div_factor=self.max_lr/self.min_lr)\n",
    "        return [optimizer], [{\"scheduler\": scheduler, \"interval\": \"step\"}]"
   ]
  },
  {
   "cell_type": "markdown",
   "id": "e0b7fca4-4d97-4c5b-b596-45961929426b",
   "metadata": {},
   "source": [
    "After testing and research, its probably best that we increase the max_epochs to something like 30 - it's a lot faster than the original one anyways. Running the below cell takes like less than 5 minutes while 10 epochs of the one above is also roughly similar."
   ]
  },
  {
   "cell_type": "code",
   "execution_count": 33,
   "id": "000730f8-03c9-4d72-837b-e68a9c2e26f4",
   "metadata": {},
   "outputs": [
    {
     "name": "stderr",
     "output_type": "stream",
     "text": [
      "Using default `ModelCheckpoint`. Consider installing `litmodels` package to enable `LitModelCheckpoint` for automatic upload to the Lightning model registry.\n",
      "GPU available: True (cuda), used: True\n",
      "TPU available: False, using: 0 TPU cores\n",
      "HPU available: False, using: 0 HPUs\n",
      "LOCAL_RANK: 0 - CUDA_VISIBLE_DEVICES: [0]\n",
      "\n",
      "  | Name     | Type               | Params | Mode \n",
      "--------------------------------------------------------\n",
      "0 | resnet   | ResNet             | 11.2 M | train\n",
      "1 | accuracy | MulticlassAccuracy | 0      | train\n",
      "2 | img_norm | Normalize          | 0      | train\n",
      "3 | img_aug  | AutoAugment        | 0      | train\n",
      "--------------------------------------------------------\n",
      "11.2 M    Trainable params\n",
      "0         Non-trainable params\n",
      "11.2 M    Total params\n",
      "44.727    Total estimated model params size (MB)\n",
      "71        Modules in train mode\n",
      "0         Modules in eval mode\n"
     ]
    },
    {
     "data": {
      "application/vnd.jupyter.widget-view+json": {
       "model_id": "5b6af5f7b70344f1bf874bfbf12b5152",
       "version_major": 2,
       "version_minor": 0
      },
      "text/plain": [
       "Sanity Checking: |          | 0/? [00:00<?, ?it/s]"
      ]
     },
     "metadata": {},
     "output_type": "display_data"
    },
    {
     "data": {
      "application/vnd.jupyter.widget-view+json": {
       "model_id": "c8116147f94040838c6f019a4898304b",
       "version_major": 2,
       "version_minor": 0
      },
      "text/plain": [
       "Training: |          | 0/? [00:00<?, ?it/s]"
      ]
     },
     "metadata": {},
     "output_type": "display_data"
    },
    {
     "data": {
      "application/vnd.jupyter.widget-view+json": {
       "model_id": "4972ee29999f4c2f8115e8c0015ceea7",
       "version_major": 2,
       "version_minor": 0
      },
      "text/plain": [
       "Validation: |          | 0/? [00:00<?, ?it/s]"
      ]
     },
     "metadata": {},
     "output_type": "display_data"
    },
    {
     "name": "stderr",
     "output_type": "stream",
     "text": [
      "`Trainer.fit` stopped: `max_epochs=30` reached.\n"
     ]
    }
   ],
   "source": [
    "model = LResNet(resnet18, 2e-3, 1e-5)\n",
    "trainer = pl.Trainer(max_epochs=30, check_val_every_n_epoch=30, log_every_n_steps=1) \n",
    "trainer.fit(model, train_loader, test_loader)"
   ]
  },
  {
   "cell_type": "code",
   "execution_count": 34,
   "id": "a3bb3dc0-560d-4ffb-bf78-feefd95ad2ae",
   "metadata": {},
   "outputs": [
    {
     "name": "stderr",
     "output_type": "stream",
     "text": [
      "LOCAL_RANK: 0 - CUDA_VISIBLE_DEVICES: [0]\n"
     ]
    },
    {
     "data": {
      "application/vnd.jupyter.widget-view+json": {
       "model_id": "da04fa2c0dc84975aee08170450f80c3",
       "version_major": 2,
       "version_minor": 0
      },
      "text/plain": [
       "Validation: |          | 0/? [00:00<?, ?it/s]"
      ]
     },
     "metadata": {},
     "output_type": "display_data"
    },
    {
     "data": {
      "text/html": [
       "<pre style=\"white-space:pre;overflow-x:auto;line-height:normal;font-family:Menlo,'DejaVu Sans Mono',consolas,'Courier New',monospace\">┏━━━━━━━━━━━━━━━━━━━━━━━━━━━┳━━━━━━━━━━━━━━━━━━━━━━━━━━━┓\n",
       "┃<span style=\"font-weight: bold\">      Validate metric      </span>┃<span style=\"font-weight: bold\">       DataLoader 0        </span>┃\n",
       "┡━━━━━━━━━━━━━━━━━━━━━━━━━━━╇━━━━━━━━━━━━━━━━━━━━━━━━━━━┩\n",
       "│<span style=\"color: #008080; text-decoration-color: #008080\">          val_acc          </span>│<span style=\"color: #800080; text-decoration-color: #800080\">     0.723800003528595     </span>│\n",
       "│<span style=\"color: #008080; text-decoration-color: #008080\">         val_loss          </span>│<span style=\"color: #800080; text-decoration-color: #800080\">    0.8001051545143127     </span>│\n",
       "└───────────────────────────┴───────────────────────────┘\n",
       "</pre>\n"
      ],
      "text/plain": [
       "┏━━━━━━━━━━━━━━━━━━━━━━━━━━━┳━━━━━━━━━━━━━━━━━━━━━━━━━━━┓\n",
       "┃\u001b[1m \u001b[0m\u001b[1m     Validate metric     \u001b[0m\u001b[1m \u001b[0m┃\u001b[1m \u001b[0m\u001b[1m      DataLoader 0       \u001b[0m\u001b[1m \u001b[0m┃\n",
       "┡━━━━━━━━━━━━━━━━━━━━━━━━━━━╇━━━━━━━━━━━━━━━━━━━━━━━━━━━┩\n",
       "│\u001b[36m \u001b[0m\u001b[36m         val_acc         \u001b[0m\u001b[36m \u001b[0m│\u001b[35m \u001b[0m\u001b[35m    0.723800003528595    \u001b[0m\u001b[35m \u001b[0m│\n",
       "│\u001b[36m \u001b[0m\u001b[36m        val_loss         \u001b[0m\u001b[36m \u001b[0m│\u001b[35m \u001b[0m\u001b[35m   0.8001051545143127    \u001b[0m\u001b[35m \u001b[0m│\n",
       "└───────────────────────────┴───────────────────────────┘\n"
      ]
     },
     "metadata": {},
     "output_type": "display_data"
    },
    {
     "data": {
      "text/plain": [
       "[{'val_loss': 0.8001051545143127, 'val_acc': 0.723800003528595}]"
      ]
     },
     "execution_count": 34,
     "metadata": {},
     "output_type": "execute_result"
    }
   ],
   "source": [
    "trainer.validate(model, test_loader)"
   ]
  },
  {
   "cell_type": "markdown",
   "id": "047db33c-2683-4810-b129-4cf771a3b6e9",
   "metadata": {},
   "source": [
    "We're reaching the same performance as using smaller batches now! And it's still faster overall."
   ]
  },
  {
   "cell_type": "markdown",
   "id": "605c70c5-cba1-4893-b069-2a27083b8ac4",
   "metadata": {},
   "source": [
    "Next, we can just start with the biggest guns - using lower precision to train! The technical details are probably not helpful (using 16 bit in backward/forwards etc). The best is to use `bf16-mixed` if supported, which should speed up the process by a bit! However if it isn't available, `16-mixed` works too."
   ]
  },
  {
   "cell_type": "code",
   "execution_count": 35,
   "id": "4462c7d5-b7dd-4a55-9904-368a785dd25d",
   "metadata": {},
   "outputs": [
    {
     "name": "stderr",
     "output_type": "stream",
     "text": [
      "Using bfloat16 Automatic Mixed Precision (AMP)\n",
      "Using default `ModelCheckpoint`. Consider installing `litmodels` package to enable `LitModelCheckpoint` for automatic upload to the Lightning model registry.\n",
      "GPU available: True (cuda), used: True\n",
      "TPU available: False, using: 0 TPU cores\n",
      "HPU available: False, using: 0 HPUs\n",
      "LOCAL_RANK: 0 - CUDA_VISIBLE_DEVICES: [0]\n",
      "\n",
      "  | Name     | Type               | Params | Mode \n",
      "--------------------------------------------------------\n",
      "0 | resnet   | ResNet             | 11.2 M | train\n",
      "1 | accuracy | MulticlassAccuracy | 0      | train\n",
      "2 | img_norm | Normalize          | 0      | train\n",
      "3 | img_aug  | AutoAugment        | 0      | train\n",
      "--------------------------------------------------------\n",
      "11.2 M    Trainable params\n",
      "0         Non-trainable params\n",
      "11.2 M    Total params\n",
      "44.727    Total estimated model params size (MB)\n",
      "71        Modules in train mode\n",
      "0         Modules in eval mode\n"
     ]
    },
    {
     "data": {
      "application/vnd.jupyter.widget-view+json": {
       "model_id": "a79d0dcc2ba5455babf10c1f16687a98",
       "version_major": 2,
       "version_minor": 0
      },
      "text/plain": [
       "Sanity Checking: |          | 0/? [00:00<?, ?it/s]"
      ]
     },
     "metadata": {},
     "output_type": "display_data"
    },
    {
     "data": {
      "application/vnd.jupyter.widget-view+json": {
       "model_id": "d8a8d2231c3c49289ef59e550c104d26",
       "version_major": 2,
       "version_minor": 0
      },
      "text/plain": [
       "Training: |          | 0/? [00:00<?, ?it/s]"
      ]
     },
     "metadata": {},
     "output_type": "display_data"
    },
    {
     "data": {
      "application/vnd.jupyter.widget-view+json": {
       "model_id": "c3e5bd2328574c6d8e44825ecacc5f96",
       "version_major": 2,
       "version_minor": 0
      },
      "text/plain": [
       "Validation: |          | 0/? [00:00<?, ?it/s]"
      ]
     },
     "metadata": {},
     "output_type": "display_data"
    },
    {
     "name": "stderr",
     "output_type": "stream",
     "text": [
      "`Trainer.fit` stopped: `max_epochs=30` reached.\n"
     ]
    }
   ],
   "source": [
    "model = LResNet(resnet18, 2e-3, 1e-5)\n",
    "trainer = pl.Trainer(precision=\"bf16-mixed\", max_epochs=30, check_val_every_n_epoch=30, log_every_n_steps=1) \n",
    "trainer.fit(model, train_loader, test_loader)"
   ]
  },
  {
   "cell_type": "code",
   "execution_count": 36,
   "id": "a421de19-ba69-47b1-ba0b-43056f599547",
   "metadata": {},
   "outputs": [
    {
     "name": "stderr",
     "output_type": "stream",
     "text": [
      "LOCAL_RANK: 0 - CUDA_VISIBLE_DEVICES: [0]\n"
     ]
    },
    {
     "data": {
      "application/vnd.jupyter.widget-view+json": {
       "model_id": "0d1f820bf0ef49618b2e76d37f5f62bc",
       "version_major": 2,
       "version_minor": 0
      },
      "text/plain": [
       "Validation: |          | 0/? [00:00<?, ?it/s]"
      ]
     },
     "metadata": {},
     "output_type": "display_data"
    },
    {
     "data": {
      "text/html": [
       "<pre style=\"white-space:pre;overflow-x:auto;line-height:normal;font-family:Menlo,'DejaVu Sans Mono',consolas,'Courier New',monospace\">┏━━━━━━━━━━━━━━━━━━━━━━━━━━━┳━━━━━━━━━━━━━━━━━━━━━━━━━━━┓\n",
       "┃<span style=\"font-weight: bold\">      Validate metric      </span>┃<span style=\"font-weight: bold\">       DataLoader 0        </span>┃\n",
       "┡━━━━━━━━━━━━━━━━━━━━━━━━━━━╇━━━━━━━━━━━━━━━━━━━━━━━━━━━┩\n",
       "│<span style=\"color: #008080; text-decoration-color: #008080\">          val_acc          </span>│<span style=\"color: #800080; text-decoration-color: #800080\">    0.7163000106811523     </span>│\n",
       "│<span style=\"color: #008080; text-decoration-color: #008080\">         val_loss          </span>│<span style=\"color: #800080; text-decoration-color: #800080\">    0.8184337615966797     </span>│\n",
       "└───────────────────────────┴───────────────────────────┘\n",
       "</pre>\n"
      ],
      "text/plain": [
       "┏━━━━━━━━━━━━━━━━━━━━━━━━━━━┳━━━━━━━━━━━━━━━━━━━━━━━━━━━┓\n",
       "┃\u001b[1m \u001b[0m\u001b[1m     Validate metric     \u001b[0m\u001b[1m \u001b[0m┃\u001b[1m \u001b[0m\u001b[1m      DataLoader 0       \u001b[0m\u001b[1m \u001b[0m┃\n",
       "┡━━━━━━━━━━━━━━━━━━━━━━━━━━━╇━━━━━━━━━━━━━━━━━━━━━━━━━━━┩\n",
       "│\u001b[36m \u001b[0m\u001b[36m         val_acc         \u001b[0m\u001b[36m \u001b[0m│\u001b[35m \u001b[0m\u001b[35m   0.7163000106811523    \u001b[0m\u001b[35m \u001b[0m│\n",
       "│\u001b[36m \u001b[0m\u001b[36m        val_loss         \u001b[0m\u001b[36m \u001b[0m│\u001b[35m \u001b[0m\u001b[35m   0.8184337615966797    \u001b[0m\u001b[35m \u001b[0m│\n",
       "└───────────────────────────┴───────────────────────────┘\n"
      ]
     },
     "metadata": {},
     "output_type": "display_data"
    },
    {
     "data": {
      "text/plain": [
       "[{'val_loss': 0.8184337615966797, 'val_acc': 0.7163000106811523}]"
      ]
     },
     "execution_count": 36,
     "metadata": {},
     "output_type": "execute_result"
    }
   ],
   "source": [
    "trainer.validate(model, test_loader)"
   ]
  },
  {
   "cell_type": "markdown",
   "id": "41ce7a86-055d-495c-a296-0faeef9f7531",
   "metadata": {},
   "source": [
    "Accuracy suffers slightly due to reduced precision... but this argument matters a lot more with larger models (like transformers) so I'll keep it! "
   ]
  },
  {
   "cell_type": "markdown",
   "id": "565913ec-ad16-4f21-967f-8aa9dca85280",
   "metadata": {},
   "source": [
    "Next, let's try using torch's optimization features to improve the speed of running the model."
   ]
  },
  {
   "cell_type": "code",
   "execution_count": 42,
   "id": "09a97c64-3868-44fb-ba9d-6f651c738125",
   "metadata": {},
   "outputs": [],
   "source": [
    "torch.backends.cudnn.benchmark = True # this allows cuda to choose the fastest operations\n",
    "model = LResNet(resnet18, 2e-3, 1e-5)\n",
    "# model = torch.compile(model) # fuse everything to get a modest speedup. however, compile really, really hates random augmentations in the model, so i don't do this."
   ]
  },
  {
   "cell_type": "code",
   "execution_count": 43,
   "id": "d6ab7cac-7816-49ca-9478-218e1fc4f141",
   "metadata": {},
   "outputs": [
    {
     "name": "stderr",
     "output_type": "stream",
     "text": [
      "Using bfloat16 Automatic Mixed Precision (AMP)\n",
      "Using default `ModelCheckpoint`. Consider installing `litmodels` package to enable `LitModelCheckpoint` for automatic upload to the Lightning model registry.\n",
      "GPU available: True (cuda), used: True\n",
      "TPU available: False, using: 0 TPU cores\n",
      "HPU available: False, using: 0 HPUs\n",
      "LOCAL_RANK: 0 - CUDA_VISIBLE_DEVICES: [0]\n",
      "\n",
      "  | Name     | Type               | Params | Mode \n",
      "--------------------------------------------------------\n",
      "0 | resnet   | ResNet             | 11.2 M | train\n",
      "1 | accuracy | MulticlassAccuracy | 0      | train\n",
      "2 | img_norm | Normalize          | 0      | train\n",
      "3 | img_aug  | AutoAugment        | 0      | train\n",
      "--------------------------------------------------------\n",
      "11.2 M    Trainable params\n",
      "0         Non-trainable params\n",
      "11.2 M    Total params\n",
      "44.727    Total estimated model params size (MB)\n",
      "71        Modules in train mode\n",
      "0         Modules in eval mode\n"
     ]
    },
    {
     "data": {
      "application/vnd.jupyter.widget-view+json": {
       "model_id": "d976348a8e564a069821c8fc82d04df6",
       "version_major": 2,
       "version_minor": 0
      },
      "text/plain": [
       "Sanity Checking: |          | 0/? [00:00<?, ?it/s]"
      ]
     },
     "metadata": {},
     "output_type": "display_data"
    },
    {
     "data": {
      "application/vnd.jupyter.widget-view+json": {
       "model_id": "1d63dfc48caa4162990fd745c293caee",
       "version_major": 2,
       "version_minor": 0
      },
      "text/plain": [
       "Training: |          | 0/? [00:00<?, ?it/s]"
      ]
     },
     "metadata": {},
     "output_type": "display_data"
    },
    {
     "data": {
      "application/vnd.jupyter.widget-view+json": {
       "model_id": "aab226070d2c4b0c92d04de5ed2c2270",
       "version_major": 2,
       "version_minor": 0
      },
      "text/plain": [
       "Validation: |          | 0/? [00:00<?, ?it/s]"
      ]
     },
     "metadata": {},
     "output_type": "display_data"
    },
    {
     "name": "stderr",
     "output_type": "stream",
     "text": [
      "`Trainer.fit` stopped: `max_epochs=30` reached.\n"
     ]
    }
   ],
   "source": [
    "trainer = pl.Trainer(precision=\"bf16-mixed\", max_epochs=30, check_val_every_n_epoch=30, log_every_n_steps=1) \n",
    "trainer.fit(model, train_loader, test_loader)"
   ]
  },
  {
   "cell_type": "code",
   "execution_count": 44,
   "id": "69305e57-dbc3-4a21-9cec-f928cd71f8a4",
   "metadata": {},
   "outputs": [
    {
     "name": "stderr",
     "output_type": "stream",
     "text": [
      "LOCAL_RANK: 0 - CUDA_VISIBLE_DEVICES: [0]\n"
     ]
    },
    {
     "data": {
      "application/vnd.jupyter.widget-view+json": {
       "model_id": "e0962414dbfb4a48bf387b56d6734a45",
       "version_major": 2,
       "version_minor": 0
      },
      "text/plain": [
       "Validation: |          | 0/? [00:00<?, ?it/s]"
      ]
     },
     "metadata": {},
     "output_type": "display_data"
    },
    {
     "data": {
      "text/html": [
       "<pre style=\"white-space:pre;overflow-x:auto;line-height:normal;font-family:Menlo,'DejaVu Sans Mono',consolas,'Courier New',monospace\">┏━━━━━━━━━━━━━━━━━━━━━━━━━━━┳━━━━━━━━━━━━━━━━━━━━━━━━━━━┓\n",
       "┃<span style=\"font-weight: bold\">      Validate metric      </span>┃<span style=\"font-weight: bold\">       DataLoader 0        </span>┃\n",
       "┡━━━━━━━━━━━━━━━━━━━━━━━━━━━╇━━━━━━━━━━━━━━━━━━━━━━━━━━━┩\n",
       "│<span style=\"color: #008080; text-decoration-color: #008080\">          val_acc          </span>│<span style=\"color: #800080; text-decoration-color: #800080\">     0.703000009059906     </span>│\n",
       "│<span style=\"color: #008080; text-decoration-color: #008080\">         val_loss          </span>│<span style=\"color: #800080; text-decoration-color: #800080\">    0.8609970808029175     </span>│\n",
       "└───────────────────────────┴───────────────────────────┘\n",
       "</pre>\n"
      ],
      "text/plain": [
       "┏━━━━━━━━━━━━━━━━━━━━━━━━━━━┳━━━━━━━━━━━━━━━━━━━━━━━━━━━┓\n",
       "┃\u001b[1m \u001b[0m\u001b[1m     Validate metric     \u001b[0m\u001b[1m \u001b[0m┃\u001b[1m \u001b[0m\u001b[1m      DataLoader 0       \u001b[0m\u001b[1m \u001b[0m┃\n",
       "┡━━━━━━━━━━━━━━━━━━━━━━━━━━━╇━━━━━━━━━━━━━━━━━━━━━━━━━━━┩\n",
       "│\u001b[36m \u001b[0m\u001b[36m         val_acc         \u001b[0m\u001b[36m \u001b[0m│\u001b[35m \u001b[0m\u001b[35m    0.703000009059906    \u001b[0m\u001b[35m \u001b[0m│\n",
       "│\u001b[36m \u001b[0m\u001b[36m        val_loss         \u001b[0m\u001b[36m \u001b[0m│\u001b[35m \u001b[0m\u001b[35m   0.8609970808029175    \u001b[0m\u001b[35m \u001b[0m│\n",
       "└───────────────────────────┴───────────────────────────┘\n"
      ]
     },
     "metadata": {},
     "output_type": "display_data"
    },
    {
     "data": {
      "text/plain": [
       "[{'val_loss': 0.8609970808029175, 'val_acc': 0.703000009059906}]"
      ]
     },
     "execution_count": 44,
     "metadata": {},
     "output_type": "execute_result"
    }
   ],
   "source": [
    "trainer.validate(model, test_loader)"
   ]
  },
  {
   "cell_type": "markdown",
   "id": "b279cf7b-8150-46ef-9e2d-82309efaf13c",
   "metadata": {},
   "source": [
    "Wow, accuracy really tanking hard. I blame deterministic behaviour.  \n",
    "\n",
    "Looking at the checklists, I realize this is basically all we can do for getting good speed - so let's just crank up the epochs one last time to see what the highest accuracy is! I'll give a deadline of maybe 15 minutes for training on this GPU (renting a 3060 right now) so we'll go for 100 epochs. I've also reduced the warmup epochs to 10% (instead of the default 30%) since we have the longer training schedule.  \n",
    "\n",
    "I'll stopwatch the entire chunk of code from import to validation."
   ]
  },
  {
   "cell_type": "markdown",
   "id": "fab74885-180b-4c48-92a5-e53e07831de9",
   "metadata": {},
   "source": [
    "### The Final Code"
   ]
  },
  {
   "cell_type": "code",
   "execution_count": 1,
   "id": "83421385-30d4-4e04-bf80-4a2a6b85a290",
   "metadata": {},
   "outputs": [],
   "source": [
    "import torch\n",
    "import torch.nn as nn\n",
    "import torchvision\n",
    "from torchvision.models import resnet18\n",
    "import pytorch_lightning as pl\n",
    "import torchmetrics\n",
    "from torchvision.transforms import v2"
   ]
  },
  {
   "cell_type": "code",
   "execution_count": 2,
   "id": "85e7408d-ee33-4faa-8445-fd9f461bc8a8",
   "metadata": {},
   "outputs": [
    {
     "name": "stdout",
     "output_type": "stream",
     "text": [
      "Files already downloaded and verified\n",
      "Files already downloaded and verified\n"
     ]
    }
   ],
   "source": [
    "img_transforms = v2.Compose([\n",
    "    v2.ToImage(),\n",
    "])\n",
    "\n",
    "train_ds = torchvision.datasets.CIFAR10(root=\"data\", train=True, download=True, transform=img_transforms)\n",
    "test_ds = torchvision.datasets.CIFAR10(root=\"data\", train=False, download=True, transform=img_transforms)\n",
    "\n",
    "train_loader = torch.utils.data.DataLoader(train_ds, batch_size=4096, shuffle=True, num_workers=3, pin_memory=True, prefetch_factor=2, persistent_workers=True)\n",
    "test_loader = torch.utils.data.DataLoader(test_ds, batch_size=4096, shuffle=False, num_workers=3, pin_memory=True, prefetch_factor=2, persistent_workers=True)"
   ]
  },
  {
   "cell_type": "code",
   "execution_count": 3,
   "id": "12737669-071b-4718-ad05-fd178f43bfb3",
   "metadata": {},
   "outputs": [],
   "source": [
    "torch.set_float32_matmul_precision('high')\n",
    "torch.backends.cudnn.benchmark = True"
   ]
  },
  {
   "cell_type": "code",
   "execution_count": 4,
   "id": "f9e7c5fe-6141-4629-91e0-08460d7aede2",
   "metadata": {},
   "outputs": [],
   "source": [
    "class LResNet(pl.LightningModule):\n",
    "    def __init__(self, resnet_cls, max_lr, min_lr):\n",
    "        super().__init__()\n",
    "        self.resnet = resnet_cls()\n",
    "        self.resnet.fc = nn.Linear(512, 10)\n",
    "        self.max_lr = max_lr\n",
    "        self.min_lr = min_lr\n",
    "        \n",
    "        self.accuracy = torchmetrics.Accuracy(\"multiclass\", num_classes=10)\n",
    "\n",
    "        self.img_scale = v2.ToDtype(torch.float32, scale=True)\n",
    "        self.img_norm = v2.Normalize([0.48, 0.44, 0.40], [0.22, 0.22, 0.22])\n",
    "        self.img_aug = v2.AutoAugment(v2.AutoAugmentPolicy.CIFAR10)\n",
    "\n",
    "    def training_step(self, batch, batch_idx):\n",
    "        X, y = batch\n",
    "        X = self.img_norm(self.img_scale(self.img_aug(X)))\n",
    "        y_pred = self.resnet(X)\n",
    "        loss = nn.functional.cross_entropy(y_pred, y)\n",
    "        self.log(\"train_loss\", loss)\n",
    "        acc = self.accuracy(y_pred, y)\n",
    "        self.log(\"train_acc\", acc)\n",
    "\n",
    "        return loss\n",
    "\n",
    "    def validation_step(self, batch, batch_idx):\n",
    "        X, y = batch\n",
    "        X = self.img_norm(self.img_scale(X))\n",
    "        y_pred = self.resnet(X)\n",
    "        loss = nn.functional.cross_entropy(y_pred, y)\n",
    "        self.log(\"val_loss\", loss)\n",
    "        acc = self.accuracy(y_pred, y)\n",
    "        self.log(\"val_acc\", acc)\n",
    "\n",
    "    def configure_optimizers(self):\n",
    "        optimizer = torch.optim.AdamW(self.resnet.parameters(), lr=self.min_lr)\n",
    "        scheduler = torch.optim.lr_scheduler.OneCycleLR(optimizer, max_lr=self.max_lr, epochs=100, steps_per_epoch=len(train_loader), div_factor=self.max_lr/self.min_lr, pct_start=0.1)\n",
    "        return [optimizer], [{\"scheduler\": scheduler, \"interval\": \"step\"}]"
   ]
  },
  {
   "cell_type": "code",
   "execution_count": 5,
   "id": "74f972c3-7f15-4b36-80e8-348f48822b35",
   "metadata": {},
   "outputs": [
    {
     "name": "stderr",
     "output_type": "stream",
     "text": [
      "Using bfloat16 Automatic Mixed Precision (AMP)\n",
      "Using default `ModelCheckpoint`. Consider installing `litmodels` package to enable `LitModelCheckpoint` for automatic upload to the Lightning model registry.\n",
      "GPU available: True (cuda), used: True\n",
      "TPU available: False, using: 0 TPU cores\n",
      "HPU available: False, using: 0 HPUs\n",
      "LOCAL_RANK: 0 - CUDA_VISIBLE_DEVICES: [0]\n",
      "\n",
      "  | Name      | Type               | Params | Mode \n",
      "---------------------------------------------------------\n",
      "0 | resnet    | ResNet             | 11.2 M | train\n",
      "1 | accuracy  | MulticlassAccuracy | 0      | train\n",
      "2 | img_scale | ToDtype            | 0      | train\n",
      "3 | img_norm  | Normalize          | 0      | train\n",
      "4 | img_aug   | AutoAugment        | 0      | train\n",
      "---------------------------------------------------------\n",
      "11.2 M    Trainable params\n",
      "0         Non-trainable params\n",
      "11.2 M    Total params\n",
      "44.727    Total estimated model params size (MB)\n",
      "72        Modules in train mode\n",
      "0         Modules in eval mode\n"
     ]
    },
    {
     "data": {
      "application/vnd.jupyter.widget-view+json": {
       "model_id": "2905375eb6144b199e9a65875914a55d",
       "version_major": 2,
       "version_minor": 0
      },
      "text/plain": [
       "Sanity Checking: |          | 0/? [00:00<?, ?it/s]"
      ]
     },
     "metadata": {},
     "output_type": "display_data"
    },
    {
     "data": {
      "application/vnd.jupyter.widget-view+json": {
       "model_id": "7e748b3d1ca647f7a286ac24d3fadada",
       "version_major": 2,
       "version_minor": 0
      },
      "text/plain": [
       "Training: |          | 0/? [00:00<?, ?it/s]"
      ]
     },
     "metadata": {},
     "output_type": "display_data"
    },
    {
     "data": {
      "application/vnd.jupyter.widget-view+json": {
       "model_id": "be00c159bcd1499dacf921796572dd5c",
       "version_major": 2,
       "version_minor": 0
      },
      "text/plain": [
       "Validation: |          | 0/? [00:00<?, ?it/s]"
      ]
     },
     "metadata": {},
     "output_type": "display_data"
    },
    {
     "data": {
      "application/vnd.jupyter.widget-view+json": {
       "model_id": "e8ad63b9931d4798aee725adf0afc59f",
       "version_major": 2,
       "version_minor": 0
      },
      "text/plain": [
       "Validation: |          | 0/? [00:00<?, ?it/s]"
      ]
     },
     "metadata": {},
     "output_type": "display_data"
    },
    {
     "data": {
      "application/vnd.jupyter.widget-view+json": {
       "model_id": "16feffe0bc51480db6511e76f88609c5",
       "version_major": 2,
       "version_minor": 0
      },
      "text/plain": [
       "Validation: |          | 0/? [00:00<?, ?it/s]"
      ]
     },
     "metadata": {},
     "output_type": "display_data"
    },
    {
     "data": {
      "application/vnd.jupyter.widget-view+json": {
       "model_id": "a6603d24f19b4db0a1c00efb040411be",
       "version_major": 2,
       "version_minor": 0
      },
      "text/plain": [
       "Validation: |          | 0/? [00:00<?, ?it/s]"
      ]
     },
     "metadata": {},
     "output_type": "display_data"
    },
    {
     "name": "stderr",
     "output_type": "stream",
     "text": [
      "`Trainer.fit` stopped: `max_epochs=100` reached.\n"
     ]
    }
   ],
   "source": [
    "model = LResNet(resnet18, 2e-3, 1e-5)\n",
    "trainer = pl.Trainer(precision=\"bf16-mixed\", max_epochs=100, check_val_every_n_epoch=25, log_every_n_steps=5) \n",
    "trainer.fit(model, train_loader, test_loader)"
   ]
  },
  {
   "cell_type": "code",
   "execution_count": 6,
   "id": "f0979ddd-f418-414e-bec7-51699b781eba",
   "metadata": {},
   "outputs": [
    {
     "name": "stderr",
     "output_type": "stream",
     "text": [
      "LOCAL_RANK: 0 - CUDA_VISIBLE_DEVICES: [0]\n"
     ]
    },
    {
     "data": {
      "application/vnd.jupyter.widget-view+json": {
       "model_id": "55b97f3304374c799201c11823660a50",
       "version_major": 2,
       "version_minor": 0
      },
      "text/plain": [
       "Validation: |          | 0/? [00:00<?, ?it/s]"
      ]
     },
     "metadata": {},
     "output_type": "display_data"
    },
    {
     "data": {
      "text/html": [
       "<pre style=\"white-space:pre;overflow-x:auto;line-height:normal;font-family:Menlo,'DejaVu Sans Mono',consolas,'Courier New',monospace\">┏━━━━━━━━━━━━━━━━━━━━━━━━━━━┳━━━━━━━━━━━━━━━━━━━━━━━━━━━┓\n",
       "┃<span style=\"font-weight: bold\">      Validate metric      </span>┃<span style=\"font-weight: bold\">       DataLoader 0        </span>┃\n",
       "┡━━━━━━━━━━━━━━━━━━━━━━━━━━━╇━━━━━━━━━━━━━━━━━━━━━━━━━━━┩\n",
       "│<span style=\"color: #008080; text-decoration-color: #008080\">          val_acc          </span>│<span style=\"color: #800080; text-decoration-color: #800080\">    0.7807999849319458     </span>│\n",
       "│<span style=\"color: #008080; text-decoration-color: #008080\">         val_loss          </span>│<span style=\"color: #800080; text-decoration-color: #800080\">    0.7300027012825012     </span>│\n",
       "└───────────────────────────┴───────────────────────────┘\n",
       "</pre>\n"
      ],
      "text/plain": [
       "┏━━━━━━━━━━━━━━━━━━━━━━━━━━━┳━━━━━━━━━━━━━━━━━━━━━━━━━━━┓\n",
       "┃\u001b[1m \u001b[0m\u001b[1m     Validate metric     \u001b[0m\u001b[1m \u001b[0m┃\u001b[1m \u001b[0m\u001b[1m      DataLoader 0       \u001b[0m\u001b[1m \u001b[0m┃\n",
       "┡━━━━━━━━━━━━━━━━━━━━━━━━━━━╇━━━━━━━━━━━━━━━━━━━━━━━━━━━┩\n",
       "│\u001b[36m \u001b[0m\u001b[36m         val_acc         \u001b[0m\u001b[36m \u001b[0m│\u001b[35m \u001b[0m\u001b[35m   0.7807999849319458    \u001b[0m\u001b[35m \u001b[0m│\n",
       "│\u001b[36m \u001b[0m\u001b[36m        val_loss         \u001b[0m\u001b[36m \u001b[0m│\u001b[35m \u001b[0m\u001b[35m   0.7300027012825012    \u001b[0m\u001b[35m \u001b[0m│\n",
       "└───────────────────────────┴───────────────────────────┘\n"
      ]
     },
     "metadata": {},
     "output_type": "display_data"
    },
    {
     "data": {
      "text/plain": [
       "[{'val_loss': 0.7300027012825012, 'val_acc': 0.7807999849319458}]"
      ]
     },
     "execution_count": 6,
     "metadata": {},
     "output_type": "execute_result"
    }
   ],
   "source": [
    "trainer.validate(model, test_loader)"
   ]
  },
  {
   "cell_type": "markdown",
   "id": "9850c5fb-d804-4368-b668-32c33789c885",
   "metadata": {},
   "source": [
    "Okay I actually missed the thing ending :( but I stopped the clock at 6 mins so overall this is still hella fast!!!"
   ]
  },
  {
   "cell_type": "code",
   "execution_count": 8,
   "id": "ce16a7cf-8178-4508-aa1a-5239994d397f",
   "metadata": {},
   "outputs": [],
   "source": [
    "torch.save(model.resnet.state_dict(), \"model.pth\")"
   ]
  }
 ],
 "metadata": {
  "kernelspec": {
   "display_name": "Python3 (ipykernel)",
   "language": "python",
   "name": "python3"
  },
  "language_info": {
   "codemirror_mode": {
    "name": "ipython",
    "version": 3
   },
   "file_extension": ".py",
   "mimetype": "text/x-python",
   "name": "python",
   "nbconvert_exporter": "python",
   "pygments_lexer": "ipython3",
   "version": "3.10.12"
  }
 },
 "nbformat": 4,
 "nbformat_minor": 5
}
