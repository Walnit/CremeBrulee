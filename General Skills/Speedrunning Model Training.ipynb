{
 "cells": [
  {
   "cell_type": "markdown",
   "id": "680715ec-ac32-473e-92ff-12fe07c392ad",
   "metadata": {},
   "source": [
    "# Speedrunning Model Training\n",
    "(includes `pytorch-lightning`!!)  \n",
    "\n",
    "More often than not, you'll want to train your models as soon as possible. Maybe you're in a competition, or you're testing an architecture preliminarily, or maybe you're just really lazy. So, how can we squeeze the most time out of what we have?  \n",
    "\n",
    "This is a list of techniques to use, one by one, to see how much we can improve training time by. We evalutate our techniques by training ResNet18 from scratch on CIFAR-10 for 10 epochs.  \n",
    "\n",
    "Much of the techniques below were taken from the sources below:  \n",
    "https://www.reddit.com/r/MachineLearning/comments/kvs1ex/d_here_are_17_ways_of_making_pytorch_training/  \n",
    "https://lightning.ai/pages/community/tutorial/how-to-speed-up-pytorch-model-training/"
   ]
  },
  {
   "cell_type": "code",
   "execution_count": 1,
   "id": "aff8ec0a-710e-4b73-8057-20182defe6c6",
   "metadata": {},
   "outputs": [],
   "source": [
    "import torch\n",
    "import torch.nn as nn\n",
    "import torchvision"
   ]
  },
  {
   "cell_type": "markdown",
   "id": "303bbab3-7452-43d4-9f7a-b2e81a5d9665",
   "metadata": {},
   "source": [
    "### The Baseline\n",
    "Here, we just import CIFAR-10 and apply some augmentations. Nothing special!  "
   ]
  },
  {
   "cell_type": "code",
   "execution_count": 2,
   "id": "c42f865a-b6f0-4001-8421-688b2741bacc",
   "metadata": {},
   "outputs": [],
   "source": [
    "from torchvision.transforms import v2"
   ]
  },
  {
   "cell_type": "code",
   "execution_count": 3,
   "id": "9ac458da-773b-4e85-b92a-a6b241d4b638",
   "metadata": {
    "scrolled": true
   },
   "outputs": [],
   "source": [
    "train_transforms = v2.Compose([\n",
    "    v2.ToImage(),\n",
    "    v2.Resize((32, 32)),\n",
    "    v2.AutoAugment(v2.AutoAugmentPolicy.CIFAR10),\n",
    "    v2.ToDtype(torch.float32, scale=True),\n",
    "    v2.Normalize([0.48, 0.44, 0.40], [0.22, 0.22, 0.22])\n",
    "])\n",
    "test_transforms = v2.Compose([\n",
    "    v2.ToImage(),\n",
    "    v2.Resize((32, 32)),\n",
    "    v2.ToDtype(torch.float32, scale=True),\n",
    "    v2.Normalize([0.48, 0.44, 0.40], [0.22, 0.22, 0.22])\n",
    "])\n",
    "\n",
    "\n",
    "train_ds = torchvision.datasets.CIFAR10(root=\"data\", train=True, download=True, transform=train_transforms)\n",
    "test_ds = torchvision.datasets.CIFAR10(root=\"data\", train=False, download=True, transform=test_transforms)"
   ]
  },
  {
   "cell_type": "code",
   "execution_count": 4,
   "id": "4e7943a1-2111-4ac4-bb69-1cdc7d051a55",
   "metadata": {},
   "outputs": [],
   "source": [
    "train_loader = torch.utils.data.DataLoader(train_ds, batch_size=32, shuffle=True, num_workers=2)\n",
    "test_loader = torch.utils.data.DataLoader(test_ds, batch_size=32, shuffle=False, num_workers=2)"
   ]
  },
  {
   "cell_type": "markdown",
   "id": "6a8be5ca-1b02-4e38-8cd9-61b8d20175c0",
   "metadata": {},
   "source": [
    "As mentioned above, we use ResNet18. TorchVision provides the architecture for us, and in this case, we do not load any pretrained weights as we want to train it from scratch."
   ]
  },
  {
   "cell_type": "code",
   "execution_count": 5,
   "id": "69780eaa-a899-4fb9-bffe-8562c2ae50d5",
   "metadata": {},
   "outputs": [],
   "source": [
    "from torchvision.models import resnet18"
   ]
  },
  {
   "cell_type": "code",
   "execution_count": 6,
   "id": "3d588209-c879-4bd0-84ed-953507ee97cc",
   "metadata": {
    "scrolled": true
   },
   "outputs": [],
   "source": [
    "model = resnet18()"
   ]
  },
  {
   "cell_type": "markdown",
   "id": "043c00ff-f4db-4189-8c06-f37235f1e723",
   "metadata": {},
   "source": [
    "I'm gonna use PyTorch Lightning because, well, I'm a lazy person - and it's addictive how lazy you can get using Lightning. Just plug in your module and let the framework handle the training for you!"
   ]
  },
  {
   "cell_type": "code",
   "execution_count": 7,
   "id": "9639d4a5-79de-42b1-822a-e47397857edb",
   "metadata": {},
   "outputs": [],
   "source": [
    "import pytorch_lightning as pl\n",
    "import torchmetrics"
   ]
  },
  {
   "cell_type": "code",
   "execution_count": 8,
   "id": "1e8af289-035d-4426-b913-3f878a6bafdf",
   "metadata": {},
   "outputs": [],
   "source": [
    "class LResNet(pl.LightningModule):\n",
    "    def __init__(self, resnet_cls, lr):\n",
    "        super().__init__()\n",
    "        self.resnet = resnet_cls()\n",
    "        self.resnet.fc = nn.Linear(512, 10)\n",
    "        self.lr = lr\n",
    "\n",
    "        self.accuracy = torchmetrics.Accuracy(\"multiclass\", num_classes=10)\n",
    "\n",
    "    def training_step(self, batch, batch_idx):\n",
    "        X, y = batch\n",
    "        y_pred = self.resnet(X)\n",
    "        loss = nn.functional.cross_entropy(y_pred, y)\n",
    "        self.log(\"train_loss\", loss)\n",
    "        acc = self.accuracy(y_pred, y)\n",
    "        self.log(\"train_acc\", acc)\n",
    "\n",
    "        return loss\n",
    "\n",
    "    def validation_step(self, batch, batch_idx):\n",
    "        X, y = batch\n",
    "        y_pred = self.resnet(X)\n",
    "        loss = nn.functional.cross_entropy(y_pred, y)\n",
    "        self.log(\"val_loss\", loss)\n",
    "        acc = self.accuracy(y_pred, y)\n",
    "        self.log(\"val_acc\", acc)\n",
    "\n",
    "    def configure_optimizers(self):\n",
    "        return torch.optim.AdamW(self.resnet.parameters(), lr=self.lr)\n",
    "\n",
    "model = LResNet(resnet18, 3e-4)"
   ]
  },
  {
   "cell_type": "markdown",
   "id": "8fad56ce-bcd1-4708-a0fe-b18674832eb5",
   "metadata": {},
   "source": [
    "Above I set the learning rate to `3e-4` - which is safe for most models using Adam-based optimizers. Reference https://karpathy.github.io/2019/04/25/recipe/ for more tricks like this!  "
   ]
  },
  {
   "cell_type": "code",
   "execution_count": 9,
   "id": "6ae9cb07-acb1-4850-a010-36342cdc71b2",
   "metadata": {
    "collapsed": true,
    "jupyter": {
     "outputs_hidden": true
    }
   },
   "outputs": [
    {
     "name": "stderr",
     "output_type": "stream",
     "text": [
      "GPU available: True (cuda), used: True\n",
      "TPU available: False, using: 0 TPU cores\n",
      "HPU available: False, using: 0 HPUs\n",
      "You are using a CUDA device ('NVIDIA GeForce RTX 5060 Ti') that has Tensor Cores. To properly utilize them, you should set `torch.set_float32_matmul_precision('medium' | 'high')` which will trade-off precision for performance. For more details, read https://pytorch.org/docs/stable/generated/torch.set_float32_matmul_precision.html#torch.set_float32_matmul_precision\n",
      "LOCAL_RANK: 0 - CUDA_VISIBLE_DEVICES: [0]\n",
      "\n",
      "  | Name     | Type               | Params | Mode \n",
      "--------------------------------------------------------\n",
      "0 | resnet   | ResNet             | 11.2 M | train\n",
      "1 | accuracy | MulticlassAccuracy | 0      | train\n",
      "--------------------------------------------------------\n",
      "11.2 M    Trainable params\n",
      "0         Non-trainable params\n",
      "11.2 M    Total params\n",
      "44.727    Total estimated model params size (MB)\n",
      "69        Modules in train mode\n",
      "0         Modules in eval mode\n"
     ]
    },
    {
     "data": {
      "application/vnd.jupyter.widget-view+json": {
       "model_id": "23093803b627418f8e6331ba46949b2d",
       "version_major": 2,
       "version_minor": 0
      },
      "text/plain": [
       "Sanity Checking: |          | 0/? [00:00<?, ?it/s]"
      ]
     },
     "metadata": {},
     "output_type": "display_data"
    },
    {
     "data": {
      "application/vnd.jupyter.widget-view+json": {
       "model_id": "3022b7096f6e4f6a9dd023d17f03bb64",
       "version_major": 2,
       "version_minor": 0
      },
      "text/plain": [
       "Training: |          | 0/? [00:00<?, ?it/s]"
      ]
     },
     "metadata": {},
     "output_type": "display_data"
    },
    {
     "data": {
      "application/vnd.jupyter.widget-view+json": {
       "model_id": "c1c59ae9e9944139aba82adb08639037",
       "version_major": 2,
       "version_minor": 0
      },
      "text/plain": [
       "Validation: |          | 0/? [00:00<?, ?it/s]"
      ]
     },
     "metadata": {},
     "output_type": "display_data"
    },
    {
     "data": {
      "application/vnd.jupyter.widget-view+json": {
       "model_id": "932fb45077724743afc742b4ffaafe8e",
       "version_major": 2,
       "version_minor": 0
      },
      "text/plain": [
       "Validation: |          | 0/? [00:00<?, ?it/s]"
      ]
     },
     "metadata": {},
     "output_type": "display_data"
    },
    {
     "name": "stderr",
     "output_type": "stream",
     "text": [
      "`Trainer.fit` stopped: `max_epochs=10` reached.\n"
     ]
    },
    {
     "name": "stdout",
     "output_type": "stream",
     "text": [
      "CPU times: user 1min 37s, sys: 4.93 s, total: 1min 42s\n",
      "Wall time: 1min 39s\n"
     ]
    }
   ],
   "source": [
    "%%time\n",
    "trainer = pl.Trainer(max_epochs=10, check_val_every_n_epoch=5, enable_checkpointing=False)\n",
    "trainer.fit(model, train_loader, test_loader) "
   ]
  },
  {
   "cell_type": "markdown",
   "id": "c686a80a-9957-4d89-93ff-a23e2e687f3f",
   "metadata": {},
   "source": [
    "On this RTX 5060Ti that I'm renting, I get ~160it/s, and training the entire thing takes 1m 38s.  \n",
    "*(You can expand the cell above to see the outputs. I'll be hiding a lot of outputs and cell contents which I deem not useful, but you can read them if you'd like!)*  \n",
    "\n",
    "Let's see our accuracy..."
   ]
  },
  {
   "cell_type": "code",
   "execution_count": 10,
   "id": "bf336679-7b3a-4a5e-8fa1-725f63b4897b",
   "metadata": {},
   "outputs": [
    {
     "name": "stderr",
     "output_type": "stream",
     "text": [
      "LOCAL_RANK: 0 - CUDA_VISIBLE_DEVICES: [0]\n"
     ]
    },
    {
     "data": {
      "application/vnd.jupyter.widget-view+json": {
       "model_id": "14ba4170731d49919017182eb2ebc55d",
       "version_major": 2,
       "version_minor": 0
      },
      "text/plain": [
       "Validation: |          | 0/? [00:00<?, ?it/s]"
      ]
     },
     "metadata": {},
     "output_type": "display_data"
    },
    {
     "data": {
      "text/html": [
       "<pre style=\"white-space:pre;overflow-x:auto;line-height:normal;font-family:Menlo,'DejaVu Sans Mono',consolas,'Courier New',monospace\">┏━━━━━━━━━━━━━━━━━━━━━━━━━━━┳━━━━━━━━━━━━━━━━━━━━━━━━━━━┓\n",
       "┃<span style=\"font-weight: bold\">      Validate metric      </span>┃<span style=\"font-weight: bold\">       DataLoader 0        </span>┃\n",
       "┡━━━━━━━━━━━━━━━━━━━━━━━━━━━╇━━━━━━━━━━━━━━━━━━━━━━━━━━━┩\n",
       "│<span style=\"color: #008080; text-decoration-color: #008080\">          val_acc          </span>│<span style=\"color: #800080; text-decoration-color: #800080\">    0.7633000016212463     </span>│\n",
       "│<span style=\"color: #008080; text-decoration-color: #008080\">         val_loss          </span>│<span style=\"color: #800080; text-decoration-color: #800080\">     0.680317759513855     </span>│\n",
       "└───────────────────────────┴───────────────────────────┘\n",
       "</pre>\n"
      ],
      "text/plain": [
       "┏━━━━━━━━━━━━━━━━━━━━━━━━━━━┳━━━━━━━━━━━━━━━━━━━━━━━━━━━┓\n",
       "┃\u001b[1m \u001b[0m\u001b[1m     Validate metric     \u001b[0m\u001b[1m \u001b[0m┃\u001b[1m \u001b[0m\u001b[1m      DataLoader 0       \u001b[0m\u001b[1m \u001b[0m┃\n",
       "┡━━━━━━━━━━━━━━━━━━━━━━━━━━━╇━━━━━━━━━━━━━━━━━━━━━━━━━━━┩\n",
       "│\u001b[36m \u001b[0m\u001b[36m         val_acc         \u001b[0m\u001b[36m \u001b[0m│\u001b[35m \u001b[0m\u001b[35m   0.7633000016212463    \u001b[0m\u001b[35m \u001b[0m│\n",
       "│\u001b[36m \u001b[0m\u001b[36m        val_loss         \u001b[0m\u001b[36m \u001b[0m│\u001b[35m \u001b[0m\u001b[35m    0.680317759513855    \u001b[0m\u001b[35m \u001b[0m│\n",
       "└───────────────────────────┴───────────────────────────┘\n"
      ]
     },
     "metadata": {},
     "output_type": "display_data"
    },
    {
     "data": {
      "text/plain": [
       "[{'val_loss': 0.680317759513855, 'val_acc': 0.7633000016212463}]"
      ]
     },
     "execution_count": 10,
     "metadata": {},
     "output_type": "execute_result"
    }
   ],
   "source": [
    "trainer.validate(model, test_loader) "
   ]
  },
  {
   "cell_type": "markdown",
   "id": "2d45c754-df1d-41d6-8eed-d2ff7ddc5817",
   "metadata": {},
   "source": [
    "Wow, 76%! That's honestly really good, and will be hard to beat.  \n",
    "\n",
    "With that, let's start with how to make the model train faster."
   ]
  },
  {
   "cell_type": "markdown",
   "id": "eedc42f8-a79c-4425-a1aa-9233af0cfe20",
   "metadata": {},
   "source": [
    "### Method -1: Listen to Lightning"
   ]
  },
  {
   "cell_type": "markdown",
   "id": "e9846737-97bf-445b-88f2-e21e7291108d",
   "metadata": {},
   "source": [
    "It's called -1 because you don't really do anything. Lightning complains that a setting isn't set properly, and most of the time its best to just follow."
   ]
  },
  {
   "cell_type": "code",
   "execution_count": 9,
   "id": "3a82fa1e-f84a-4271-8291-d5da79067bb5",
   "metadata": {},
   "outputs": [],
   "source": [
    "torch.set_float32_matmul_precision('high')"
   ]
  },
  {
   "cell_type": "markdown",
   "id": "1bf19edf-df6c-4a14-ada2-0a069164918b",
   "metadata": {},
   "source": [
    "Gonna do a quick test of the speed to test it now..."
   ]
  },
  {
   "cell_type": "code",
   "execution_count": 12,
   "id": "5ea4bad1-79d1-4499-a860-e2abe0395bd5",
   "metadata": {
    "collapsed": true,
    "jupyter": {
     "outputs_hidden": true
    }
   },
   "outputs": [
    {
     "name": "stderr",
     "output_type": "stream",
     "text": [
      "GPU available: True (cuda), used: True\n",
      "TPU available: False, using: 0 TPU cores\n",
      "HPU available: False, using: 0 HPUs\n",
      "LOCAL_RANK: 0 - CUDA_VISIBLE_DEVICES: [0]\n",
      "\n",
      "  | Name     | Type               | Params | Mode \n",
      "--------------------------------------------------------\n",
      "0 | resnet   | ResNet             | 11.2 M | train\n",
      "1 | accuracy | MulticlassAccuracy | 0      | train\n",
      "--------------------------------------------------------\n",
      "11.2 M    Trainable params\n",
      "0         Non-trainable params\n",
      "11.2 M    Total params\n",
      "44.727    Total estimated model params size (MB)\n",
      "69        Modules in train mode\n",
      "0         Modules in eval mode\n"
     ]
    },
    {
     "data": {
      "application/vnd.jupyter.widget-view+json": {
       "model_id": "fc2d0a59692643839370fcc9158936f4",
       "version_major": 2,
       "version_minor": 0
      },
      "text/plain": [
       "Sanity Checking: |          | 0/? [00:00<?, ?it/s]"
      ]
     },
     "metadata": {},
     "output_type": "display_data"
    },
    {
     "data": {
      "application/vnd.jupyter.widget-view+json": {
       "model_id": "7cd21f96d0244890b7fa6c0b393e62cc",
       "version_major": 2,
       "version_minor": 0
      },
      "text/plain": [
       "Training: |          | 0/? [00:00<?, ?it/s]"
      ]
     },
     "metadata": {},
     "output_type": "display_data"
    },
    {
     "name": "stderr",
     "output_type": "stream",
     "text": [
      "`Trainer.fit` stopped: `max_epochs=1` reached.\n"
     ]
    }
   ],
   "source": [
    "model = LResNet(resnet18, 3e-4)\n",
    "trainer = pl.Trainer(max_epochs=1, check_val_every_n_epoch=5, enable_checkpointing=False)\n",
    "trainer.fit(model, train_loader, test_loader) "
   ]
  },
  {
   "cell_type": "markdown",
   "id": "e1bde9a4-a3bd-4a26-924a-9567a0ac23de",
   "metadata": {},
   "source": [
    "It's about 3it/s faster, just by listening to the framework!"
   ]
  },
  {
   "cell_type": "markdown",
   "id": "d32fc8a3-6982-4203-a0e7-93d427d99458",
   "metadata": {},
   "source": [
    "### Method 0: Initialize Properly\n",
    "I'm not stalling for time - this is something we *should* have done, but didn't! It can make surprising differences to the performance of the model.  \n",
    "\n",
    "There's a lot of initialization methods out there, but a short summary is:\n",
    "- Use **Kaiming initialization** when using non-symmetric ReLU-based activations,\n",
    "- Use **Xavier initialization** when using symmetric activation functions like Tanh/Sigmoid, or no activation, and\n",
    "- Use **Truncated Normal initialization** when using modern activations like GeLU.\n",
    "\n",
    "Since we're using a ResNet, which uses ReLU activations, we use Kaiming initialization for the Conv2d weights. However, our classifier outputs raw logits (and by right is passed to a sigmoid function in cross entropy!) so we use Xavier initialization.\n",
    "\n",
    "You may notice the `mode=\"fan_out\"` argument when using Kaiming initialization. To briefly explain what it does:\n",
    "- `fan_in` preserves the variance of the activations in the *forward pass*.\n",
    "- `fan_out` preserves the variance of the gradients in the *backwards pass*.\n",
    "- It's best to choose `fan_out` for deep, stacked layers like Conv2d in ResNet, and only use `fan_in` for shallow networks, or unconventional networks prone to exploding/vanishing gradients.\n",
    "\n",
    "All biases are initialized to zero, and BatchNorm layers (as per all normalization layers) should have their weights set to one and bias to zero."
   ]
  },
  {
   "cell_type": "code",
   "execution_count": 10,
   "id": "2c08e789-1384-42bc-964d-58aadd4fe159",
   "metadata": {},
   "outputs": [],
   "source": [
    "class LResNet(pl.LightningModule):\n",
    "    def __init__(self, resnet_cls, lr):\n",
    "        super().__init__()\n",
    "        self.resnet = resnet_cls()\n",
    "        self.resnet.fc = nn.Linear(512, 10)\n",
    "        self.lr = lr\n",
    "\n",
    "        self.accuracy = torchmetrics.Accuracy(\"multiclass\", num_classes=10)\n",
    "        \n",
    "        ###################################################################################################################\n",
    "        # NEW! Apply the weight initialization function. You can look at the torch docs for the .apply method to know more.\n",
    "        self.apply(self._init_weights)\n",
    "        nn.init.xavier_uniform_(self.resnet.fc.weight)\n",
    "        nn.init.zeros_(self.resnet.fc.bias)\n",
    "        ###################################################################################################################\n",
    "\n",
    "    #######################################################################################################################\n",
    "    # NEW! The initialization function itself. The markdown block above should have explained the reasoning it well enough.\n",
    "    def _init_weights(self, m):\n",
    "        if isinstance(m, nn.Conv2d):\n",
    "            nn.init.kaiming_normal_(m.weight, nonlinearity=\"relu\", mode=\"fan_out\")\n",
    "            if m.bias is not None:\n",
    "                nn.init.zeros_(m.bias)\n",
    "\n",
    "        elif isinstance(m, nn.BatchNorm2d):\n",
    "            nn.init.ones_(m.weight)\n",
    "            if m.bias is not None:\n",
    "                nn.init.zeros_(m.bias)\n",
    "    #######################################################################################################################\n",
    "\n",
    "    def training_step(self, batch, batch_idx):\n",
    "        X, y = batch\n",
    "        y_pred = self.resnet(X)\n",
    "        loss = nn.functional.cross_entropy(y_pred, y)\n",
    "        self.log(\"train_loss\", loss)\n",
    "        acc = self.accuracy(y_pred, y)\n",
    "        self.log(\"train_acc\", acc)\n",
    "\n",
    "        return loss\n",
    "\n",
    "    def validation_step(self, batch, batch_idx):\n",
    "        X, y = batch\n",
    "        y_pred = self.resnet(X)\n",
    "        loss = nn.functional.cross_entropy(y_pred, y)\n",
    "        self.log(\"val_loss\", loss)\n",
    "        acc = self.accuracy(y_pred, y)\n",
    "        self.log(\"val_acc\", acc)\n",
    "\n",
    "    def configure_optimizers(self):\n",
    "        return torch.optim.AdamW(self.resnet.parameters(), lr=self.lr)"
   ]
  },
  {
   "cell_type": "markdown",
   "id": "84ab498e-263c-434d-96b5-d1ddfb66cc33",
   "metadata": {},
   "source": [
    "Let's run the model and see how it performs now."
   ]
  },
  {
   "cell_type": "code",
   "execution_count": 14,
   "id": "ce1938ab-1f02-409d-b651-b9d42d8e39be",
   "metadata": {
    "collapsed": true,
    "jupyter": {
     "outputs_hidden": true,
     "source_hidden": true
    }
   },
   "outputs": [
    {
     "name": "stderr",
     "output_type": "stream",
     "text": [
      "GPU available: True (cuda), used: True\n",
      "TPU available: False, using: 0 TPU cores\n",
      "HPU available: False, using: 0 HPUs\n",
      "LOCAL_RANK: 0 - CUDA_VISIBLE_DEVICES: [0]\n",
      "\n",
      "  | Name     | Type               | Params | Mode \n",
      "--------------------------------------------------------\n",
      "0 | resnet   | ResNet             | 11.2 M | train\n",
      "1 | accuracy | MulticlassAccuracy | 0      | train\n",
      "--------------------------------------------------------\n",
      "11.2 M    Trainable params\n",
      "0         Non-trainable params\n",
      "11.2 M    Total params\n",
      "44.727    Total estimated model params size (MB)\n",
      "69        Modules in train mode\n",
      "0         Modules in eval mode\n"
     ]
    },
    {
     "data": {
      "application/vnd.jupyter.widget-view+json": {
       "model_id": "3e210ce8cfa242018c6c87979420e1aa",
       "version_major": 2,
       "version_minor": 0
      },
      "text/plain": [
       "Sanity Checking: |          | 0/? [00:00<?, ?it/s]"
      ]
     },
     "metadata": {},
     "output_type": "display_data"
    },
    {
     "data": {
      "application/vnd.jupyter.widget-view+json": {
       "model_id": "bb66fdb1957f40beb64773154dc48455",
       "version_major": 2,
       "version_minor": 0
      },
      "text/plain": [
       "Training: |          | 0/? [00:00<?, ?it/s]"
      ]
     },
     "metadata": {},
     "output_type": "display_data"
    },
    {
     "data": {
      "application/vnd.jupyter.widget-view+json": {
       "model_id": "98ea21afb67e429c93895d14bdedafc7",
       "version_major": 2,
       "version_minor": 0
      },
      "text/plain": [
       "Validation: |          | 0/? [00:00<?, ?it/s]"
      ]
     },
     "metadata": {},
     "output_type": "display_data"
    },
    {
     "data": {
      "application/vnd.jupyter.widget-view+json": {
       "model_id": "8127474f15a7445482832930e0452dce",
       "version_major": 2,
       "version_minor": 0
      },
      "text/plain": [
       "Validation: |          | 0/? [00:00<?, ?it/s]"
      ]
     },
     "metadata": {},
     "output_type": "display_data"
    },
    {
     "name": "stderr",
     "output_type": "stream",
     "text": [
      "`Trainer.fit` stopped: `max_epochs=10` reached.\n"
     ]
    },
    {
     "name": "stdout",
     "output_type": "stream",
     "text": [
      "CPU times: user 1min 37s, sys: 4.93 s, total: 1min 42s\n",
      "Wall time: 1min 39s\n"
     ]
    }
   ],
   "source": [
    "%%time\n",
    "model = LResNet(resnet18, 3e-4)\n",
    "trainer = pl.Trainer(max_epochs=10, check_val_every_n_epoch=5, enable_checkpointing=False)\n",
    "trainer.fit(model, train_loader, test_loader) "
   ]
  },
  {
   "cell_type": "code",
   "execution_count": 15,
   "id": "a7672a48-c305-4eb2-a76e-d7accbcc8909",
   "metadata": {},
   "outputs": [
    {
     "name": "stderr",
     "output_type": "stream",
     "text": [
      "LOCAL_RANK: 0 - CUDA_VISIBLE_DEVICES: [0]\n"
     ]
    },
    {
     "data": {
      "application/vnd.jupyter.widget-view+json": {
       "model_id": "b341089960ee4d6c9dede05da2195fa6",
       "version_major": 2,
       "version_minor": 0
      },
      "text/plain": [
       "Validation: |          | 0/? [00:00<?, ?it/s]"
      ]
     },
     "metadata": {},
     "output_type": "display_data"
    },
    {
     "data": {
      "text/html": [
       "<pre style=\"white-space:pre;overflow-x:auto;line-height:normal;font-family:Menlo,'DejaVu Sans Mono',consolas,'Courier New',monospace\">┏━━━━━━━━━━━━━━━━━━━━━━━━━━━┳━━━━━━━━━━━━━━━━━━━━━━━━━━━┓\n",
       "┃<span style=\"font-weight: bold\">      Validate metric      </span>┃<span style=\"font-weight: bold\">       DataLoader 0        </span>┃\n",
       "┡━━━━━━━━━━━━━━━━━━━━━━━━━━━╇━━━━━━━━━━━━━━━━━━━━━━━━━━━┩\n",
       "│<span style=\"color: #008080; text-decoration-color: #008080\">          val_acc          </span>│<span style=\"color: #800080; text-decoration-color: #800080\">    0.7577000260353088     </span>│\n",
       "│<span style=\"color: #008080; text-decoration-color: #008080\">         val_loss          </span>│<span style=\"color: #800080; text-decoration-color: #800080\">    0.7093212008476257     </span>│\n",
       "└───────────────────────────┴───────────────────────────┘\n",
       "</pre>\n"
      ],
      "text/plain": [
       "┏━━━━━━━━━━━━━━━━━━━━━━━━━━━┳━━━━━━━━━━━━━━━━━━━━━━━━━━━┓\n",
       "┃\u001b[1m \u001b[0m\u001b[1m     Validate metric     \u001b[0m\u001b[1m \u001b[0m┃\u001b[1m \u001b[0m\u001b[1m      DataLoader 0       \u001b[0m\u001b[1m \u001b[0m┃\n",
       "┡━━━━━━━━━━━━━━━━━━━━━━━━━━━╇━━━━━━━━━━━━━━━━━━━━━━━━━━━┩\n",
       "│\u001b[36m \u001b[0m\u001b[36m         val_acc         \u001b[0m\u001b[36m \u001b[0m│\u001b[35m \u001b[0m\u001b[35m   0.7577000260353088    \u001b[0m\u001b[35m \u001b[0m│\n",
       "│\u001b[36m \u001b[0m\u001b[36m        val_loss         \u001b[0m\u001b[36m \u001b[0m│\u001b[35m \u001b[0m\u001b[35m   0.7093212008476257    \u001b[0m\u001b[35m \u001b[0m│\n",
       "└───────────────────────────┴───────────────────────────┘\n"
      ]
     },
     "metadata": {},
     "output_type": "display_data"
    },
    {
     "data": {
      "text/plain": [
       "[{'val_loss': 0.7093212008476257, 'val_acc': 0.7577000260353088}]"
      ]
     },
     "execution_count": 15,
     "metadata": {},
     "output_type": "execute_result"
    }
   ],
   "source": [
    "trainer.validate(model, test_loader) "
   ]
  },
  {
   "cell_type": "markdown",
   "id": "f64ac2bf-e5ef-48b8-bee0-a6c5449117c0",
   "metadata": {},
   "source": [
    "The accuracy dropped a bit - but given between the first run and this had zero architectural or training changes, I'd say this is within the margin of error.  \n",
    "\n",
    "*(NOTE: Our worsened accuracy is also because TorchVision itself has proper initialization techniques, some of which we missed here. However, I'm defining the initialization here for educational purposes, so we live with slightly worse accuracy for now.)*"
   ]
  },
  {
   "cell_type": "markdown",
   "id": "a08519d1-082a-468c-8314-82910a37f215",
   "metadata": {},
   "source": [
    "### Method 1: Increase Batch Size"
   ]
  },
  {
   "cell_type": "markdown",
   "id": "7abe4e32-c882-4a62-ae85-78a53da842cd",
   "metadata": {},
   "source": [
    "Maxing out the batch size is age-old advice. However, you **must** consider several factors.\n",
    "1. The higher your batch size, the lower your accuracy. In settings where you want to maximize the accuracy, massively large batch sizes (>1024 is a safe estimate) will *significantly* tank your accuracy.\n",
    "2. Make sure that you have enough batches left in your dataset. It's tempting to push for huge batch sizes as in research, but keep in mind that we're working with different amounts of data. They have, at least in ImageNet, *millions* of images. We have 50,000 in CIFAR.\n",
    "\n",
    "I've devised a method, illustrated below, to find an ideal batch size in a time-constrained scenario. We can use the `max_time` parameter of Lightning's trainer to test how much the model learns in 1 minute.  \n",
    "\n",
    "First, let's test the original batch size of 32 under these constraints."
   ]
  },
  {
   "cell_type": "code",
   "execution_count": 16,
   "id": "444c64c3-e234-40da-a415-7e472e4157e4",
   "metadata": {
    "collapsed": true,
    "jupyter": {
     "outputs_hidden": true
    }
   },
   "outputs": [
    {
     "name": "stderr",
     "output_type": "stream",
     "text": [
      "GPU available: True (cuda), used: True\n",
      "TPU available: False, using: 0 TPU cores\n",
      "HPU available: False, using: 0 HPUs\n",
      "LOCAL_RANK: 0 - CUDA_VISIBLE_DEVICES: [0]\n",
      "\n",
      "  | Name     | Type               | Params | Mode \n",
      "--------------------------------------------------------\n",
      "0 | resnet   | ResNet             | 11.2 M | train\n",
      "1 | accuracy | MulticlassAccuracy | 0      | train\n",
      "--------------------------------------------------------\n",
      "11.2 M    Trainable params\n",
      "0         Non-trainable params\n",
      "11.2 M    Total params\n",
      "44.727    Total estimated model params size (MB)\n",
      "69        Modules in train mode\n",
      "0         Modules in eval mode\n"
     ]
    },
    {
     "data": {
      "application/vnd.jupyter.widget-view+json": {
       "model_id": "e08d5262e7e04f00a061fb20dd262b24",
       "version_major": 2,
       "version_minor": 0
      },
      "text/plain": [
       "Sanity Checking: |          | 0/? [00:00<?, ?it/s]"
      ]
     },
     "metadata": {},
     "output_type": "display_data"
    },
    {
     "data": {
      "application/vnd.jupyter.widget-view+json": {
       "model_id": "bb458404d73144aaa3a2c19053c09700",
       "version_major": 2,
       "version_minor": 0
      },
      "text/plain": [
       "Training: |          | 0/? [00:00<?, ?it/s]"
      ]
     },
     "metadata": {},
     "output_type": "display_data"
    },
    {
     "data": {
      "application/vnd.jupyter.widget-view+json": {
       "model_id": "7d8c39133038460caf5c137acc796b23",
       "version_major": 2,
       "version_minor": 0
      },
      "text/plain": [
       "Validation: |          | 0/? [00:00<?, ?it/s]"
      ]
     },
     "metadata": {},
     "output_type": "display_data"
    },
    {
     "name": "stderr",
     "output_type": "stream",
     "text": [
      "Time limit reached. Elapsed time is 0:01:00. Signaling Trainer to stop.\n"
     ]
    }
   ],
   "source": [
    "train_loader = torch.utils.data.DataLoader(train_ds, batch_size=32, shuffle=True, num_workers=2)\n",
    "test_loader = torch.utils.data.DataLoader(test_ds, batch_size=32, shuffle=False, num_workers=2)\n",
    "model = LResNet(resnet18, 3e-4)\n",
    "trainer = pl.Trainer(max_time=\"00:00:01:00\", check_val_every_n_epoch=5, enable_checkpointing=False)\n",
    "trainer.fit(model, train_loader, test_loader) "
   ]
  },
  {
   "cell_type": "code",
   "execution_count": 17,
   "id": "7232f2a3-69a1-4bd1-b887-75a89eeb65ba",
   "metadata": {},
   "outputs": [
    {
     "name": "stderr",
     "output_type": "stream",
     "text": [
      "LOCAL_RANK: 0 - CUDA_VISIBLE_DEVICES: [0]\n"
     ]
    },
    {
     "data": {
      "application/vnd.jupyter.widget-view+json": {
       "model_id": "1b1fb40afd1d4a349e164ce4570d4877",
       "version_major": 2,
       "version_minor": 0
      },
      "text/plain": [
       "Validation: |          | 0/? [00:00<?, ?it/s]"
      ]
     },
     "metadata": {},
     "output_type": "display_data"
    },
    {
     "data": {
      "text/html": [
       "<pre style=\"white-space:pre;overflow-x:auto;line-height:normal;font-family:Menlo,'DejaVu Sans Mono',consolas,'Courier New',monospace\">┏━━━━━━━━━━━━━━━━━━━━━━━━━━━┳━━━━━━━━━━━━━━━━━━━━━━━━━━━┓\n",
       "┃<span style=\"font-weight: bold\">      Validate metric      </span>┃<span style=\"font-weight: bold\">       DataLoader 0        </span>┃\n",
       "┡━━━━━━━━━━━━━━━━━━━━━━━━━━━╇━━━━━━━━━━━━━━━━━━━━━━━━━━━┩\n",
       "│<span style=\"color: #008080; text-decoration-color: #008080\">          val_acc          </span>│<span style=\"color: #800080; text-decoration-color: #800080\">    0.7315999865531921     </span>│\n",
       "│<span style=\"color: #008080; text-decoration-color: #008080\">         val_loss          </span>│<span style=\"color: #800080; text-decoration-color: #800080\">    0.7828781604766846     </span>│\n",
       "└───────────────────────────┴───────────────────────────┘\n",
       "</pre>\n"
      ],
      "text/plain": [
       "┏━━━━━━━━━━━━━━━━━━━━━━━━━━━┳━━━━━━━━━━━━━━━━━━━━━━━━━━━┓\n",
       "┃\u001b[1m \u001b[0m\u001b[1m     Validate metric     \u001b[0m\u001b[1m \u001b[0m┃\u001b[1m \u001b[0m\u001b[1m      DataLoader 0       \u001b[0m\u001b[1m \u001b[0m┃\n",
       "┡━━━━━━━━━━━━━━━━━━━━━━━━━━━╇━━━━━━━━━━━━━━━━━━━━━━━━━━━┩\n",
       "│\u001b[36m \u001b[0m\u001b[36m         val_acc         \u001b[0m\u001b[36m \u001b[0m│\u001b[35m \u001b[0m\u001b[35m   0.7315999865531921    \u001b[0m\u001b[35m \u001b[0m│\n",
       "│\u001b[36m \u001b[0m\u001b[36m        val_loss         \u001b[0m\u001b[36m \u001b[0m│\u001b[35m \u001b[0m\u001b[35m   0.7828781604766846    \u001b[0m\u001b[35m \u001b[0m│\n",
       "└───────────────────────────┴───────────────────────────┘\n"
      ]
     },
     "metadata": {},
     "output_type": "display_data"
    },
    {
     "data": {
      "text/plain": [
       "[{'val_loss': 0.7828781604766846, 'val_acc': 0.7315999865531921}]"
      ]
     },
     "execution_count": 17,
     "metadata": {},
     "output_type": "execute_result"
    }
   ],
   "source": [
    "trainer.validate(model, test_loader) "
   ]
  },
  {
   "cell_type": "markdown",
   "id": "613514b4-6200-4051-af00-a8ef2d3faf2b",
   "metadata": {},
   "source": [
    "73%... a big step down. This is a sign that the batch size is too low, leading to inefficient use of the GPU.\n",
    "\n",
    "Let's start with 128, or four times the initial value of 32."
   ]
  },
  {
   "cell_type": "code",
   "execution_count": 18,
   "id": "181f0470-5208-413d-b898-4a9bbe86710a",
   "metadata": {
    "collapsed": true,
    "jupyter": {
     "outputs_hidden": true,
     "source_hidden": true
    },
    "scrolled": true
   },
   "outputs": [
    {
     "name": "stderr",
     "output_type": "stream",
     "text": [
      "GPU available: True (cuda), used: True\n",
      "TPU available: False, using: 0 TPU cores\n",
      "HPU available: False, using: 0 HPUs\n",
      "LOCAL_RANK: 0 - CUDA_VISIBLE_DEVICES: [0]\n",
      "\n",
      "  | Name     | Type               | Params | Mode \n",
      "--------------------------------------------------------\n",
      "0 | resnet   | ResNet             | 11.2 M | train\n",
      "1 | accuracy | MulticlassAccuracy | 0      | train\n",
      "--------------------------------------------------------\n",
      "11.2 M    Trainable params\n",
      "0         Non-trainable params\n",
      "11.2 M    Total params\n",
      "44.727    Total estimated model params size (MB)\n",
      "69        Modules in train mode\n",
      "0         Modules in eval mode\n"
     ]
    },
    {
     "data": {
      "application/vnd.jupyter.widget-view+json": {
       "model_id": "8d38d83717b24dea9fd0893ba64ecf02",
       "version_major": 2,
       "version_minor": 0
      },
      "text/plain": [
       "Sanity Checking: |          | 0/? [00:00<?, ?it/s]"
      ]
     },
     "metadata": {},
     "output_type": "display_data"
    },
    {
     "data": {
      "application/vnd.jupyter.widget-view+json": {
       "model_id": "1adfdc45b9aa45c79ca43bb1524a1973",
       "version_major": 2,
       "version_minor": 0
      },
      "text/plain": [
       "Training: |          | 0/? [00:00<?, ?it/s]"
      ]
     },
     "metadata": {},
     "output_type": "display_data"
    },
    {
     "data": {
      "application/vnd.jupyter.widget-view+json": {
       "model_id": "ee8ccc2cf75d43818fe1cba6e3ee8e18",
       "version_major": 2,
       "version_minor": 0
      },
      "text/plain": [
       "Validation: |          | 0/? [00:00<?, ?it/s]"
      ]
     },
     "metadata": {},
     "output_type": "display_data"
    },
    {
     "data": {
      "application/vnd.jupyter.widget-view+json": {
       "model_id": "86c2c68dc3054943867b5252681a095d",
       "version_major": 2,
       "version_minor": 0
      },
      "text/plain": [
       "Validation: |          | 0/? [00:00<?, ?it/s]"
      ]
     },
     "metadata": {},
     "output_type": "display_data"
    },
    {
     "name": "stderr",
     "output_type": "stream",
     "text": [
      "Time limit reached. Elapsed time is 0:01:00. Signaling Trainer to stop.\n"
     ]
    }
   ],
   "source": [
    "train_loader = torch.utils.data.DataLoader(train_ds, batch_size=128, shuffle=True, num_workers=2)\n",
    "test_loader = torch.utils.data.DataLoader(test_ds, batch_size=128, shuffle=False, num_workers=2)\n",
    "model = LResNet(resnet18, 3e-4)\n",
    "trainer = pl.Trainer(max_time=\"00:00:01:00\", check_val_every_n_epoch=5, enable_checkpointing=False)\n",
    "trainer.fit(model, train_loader, test_loader) "
   ]
  },
  {
   "cell_type": "code",
   "execution_count": 19,
   "id": "c5b29ba6-af7a-4285-9a62-162a4aeeff26",
   "metadata": {},
   "outputs": [
    {
     "name": "stderr",
     "output_type": "stream",
     "text": [
      "LOCAL_RANK: 0 - CUDA_VISIBLE_DEVICES: [0]\n"
     ]
    },
    {
     "data": {
      "application/vnd.jupyter.widget-view+json": {
       "model_id": "c1d74967835e47488c821b7b24989fed",
       "version_major": 2,
       "version_minor": 0
      },
      "text/plain": [
       "Validation: |          | 0/? [00:00<?, ?it/s]"
      ]
     },
     "metadata": {},
     "output_type": "display_data"
    },
    {
     "data": {
      "text/html": [
       "<pre style=\"white-space:pre;overflow-x:auto;line-height:normal;font-family:Menlo,'DejaVu Sans Mono',consolas,'Courier New',monospace\">┏━━━━━━━━━━━━━━━━━━━━━━━━━━━┳━━━━━━━━━━━━━━━━━━━━━━━━━━━┓\n",
       "┃<span style=\"font-weight: bold\">      Validate metric      </span>┃<span style=\"font-weight: bold\">       DataLoader 0        </span>┃\n",
       "┡━━━━━━━━━━━━━━━━━━━━━━━━━━━╇━━━━━━━━━━━━━━━━━━━━━━━━━━━┩\n",
       "│<span style=\"color: #008080; text-decoration-color: #008080\">          val_acc          </span>│<span style=\"color: #800080; text-decoration-color: #800080\">    0.7544000148773193     </span>│\n",
       "│<span style=\"color: #008080; text-decoration-color: #008080\">         val_loss          </span>│<span style=\"color: #800080; text-decoration-color: #800080\">    0.7640776634216309     </span>│\n",
       "└───────────────────────────┴───────────────────────────┘\n",
       "</pre>\n"
      ],
      "text/plain": [
       "┏━━━━━━━━━━━━━━━━━━━━━━━━━━━┳━━━━━━━━━━━━━━━━━━━━━━━━━━━┓\n",
       "┃\u001b[1m \u001b[0m\u001b[1m     Validate metric     \u001b[0m\u001b[1m \u001b[0m┃\u001b[1m \u001b[0m\u001b[1m      DataLoader 0       \u001b[0m\u001b[1m \u001b[0m┃\n",
       "┡━━━━━━━━━━━━━━━━━━━━━━━━━━━╇━━━━━━━━━━━━━━━━━━━━━━━━━━━┩\n",
       "│\u001b[36m \u001b[0m\u001b[36m         val_acc         \u001b[0m\u001b[36m \u001b[0m│\u001b[35m \u001b[0m\u001b[35m   0.7544000148773193    \u001b[0m\u001b[35m \u001b[0m│\n",
       "│\u001b[36m \u001b[0m\u001b[36m        val_loss         \u001b[0m\u001b[36m \u001b[0m│\u001b[35m \u001b[0m\u001b[35m   0.7640776634216309    \u001b[0m\u001b[35m \u001b[0m│\n",
       "└───────────────────────────┴───────────────────────────┘\n"
      ]
     },
     "metadata": {},
     "output_type": "display_data"
    },
    {
     "data": {
      "text/plain": [
       "[{'val_loss': 0.7640776634216309, 'val_acc': 0.7544000148773193}]"
      ]
     },
     "execution_count": 19,
     "metadata": {},
     "output_type": "execute_result"
    }
   ],
   "source": [
    "trainer.validate(model, test_loader) "
   ]
  },
  {
   "cell_type": "markdown",
   "id": "d83ea48d-8feb-4704-90bd-3548ca89df1a",
   "metadata": {},
   "source": [
    "Almost even better than 32! This shows that we're using the GPU more efficiently.\n",
    "\n",
    "Onwards to 512, four times 128."
   ]
  },
  {
   "cell_type": "code",
   "execution_count": 20,
   "id": "ed49aa6d-18ab-4035-9d64-7f736992b49d",
   "metadata": {
    "collapsed": true,
    "jupyter": {
     "outputs_hidden": true,
     "source_hidden": true
    }
   },
   "outputs": [
    {
     "name": "stderr",
     "output_type": "stream",
     "text": [
      "GPU available: True (cuda), used: True\n",
      "TPU available: False, using: 0 TPU cores\n",
      "HPU available: False, using: 0 HPUs\n",
      "LOCAL_RANK: 0 - CUDA_VISIBLE_DEVICES: [0]\n",
      "\n",
      "  | Name     | Type               | Params | Mode \n",
      "--------------------------------------------------------\n",
      "0 | resnet   | ResNet             | 11.2 M | train\n",
      "1 | accuracy | MulticlassAccuracy | 0      | train\n",
      "--------------------------------------------------------\n",
      "11.2 M    Trainable params\n",
      "0         Non-trainable params\n",
      "11.2 M    Total params\n",
      "44.727    Total estimated model params size (MB)\n",
      "69        Modules in train mode\n",
      "0         Modules in eval mode\n"
     ]
    },
    {
     "data": {
      "application/vnd.jupyter.widget-view+json": {
       "model_id": "62e1e0015f6a4a7b8443d92b346871ee",
       "version_major": 2,
       "version_minor": 0
      },
      "text/plain": [
       "Sanity Checking: |          | 0/? [00:00<?, ?it/s]"
      ]
     },
     "metadata": {},
     "output_type": "display_data"
    },
    {
     "data": {
      "application/vnd.jupyter.widget-view+json": {
       "model_id": "f46a797aa0754a12b5a101611c3d23ee",
       "version_major": 2,
       "version_minor": 0
      },
      "text/plain": [
       "Training: |          | 0/? [00:00<?, ?it/s]"
      ]
     },
     "metadata": {},
     "output_type": "display_data"
    },
    {
     "data": {
      "application/vnd.jupyter.widget-view+json": {
       "model_id": "616dfca1770c4edf8cff569c9c35337a",
       "version_major": 2,
       "version_minor": 0
      },
      "text/plain": [
       "Validation: |          | 0/? [00:00<?, ?it/s]"
      ]
     },
     "metadata": {},
     "output_type": "display_data"
    },
    {
     "data": {
      "application/vnd.jupyter.widget-view+json": {
       "model_id": "c3e5b4dc36c748dab7333372aa911d94",
       "version_major": 2,
       "version_minor": 0
      },
      "text/plain": [
       "Validation: |          | 0/? [00:00<?, ?it/s]"
      ]
     },
     "metadata": {},
     "output_type": "display_data"
    },
    {
     "name": "stderr",
     "output_type": "stream",
     "text": [
      "Time limit reached. Elapsed time is 0:01:00. Signaling Trainer to stop.\n"
     ]
    }
   ],
   "source": [
    "train_loader = torch.utils.data.DataLoader(train_ds, batch_size=512, shuffle=True, num_workers=2)\n",
    "test_loader = torch.utils.data.DataLoader(test_ds, batch_size=512, shuffle=False, num_workers=2)\n",
    "model = LResNet(resnet18, 3e-4)\n",
    "trainer = pl.Trainer(max_time=\"00:00:01:00\", check_val_every_n_epoch=5, enable_checkpointing=False)\n",
    "trainer.fit(model, train_loader, test_loader) "
   ]
  },
  {
   "cell_type": "code",
   "execution_count": 21,
   "id": "248ab8d0-efae-4ffb-9021-530ea1f932c3",
   "metadata": {},
   "outputs": [
    {
     "name": "stderr",
     "output_type": "stream",
     "text": [
      "LOCAL_RANK: 0 - CUDA_VISIBLE_DEVICES: [0]\n"
     ]
    },
    {
     "data": {
      "application/vnd.jupyter.widget-view+json": {
       "model_id": "3c017882b7044cd19cbf1543339195cc",
       "version_major": 2,
       "version_minor": 0
      },
      "text/plain": [
       "Validation: |          | 0/? [00:00<?, ?it/s]"
      ]
     },
     "metadata": {},
     "output_type": "display_data"
    },
    {
     "data": {
      "text/html": [
       "<pre style=\"white-space:pre;overflow-x:auto;line-height:normal;font-family:Menlo,'DejaVu Sans Mono',consolas,'Courier New',monospace\">┏━━━━━━━━━━━━━━━━━━━━━━━━━━━┳━━━━━━━━━━━━━━━━━━━━━━━━━━━┓\n",
       "┃<span style=\"font-weight: bold\">      Validate metric      </span>┃<span style=\"font-weight: bold\">       DataLoader 0        </span>┃\n",
       "┡━━━━━━━━━━━━━━━━━━━━━━━━━━━╇━━━━━━━━━━━━━━━━━━━━━━━━━━━┩\n",
       "│<span style=\"color: #008080; text-decoration-color: #008080\">          val_acc          </span>│<span style=\"color: #800080; text-decoration-color: #800080\">    0.7024000287055969     </span>│\n",
       "│<span style=\"color: #008080; text-decoration-color: #008080\">         val_loss          </span>│<span style=\"color: #800080; text-decoration-color: #800080\">    0.9209242463111877     </span>│\n",
       "└───────────────────────────┴───────────────────────────┘\n",
       "</pre>\n"
      ],
      "text/plain": [
       "┏━━━━━━━━━━━━━━━━━━━━━━━━━━━┳━━━━━━━━━━━━━━━━━━━━━━━━━━━┓\n",
       "┃\u001b[1m \u001b[0m\u001b[1m     Validate metric     \u001b[0m\u001b[1m \u001b[0m┃\u001b[1m \u001b[0m\u001b[1m      DataLoader 0       \u001b[0m\u001b[1m \u001b[0m┃\n",
       "┡━━━━━━━━━━━━━━━━━━━━━━━━━━━╇━━━━━━━━━━━━━━━━━━━━━━━━━━━┩\n",
       "│\u001b[36m \u001b[0m\u001b[36m         val_acc         \u001b[0m\u001b[36m \u001b[0m│\u001b[35m \u001b[0m\u001b[35m   0.7024000287055969    \u001b[0m\u001b[35m \u001b[0m│\n",
       "│\u001b[36m \u001b[0m\u001b[36m        val_loss         \u001b[0m\u001b[36m \u001b[0m│\u001b[35m \u001b[0m\u001b[35m   0.9209242463111877    \u001b[0m\u001b[35m \u001b[0m│\n",
       "└───────────────────────────┴───────────────────────────┘\n"
      ]
     },
     "metadata": {},
     "output_type": "display_data"
    },
    {
     "data": {
      "text/plain": [
       "[{'val_loss': 0.9209242463111877, 'val_acc': 0.7024000287055969}]"
      ]
     },
     "execution_count": 21,
     "metadata": {},
     "output_type": "execute_result"
    }
   ],
   "source": [
    "trainer.validate(model, test_loader) "
   ]
  },
  {
   "cell_type": "markdown",
   "id": "60b19772-f16c-46fb-a97d-97c32ead686f",
   "metadata": {},
   "source": [
    "Now that's far below our best score so far - which we can't accept, as it will take a lot of tuning to get it back to where we want it.  \n",
    "\n",
    "In the spirit of binary search, let's find a value in between that works. We start with 256, the number between 128 and 512."
   ]
  },
  {
   "cell_type": "code",
   "execution_count": 22,
   "id": "3f18d7f1-8d5a-4ece-b026-3f4c6ecc2573",
   "metadata": {
    "collapsed": true,
    "jupyter": {
     "outputs_hidden": true,
     "source_hidden": true
    }
   },
   "outputs": [
    {
     "name": "stderr",
     "output_type": "stream",
     "text": [
      "GPU available: True (cuda), used: True\n",
      "TPU available: False, using: 0 TPU cores\n",
      "HPU available: False, using: 0 HPUs\n",
      "LOCAL_RANK: 0 - CUDA_VISIBLE_DEVICES: [0]\n",
      "\n",
      "  | Name     | Type               | Params | Mode \n",
      "--------------------------------------------------------\n",
      "0 | resnet   | ResNet             | 11.2 M | train\n",
      "1 | accuracy | MulticlassAccuracy | 0      | train\n",
      "--------------------------------------------------------\n",
      "11.2 M    Trainable params\n",
      "0         Non-trainable params\n",
      "11.2 M    Total params\n",
      "44.727    Total estimated model params size (MB)\n",
      "69        Modules in train mode\n",
      "0         Modules in eval mode\n"
     ]
    },
    {
     "data": {
      "application/vnd.jupyter.widget-view+json": {
       "model_id": "6c1ece3b61f74bc4b8c3be02ebdb58d4",
       "version_major": 2,
       "version_minor": 0
      },
      "text/plain": [
       "Sanity Checking: |          | 0/? [00:00<?, ?it/s]"
      ]
     },
     "metadata": {},
     "output_type": "display_data"
    },
    {
     "data": {
      "application/vnd.jupyter.widget-view+json": {
       "model_id": "e9279d40212f4ef8801add1e4b75c037",
       "version_major": 2,
       "version_minor": 0
      },
      "text/plain": [
       "Training: |          | 0/? [00:00<?, ?it/s]"
      ]
     },
     "metadata": {},
     "output_type": "display_data"
    },
    {
     "data": {
      "application/vnd.jupyter.widget-view+json": {
       "model_id": "47143b35566f4902895c62fbd0a19e30",
       "version_major": 2,
       "version_minor": 0
      },
      "text/plain": [
       "Validation: |          | 0/? [00:00<?, ?it/s]"
      ]
     },
     "metadata": {},
     "output_type": "display_data"
    },
    {
     "data": {
      "application/vnd.jupyter.widget-view+json": {
       "model_id": "08ccd9e27b6e4c6c914f0701931e9c8c",
       "version_major": 2,
       "version_minor": 0
      },
      "text/plain": [
       "Validation: |          | 0/? [00:00<?, ?it/s]"
      ]
     },
     "metadata": {},
     "output_type": "display_data"
    },
    {
     "name": "stderr",
     "output_type": "stream",
     "text": [
      "Time limit reached. Elapsed time is 0:01:00. Signaling Trainer to stop.\n"
     ]
    }
   ],
   "source": [
    "train_loader = torch.utils.data.DataLoader(train_ds, batch_size=256, shuffle=True, num_workers=2)\n",
    "test_loader = torch.utils.data.DataLoader(test_ds, batch_size=256, shuffle=False, num_workers=2)\n",
    "model = LResNet(resnet18, 3e-4)\n",
    "trainer = pl.Trainer(max_time=\"00:00:01:00\", check_val_every_n_epoch=5, enable_checkpointing=False)\n",
    "trainer.fit(model, train_loader, test_loader) "
   ]
  },
  {
   "cell_type": "code",
   "execution_count": 23,
   "id": "b8570afe-0bad-449f-8888-25de277ec021",
   "metadata": {},
   "outputs": [
    {
     "name": "stderr",
     "output_type": "stream",
     "text": [
      "LOCAL_RANK: 0 - CUDA_VISIBLE_DEVICES: [0]\n"
     ]
    },
    {
     "data": {
      "application/vnd.jupyter.widget-view+json": {
       "model_id": "4a26973f9b7249bc81a8835a7e3d5140",
       "version_major": 2,
       "version_minor": 0
      },
      "text/plain": [
       "Validation: |          | 0/? [00:00<?, ?it/s]"
      ]
     },
     "metadata": {},
     "output_type": "display_data"
    },
    {
     "data": {
      "text/html": [
       "<pre style=\"white-space:pre;overflow-x:auto;line-height:normal;font-family:Menlo,'DejaVu Sans Mono',consolas,'Courier New',monospace\">┏━━━━━━━━━━━━━━━━━━━━━━━━━━━┳━━━━━━━━━━━━━━━━━━━━━━━━━━━┓\n",
       "┃<span style=\"font-weight: bold\">      Validate metric      </span>┃<span style=\"font-weight: bold\">       DataLoader 0        </span>┃\n",
       "┡━━━━━━━━━━━━━━━━━━━━━━━━━━━╇━━━━━━━━━━━━━━━━━━━━━━━━━━━┩\n",
       "│<span style=\"color: #008080; text-decoration-color: #008080\">          val_acc          </span>│<span style=\"color: #800080; text-decoration-color: #800080\">    0.7039999961853027     </span>│\n",
       "│<span style=\"color: #008080; text-decoration-color: #008080\">         val_loss          </span>│<span style=\"color: #800080; text-decoration-color: #800080\">    0.9127117395401001     </span>│\n",
       "└───────────────────────────┴───────────────────────────┘\n",
       "</pre>\n"
      ],
      "text/plain": [
       "┏━━━━━━━━━━━━━━━━━━━━━━━━━━━┳━━━━━━━━━━━━━━━━━━━━━━━━━━━┓\n",
       "┃\u001b[1m \u001b[0m\u001b[1m     Validate metric     \u001b[0m\u001b[1m \u001b[0m┃\u001b[1m \u001b[0m\u001b[1m      DataLoader 0       \u001b[0m\u001b[1m \u001b[0m┃\n",
       "┡━━━━━━━━━━━━━━━━━━━━━━━━━━━╇━━━━━━━━━━━━━━━━━━━━━━━━━━━┩\n",
       "│\u001b[36m \u001b[0m\u001b[36m         val_acc         \u001b[0m\u001b[36m \u001b[0m│\u001b[35m \u001b[0m\u001b[35m   0.7039999961853027    \u001b[0m\u001b[35m \u001b[0m│\n",
       "│\u001b[36m \u001b[0m\u001b[36m        val_loss         \u001b[0m\u001b[36m \u001b[0m│\u001b[35m \u001b[0m\u001b[35m   0.9127117395401001    \u001b[0m\u001b[35m \u001b[0m│\n",
       "└───────────────────────────┴───────────────────────────┘\n"
      ]
     },
     "metadata": {},
     "output_type": "display_data"
    },
    {
     "data": {
      "text/plain": [
       "[{'val_loss': 0.9127117395401001, 'val_acc': 0.7039999961853027}]"
      ]
     },
     "execution_count": 23,
     "metadata": {},
     "output_type": "execute_result"
    }
   ],
   "source": [
    "trainer.validate(model, test_loader) "
   ]
  },
  {
   "cell_type": "markdown",
   "id": "d16e45c9-fe91-4aa3-84e5-fdf5954b5c65",
   "metadata": {},
   "source": [
    "Barely better than 512, but 128 is still a better trade-off. Let's try 64 to see if it offers a better balance."
   ]
  },
  {
   "cell_type": "code",
   "execution_count": 24,
   "id": "4b2904c4-b730-4d89-aa59-5d3a170dde7e",
   "metadata": {
    "collapsed": true,
    "jupyter": {
     "outputs_hidden": true,
     "source_hidden": true
    },
    "scrolled": true
   },
   "outputs": [
    {
     "name": "stderr",
     "output_type": "stream",
     "text": [
      "GPU available: True (cuda), used: True\n",
      "TPU available: False, using: 0 TPU cores\n",
      "HPU available: False, using: 0 HPUs\n",
      "LOCAL_RANK: 0 - CUDA_VISIBLE_DEVICES: [0]\n",
      "\n",
      "  | Name     | Type               | Params | Mode \n",
      "--------------------------------------------------------\n",
      "0 | resnet   | ResNet             | 11.2 M | train\n",
      "1 | accuracy | MulticlassAccuracy | 0      | train\n",
      "--------------------------------------------------------\n",
      "11.2 M    Trainable params\n",
      "0         Non-trainable params\n",
      "11.2 M    Total params\n",
      "44.727    Total estimated model params size (MB)\n",
      "69        Modules in train mode\n",
      "0         Modules in eval mode\n"
     ]
    },
    {
     "data": {
      "application/vnd.jupyter.widget-view+json": {
       "model_id": "fa2486d41d324ed3aeb2466c3ba1fbcc",
       "version_major": 2,
       "version_minor": 0
      },
      "text/plain": [
       "Sanity Checking: |          | 0/? [00:00<?, ?it/s]"
      ]
     },
     "metadata": {},
     "output_type": "display_data"
    },
    {
     "data": {
      "application/vnd.jupyter.widget-view+json": {
       "model_id": "f850e59009ca41cc97bcfe5605fd076f",
       "version_major": 2,
       "version_minor": 0
      },
      "text/plain": [
       "Training: |          | 0/? [00:00<?, ?it/s]"
      ]
     },
     "metadata": {},
     "output_type": "display_data"
    },
    {
     "data": {
      "application/vnd.jupyter.widget-view+json": {
       "model_id": "c5e057400c3942d6b9f283ceca918f83",
       "version_major": 2,
       "version_minor": 0
      },
      "text/plain": [
       "Validation: |          | 0/? [00:00<?, ?it/s]"
      ]
     },
     "metadata": {},
     "output_type": "display_data"
    },
    {
     "data": {
      "application/vnd.jupyter.widget-view+json": {
       "model_id": "e6ba0d72a69742d6802c3002d4868eb0",
       "version_major": 2,
       "version_minor": 0
      },
      "text/plain": [
       "Validation: |          | 0/? [00:00<?, ?it/s]"
      ]
     },
     "metadata": {},
     "output_type": "display_data"
    },
    {
     "name": "stderr",
     "output_type": "stream",
     "text": [
      "Time limit reached. Elapsed time is 0:01:00. Signaling Trainer to stop.\n"
     ]
    }
   ],
   "source": [
    "train_loader = torch.utils.data.DataLoader(train_ds, batch_size=64, shuffle=True, num_workers=2)\n",
    "test_loader = torch.utils.data.DataLoader(test_ds, batch_size=64, shuffle=False, num_workers=2)\n",
    "model = LResNet(resnet18, 3e-4)\n",
    "trainer = pl.Trainer(max_time=\"00:00:01:00\", check_val_every_n_epoch=5, enable_checkpointing=False)\n",
    "trainer.fit(model, train_loader, test_loader) "
   ]
  },
  {
   "cell_type": "code",
   "execution_count": 25,
   "id": "5a338abd-5434-4721-b5ae-dff5a2fd9095",
   "metadata": {},
   "outputs": [
    {
     "name": "stderr",
     "output_type": "stream",
     "text": [
      "LOCAL_RANK: 0 - CUDA_VISIBLE_DEVICES: [0]\n"
     ]
    },
    {
     "data": {
      "application/vnd.jupyter.widget-view+json": {
       "model_id": "d4e36349a5f64ddc9c392f4592cc905e",
       "version_major": 2,
       "version_minor": 0
      },
      "text/plain": [
       "Validation: |          | 0/? [00:00<?, ?it/s]"
      ]
     },
     "metadata": {},
     "output_type": "display_data"
    },
    {
     "data": {
      "text/html": [
       "<pre style=\"white-space:pre;overflow-x:auto;line-height:normal;font-family:Menlo,'DejaVu Sans Mono',consolas,'Courier New',monospace\">┏━━━━━━━━━━━━━━━━━━━━━━━━━━━┳━━━━━━━━━━━━━━━━━━━━━━━━━━━┓\n",
       "┃<span style=\"font-weight: bold\">      Validate metric      </span>┃<span style=\"font-weight: bold\">       DataLoader 0        </span>┃\n",
       "┡━━━━━━━━━━━━━━━━━━━━━━━━━━━╇━━━━━━━━━━━━━━━━━━━━━━━━━━━┩\n",
       "│<span style=\"color: #008080; text-decoration-color: #008080\">          val_acc          </span>│<span style=\"color: #800080; text-decoration-color: #800080\">    0.7560999989509583     </span>│\n",
       "│<span style=\"color: #008080; text-decoration-color: #008080\">         val_loss          </span>│<span style=\"color: #800080; text-decoration-color: #800080\">    0.7180350422859192     </span>│\n",
       "└───────────────────────────┴───────────────────────────┘\n",
       "</pre>\n"
      ],
      "text/plain": [
       "┏━━━━━━━━━━━━━━━━━━━━━━━━━━━┳━━━━━━━━━━━━━━━━━━━━━━━━━━━┓\n",
       "┃\u001b[1m \u001b[0m\u001b[1m     Validate metric     \u001b[0m\u001b[1m \u001b[0m┃\u001b[1m \u001b[0m\u001b[1m      DataLoader 0       \u001b[0m\u001b[1m \u001b[0m┃\n",
       "┡━━━━━━━━━━━━━━━━━━━━━━━━━━━╇━━━━━━━━━━━━━━━━━━━━━━━━━━━┩\n",
       "│\u001b[36m \u001b[0m\u001b[36m         val_acc         \u001b[0m\u001b[36m \u001b[0m│\u001b[35m \u001b[0m\u001b[35m   0.7560999989509583    \u001b[0m\u001b[35m \u001b[0m│\n",
       "│\u001b[36m \u001b[0m\u001b[36m        val_loss         \u001b[0m\u001b[36m \u001b[0m│\u001b[35m \u001b[0m\u001b[35m   0.7180350422859192    \u001b[0m\u001b[35m \u001b[0m│\n",
       "└───────────────────────────┴───────────────────────────┘\n"
      ]
     },
     "metadata": {},
     "output_type": "display_data"
    },
    {
     "data": {
      "text/plain": [
       "[{'val_loss': 0.7180350422859192, 'val_acc': 0.7560999989509583}]"
      ]
     },
     "execution_count": 25,
     "metadata": {},
     "output_type": "execute_result"
    }
   ],
   "source": [
    "trainer.validate(model, test_loader) "
   ]
  },
  {
   "cell_type": "markdown",
   "id": "78858aec-dcd0-4e29-88b7-d56f396c9131",
   "metadata": {},
   "source": [
    "Compared to 128, the loss is a lot lower! The accuracy is also slightly higher, although it's definitely within the margin of error.  \n",
    "\n",
    "We'll proceed with this batch size for the rest of the notebook."
   ]
  },
  {
   "cell_type": "markdown",
   "id": "80e5eb03-785a-4ca4-b7f6-4c56784c655e",
   "metadata": {},
   "source": [
    "#### Optimizing Dataloaders for Performance"
   ]
  },
  {
   "cell_type": "markdown",
   "id": "7aed779a-c7eb-41e4-a6bc-f9a9096b9172",
   "metadata": {},
   "source": [
    "Let's time how long it takes to get one item from the Dataloader."
   ]
  },
  {
   "cell_type": "code",
   "execution_count": 13,
   "id": "91f99408-25c3-4192-8880-723b0390b69f",
   "metadata": {},
   "outputs": [
    {
     "name": "stdout",
     "output_type": "stream",
     "text": [
      "74.9 ms ± 2.58 ms per loop (mean ± std. dev. of 7 runs, 10 loops each)\n"
     ]
    }
   ],
   "source": [
    "%%timeit\n",
    "len(next(iter(train_loader))[0])"
   ]
  },
  {
   "cell_type": "markdown",
   "id": "df6cdb74-6d85-4632-af4c-01634e53de44",
   "metadata": {},
   "source": [
    "Interestingly, we can optimize this further! I'll explain the important hyperparameters for PyTorch's `DataLoader` below:\n",
    "- `num_workers`: The number of threads to spawn for loading the data. Note that Python is pretty finnicky about multiprocessing, so if you ever run into deadlocks (i.e. training hangs) try reducing this value, reducing the number of logging/print statements, or simply waiting a bit longer.\n",
    "- `pin_memory`: Keeps the data pinned in memory. Sometimes this works for me, other times it seems that the data isn't pinned or I keep getting OOM errors. The general advice is to keep this enabled unless you really cannot.\n",
    "- `prefetch_factor`: For each worker/thread, it will try to prep `prefetch_factor` batches of data the moment the DataLoader is initialized. Then, every time a batch is consumed by the model, it will try to once prep batches up to the indicated size. Try to keep `num_workers * prefetch_factor` less than your total number of batches, or you'll be wasting effort. Mostly applicable for massive batch sizes.\n",
    "- `persistent_workers`: If true, PyTorch will reuse threads and not create new ones each epoch. This is good if you notice that at the start of each epoch, it takes a long time to load the first batch (since creating a thread takes time) and is more useful when you have massive batch sizes."
   ]
  },
  {
   "cell_type": "code",
   "execution_count": 10,
   "id": "9c0b3255-d33a-4470-b632-b107abf5fd70",
   "metadata": {},
   "outputs": [],
   "source": [
    "train_loader = torch.utils.data.DataLoader(train_ds, batch_size=64, shuffle=True, num_workers=3, prefetch_factor=1, persistent_workers=True)\n",
    "test_loader = torch.utils.data.DataLoader(test_ds, batch_size=64, shuffle=False, num_workers=3, prefetch_factor=1, persistent_workers=True)"
   ]
  },
  {
   "cell_type": "code",
   "execution_count": 15,
   "id": "34da00f3-b6f9-4e28-8f1c-3703c8bfc874",
   "metadata": {},
   "outputs": [
    {
     "name": "stdout",
     "output_type": "stream",
     "text": [
      "33.8 ms ± 3.56 ms per loop (mean ± std. dev. of 7 runs, 10 loops each)\n"
     ]
    }
   ],
   "source": [
    "%%timeit\n",
    "len(next(iter(train_loader))[0])"
   ]
  },
  {
   "cell_type": "markdown",
   "id": "7e3abdf3-ac9e-42c9-9a36-72ec65e6e4a8",
   "metadata": {},
   "source": [
    "*2x* speed improvement! This may not be much, but it'll add up."
   ]
  },
  {
   "cell_type": "markdown",
   "id": "4d7fe3a1-5ba3-4efb-b0cc-9245657c6ebd",
   "metadata": {},
   "source": [
    "### Method 2: Find a better Learning Rate\n",
    "With a larger batch size, the model gets more accurate and less noisy gradients. After all, surely the average gradient provided by double the samples is better than just 32. The issue is that if we don't capitalize on this more accurate gradient, all the effort will be put to waste.  \n",
    "\n",
    "Thus, a larger learning rate is what best makes use of this gradient. Instead of taking many small and noisy steps, we take bigger and more accurate steps towards the minima.  \n",
    "\n",
    "Classical literature suggests that when you increase the batch size by K times, you increase the learning rate by sqrt(K) times. Since we have the computing resources, let's test the hypothesis out."
   ]
  },
  {
   "cell_type": "code",
   "execution_count": 16,
   "id": "9f3f4649-d6b9-4f2d-8cb3-ab4096574ddc",
   "metadata": {
    "collapsed": true,
    "jupyter": {
     "outputs_hidden": true
    }
   },
   "outputs": [
    {
     "name": "stderr",
     "output_type": "stream",
     "text": [
      "GPU available: True (cuda), used: True\n",
      "TPU available: False, using: 0 TPU cores\n",
      "HPU available: False, using: 0 HPUs\n",
      "LOCAL_RANK: 0 - CUDA_VISIBLE_DEVICES: [0]\n",
      "\n",
      "  | Name     | Type               | Params | Mode \n",
      "--------------------------------------------------------\n",
      "0 | resnet   | ResNet             | 11.2 M | train\n",
      "1 | accuracy | MulticlassAccuracy | 0      | train\n",
      "--------------------------------------------------------\n",
      "11.2 M    Trainable params\n",
      "0         Non-trainable params\n",
      "11.2 M    Total params\n",
      "44.727    Total estimated model params size (MB)\n",
      "69        Modules in train mode\n",
      "0         Modules in eval mode\n"
     ]
    },
    {
     "data": {
      "application/vnd.jupyter.widget-view+json": {
       "model_id": "10b31517d8424a9b9afc96ba09dbaebc",
       "version_major": 2,
       "version_minor": 0
      },
      "text/plain": [
       "Sanity Checking: |          | 0/? [00:00<?, ?it/s]"
      ]
     },
     "metadata": {},
     "output_type": "display_data"
    },
    {
     "data": {
      "application/vnd.jupyter.widget-view+json": {
       "model_id": "de299211c3c14a7fbf477fbd0e3c6219",
       "version_major": 2,
       "version_minor": 0
      },
      "text/plain": [
       "Training: |          | 0/? [00:00<?, ?it/s]"
      ]
     },
     "metadata": {},
     "output_type": "display_data"
    },
    {
     "data": {
      "application/vnd.jupyter.widget-view+json": {
       "model_id": "8626473b662b4bb5b179de45bfbccd07",
       "version_major": 2,
       "version_minor": 0
      },
      "text/plain": [
       "Validation: |          | 0/? [00:00<?, ?it/s]"
      ]
     },
     "metadata": {},
     "output_type": "display_data"
    },
    {
     "name": "stderr",
     "output_type": "stream",
     "text": [
      "Time limit reached. Elapsed time is 0:01:00. Signaling Trainer to stop.\n"
     ]
    },
    {
     "data": {
      "application/vnd.jupyter.widget-view+json": {
       "model_id": "cf619a8c3acf4f2189fbaf6a3daa8302",
       "version_major": 2,
       "version_minor": 0
      },
      "text/plain": [
       "Validation: |          | 0/? [00:00<?, ?it/s]"
      ]
     },
     "metadata": {},
     "output_type": "display_data"
    },
    {
     "name": "stdout",
     "output_type": "stream",
     "text": [
      "CPU times: user 1min, sys: 2.83 s, total: 1min 3s\n",
      "Wall time: 1min 1s\n"
     ]
    }
   ],
   "source": [
    "%%time\n",
    "model = LResNet(resnet18, 3e-4*(2**0.5))\n",
    "trainer = pl.Trainer(max_time=\"00:00:01:00\", log_every_n_steps=1, check_val_every_n_epoch=5, enable_checkpointing=False)\n",
    "trainer.fit(model, train_loader, test_loader) "
   ]
  },
  {
   "cell_type": "code",
   "execution_count": 17,
   "id": "21a00262-4b93-4fef-a787-f44779c87aa5",
   "metadata": {},
   "outputs": [
    {
     "name": "stderr",
     "output_type": "stream",
     "text": [
      "LOCAL_RANK: 0 - CUDA_VISIBLE_DEVICES: [0]\n"
     ]
    },
    {
     "data": {
      "application/vnd.jupyter.widget-view+json": {
       "model_id": "482fb5746fc4440dbbff40fc44456ca3",
       "version_major": 2,
       "version_minor": 0
      },
      "text/plain": [
       "Validation: |          | 0/? [00:00<?, ?it/s]"
      ]
     },
     "metadata": {},
     "output_type": "display_data"
    },
    {
     "data": {
      "text/html": [
       "<pre style=\"white-space:pre;overflow-x:auto;line-height:normal;font-family:Menlo,'DejaVu Sans Mono',consolas,'Courier New',monospace\">┏━━━━━━━━━━━━━━━━━━━━━━━━━━━┳━━━━━━━━━━━━━━━━━━━━━━━━━━━┓\n",
       "┃<span style=\"font-weight: bold\">      Validate metric      </span>┃<span style=\"font-weight: bold\">       DataLoader 0        </span>┃\n",
       "┡━━━━━━━━━━━━━━━━━━━━━━━━━━━╇━━━━━━━━━━━━━━━━━━━━━━━━━━━┩\n",
       "│<span style=\"color: #008080; text-decoration-color: #008080\">          val_acc          </span>│<span style=\"color: #800080; text-decoration-color: #800080\">    0.7473999857902527     </span>│\n",
       "│<span style=\"color: #008080; text-decoration-color: #008080\">         val_loss          </span>│<span style=\"color: #800080; text-decoration-color: #800080\">     0.762093186378479     </span>│\n",
       "└───────────────────────────┴───────────────────────────┘\n",
       "</pre>\n"
      ],
      "text/plain": [
       "┏━━━━━━━━━━━━━━━━━━━━━━━━━━━┳━━━━━━━━━━━━━━━━━━━━━━━━━━━┓\n",
       "┃\u001b[1m \u001b[0m\u001b[1m     Validate metric     \u001b[0m\u001b[1m \u001b[0m┃\u001b[1m \u001b[0m\u001b[1m      DataLoader 0       \u001b[0m\u001b[1m \u001b[0m┃\n",
       "┡━━━━━━━━━━━━━━━━━━━━━━━━━━━╇━━━━━━━━━━━━━━━━━━━━━━━━━━━┩\n",
       "│\u001b[36m \u001b[0m\u001b[36m         val_acc         \u001b[0m\u001b[36m \u001b[0m│\u001b[35m \u001b[0m\u001b[35m   0.7473999857902527    \u001b[0m\u001b[35m \u001b[0m│\n",
       "│\u001b[36m \u001b[0m\u001b[36m        val_loss         \u001b[0m\u001b[36m \u001b[0m│\u001b[35m \u001b[0m\u001b[35m    0.762093186378479    \u001b[0m\u001b[35m \u001b[0m│\n",
       "└───────────────────────────┴───────────────────────────┘\n"
      ]
     },
     "metadata": {},
     "output_type": "display_data"
    },
    {
     "data": {
      "text/plain": [
       "[{'val_loss': 0.762093186378479, 'val_acc': 0.7473999857902527}]"
      ]
     },
     "execution_count": 17,
     "metadata": {},
     "output_type": "execute_result"
    }
   ],
   "source": [
    "trainer.validate(model, test_loader) "
   ]
  },
  {
   "cell_type": "markdown",
   "id": "f7422c8f-73b7-471d-ab05-eaa5d1097629",
   "metadata": {},
   "source": [
    "That's not too bad - within the margin of error! However, when you're scaling to much larger batch sizes, the scaling rule starts breaking down.\n",
    "\n",
    "If only there was a way for us to automatically find a proper learning rate..."
   ]
  },
  {
   "cell_type": "markdown",
   "id": "618e7484-aa3a-4a1f-8add-da3f40905563",
   "metadata": {},
   "source": [
    "#### Lightning's `Tuner` for `lr_find`\n",
    "Turns out, Lightning provides a `Tuner` class to help us find an optimal learning rate! The internal mechanisms for how it decides so is buried within piles of research (search up Leslie N. Smith, he has a lot of good papers on this topic!) so let's just start by using it.  \n",
    "\n",
    "The `lr_find` function basically increases the learning rate slowly and records the loss for each of the values. It does this for `num_training` steps - which we manually define as the default of 100 steps is a bit too low.."
   ]
  },
  {
   "cell_type": "code",
   "execution_count": 28,
   "id": "f40147c9-0716-465b-8e95-abcfeba1d991",
   "metadata": {
    "collapsed": true,
    "jupyter": {
     "outputs_hidden": true
    }
   },
   "outputs": [
    {
     "name": "stderr",
     "output_type": "stream",
     "text": [
      "GPU available: True (cuda), used: True\n",
      "TPU available: False, using: 0 TPU cores\n",
      "HPU available: False, using: 0 HPUs\n",
      "LOCAL_RANK: 0 - CUDA_VISIBLE_DEVICES: [0]\n"
     ]
    },
    {
     "data": {
      "application/vnd.jupyter.widget-view+json": {
       "model_id": "e8b63f68396b470baebcb0a96f7fa71f",
       "version_major": 2,
       "version_minor": 0
      },
      "text/plain": [
       "Finding best initial lr:   0%|          | 0/250 [00:00<?, ?it/s]"
      ]
     },
     "metadata": {},
     "output_type": "display_data"
    },
    {
     "name": "stderr",
     "output_type": "stream",
     "text": [
      "`Trainer.fit` stopped: `max_steps=250` reached.\n",
      "Learning rate set to 0.00016749428760264381\n",
      "Restoring states from the checkpoint path at /workspace/CremeBrulee/General Skills/.lr_find_e83ed799-0995-401a-87ab-77cf273acbfe.ckpt\n",
      "Restored all states from the checkpoint at /workspace/CremeBrulee/General Skills/.lr_find_e83ed799-0995-401a-87ab-77cf273acbfe.ckpt\n"
     ]
    }
   ],
   "source": [
    "model = LResNet(resnet18, 3e-4)\n",
    "trainer = pl.Trainer(max_time=\"00:00:01:00\", log_every_n_steps=1, check_val_every_n_epoch=5, enable_checkpointing=False)\n",
    "tuner = pl.tuner.Tuner(trainer)\n",
    "results = tuner.lr_find(model, train_loader, test_loader, num_training=250)"
   ]
  },
  {
   "cell_type": "markdown",
   "id": "da00e53b-7931-4d61-8b84-5c6684a57fd4",
   "metadata": {},
   "source": [
    "We can plot the result of the learning rate sweep and the recommended value. Note that Lightning automatically modifies the model to use the recommended learning rate, so we won't have to bother more!"
   ]
  },
  {
   "cell_type": "code",
   "execution_count": 29,
   "id": "c5ff5028-9521-498f-a3fa-eca6d773dc90",
   "metadata": {},
   "outputs": [
    {
     "data": {
      "image/png": "[encoded data removed]",
      "text/plain": [
       "<Figure size 640x480 with 1 Axes>"
      ]
     },
     "metadata": {},
     "output_type": "display_data"
    },
    {
     "data": {
      "text/plain": [
       "0.00016749428760264381"
      ]
     },
     "execution_count": 29,
     "metadata": {},
     "output_type": "execute_result"
    }
   ],
   "source": [
    "results.plot(suggest=True, show=True)\n",
    "results.suggestion()"
   ]
  },
  {
   "cell_type": "markdown",
   "id": "a444c52b-af4e-43d1-9acc-9816b4d73453",
   "metadata": {},
   "source": [
    "We see that the loss starts to decrease around 2e-5, plateaus a bit around 3e-4, and spikes up around 5e-3. The model suggests somewhere in between, around the value of 1e-4. We can term the 2e-5 LR the *min LR*, and the 5e-3 *max LR*.\n",
    "\n",
    "These values will come in handy later. For now, let's just train the model with the recommended learning rate."
   ]
  },
  {
   "cell_type": "code",
   "execution_count": 30,
   "id": "e7e4f69c-ea74-4d74-ac05-6ec940250032",
   "metadata": {
    "collapsed": true,
    "jupyter": {
     "outputs_hidden": true
    }
   },
   "outputs": [
    {
     "name": "stderr",
     "output_type": "stream",
     "text": [
      "LOCAL_RANK: 0 - CUDA_VISIBLE_DEVICES: [0]\n",
      "\n",
      "  | Name     | Type               | Params | Mode \n",
      "--------------------------------------------------------\n",
      "0 | resnet   | ResNet             | 11.2 M | train\n",
      "1 | accuracy | MulticlassAccuracy | 0      | train\n",
      "--------------------------------------------------------\n",
      "11.2 M    Trainable params\n",
      "0         Non-trainable params\n",
      "11.2 M    Total params\n",
      "44.727    Total estimated model params size (MB)\n",
      "69        Modules in train mode\n",
      "0         Modules in eval mode\n"
     ]
    },
    {
     "data": {
      "application/vnd.jupyter.widget-view+json": {
       "model_id": "697f6c0dc1e4446098a9dd075a795e3e",
       "version_major": 2,
       "version_minor": 0
      },
      "text/plain": [
       "Sanity Checking: |          | 0/? [00:00<?, ?it/s]"
      ]
     },
     "metadata": {},
     "output_type": "display_data"
    },
    {
     "data": {
      "application/vnd.jupyter.widget-view+json": {
       "model_id": "37a36535b48c4ce6b55d7e9dd84c2737",
       "version_major": 2,
       "version_minor": 0
      },
      "text/plain": [
       "Training: |          | 0/? [00:00<?, ?it/s]"
      ]
     },
     "metadata": {},
     "output_type": "display_data"
    },
    {
     "data": {
      "application/vnd.jupyter.widget-view+json": {
       "model_id": "f45cfc9c28df431c954504327c07ca1e",
       "version_major": 2,
       "version_minor": 0
      },
      "text/plain": [
       "Validation: |          | 0/? [00:00<?, ?it/s]"
      ]
     },
     "metadata": {},
     "output_type": "display_data"
    },
    {
     "name": "stderr",
     "output_type": "stream",
     "text": [
      "Time limit reached. Elapsed time is 0:01:00. Signaling Trainer to stop.\n"
     ]
    },
    {
     "name": "stdout",
     "output_type": "stream",
     "text": [
      "CPU times: user 59.1 s, sys: 2.63 s, total: 1min 1s\n",
      "Wall time: 1min\n"
     ]
    }
   ],
   "source": [
    "%%time\n",
    "trainer.fit(model, train_loader, test_loader) "
   ]
  },
  {
   "cell_type": "code",
   "execution_count": 31,
   "id": "92c3c87c-258c-49ca-8312-753ae7f0ebf1",
   "metadata": {},
   "outputs": [
    {
     "name": "stderr",
     "output_type": "stream",
     "text": [
      "LOCAL_RANK: 0 - CUDA_VISIBLE_DEVICES: [0]\n"
     ]
    },
    {
     "data": {
      "application/vnd.jupyter.widget-view+json": {
       "model_id": "c87c61d586b447b7aa7d9d77ed70a84f",
       "version_major": 2,
       "version_minor": 0
      },
      "text/plain": [
       "Validation: |          | 0/? [00:00<?, ?it/s]"
      ]
     },
     "metadata": {},
     "output_type": "display_data"
    },
    {
     "data": {
      "text/html": [
       "<pre style=\"white-space:pre;overflow-x:auto;line-height:normal;font-family:Menlo,'DejaVu Sans Mono',consolas,'Courier New',monospace\">┏━━━━━━━━━━━━━━━━━━━━━━━━━━━┳━━━━━━━━━━━━━━━━━━━━━━━━━━━┓\n",
       "┃<span style=\"font-weight: bold\">      Validate metric      </span>┃<span style=\"font-weight: bold\">       DataLoader 0        </span>┃\n",
       "┡━━━━━━━━━━━━━━━━━━━━━━━━━━━╇━━━━━━━━━━━━━━━━━━━━━━━━━━━┩\n",
       "│<span style=\"color: #008080; text-decoration-color: #008080\">          val_acc          </span>│<span style=\"color: #800080; text-decoration-color: #800080\">    0.7251999974250793     </span>│\n",
       "│<span style=\"color: #008080; text-decoration-color: #008080\">         val_loss          </span>│<span style=\"color: #800080; text-decoration-color: #800080\">    0.8127257227897644     </span>│\n",
       "└───────────────────────────┴───────────────────────────┘\n",
       "</pre>\n"
      ],
      "text/plain": [
       "┏━━━━━━━━━━━━━━━━━━━━━━━━━━━┳━━━━━━━━━━━━━━━━━━━━━━━━━━━┓\n",
       "┃\u001b[1m \u001b[0m\u001b[1m     Validate metric     \u001b[0m\u001b[1m \u001b[0m┃\u001b[1m \u001b[0m\u001b[1m      DataLoader 0       \u001b[0m\u001b[1m \u001b[0m┃\n",
       "┡━━━━━━━━━━━━━━━━━━━━━━━━━━━╇━━━━━━━━━━━━━━━━━━━━━━━━━━━┩\n",
       "│\u001b[36m \u001b[0m\u001b[36m         val_acc         \u001b[0m\u001b[36m \u001b[0m│\u001b[35m \u001b[0m\u001b[35m   0.7251999974250793    \u001b[0m\u001b[35m \u001b[0m│\n",
       "│\u001b[36m \u001b[0m\u001b[36m        val_loss         \u001b[0m\u001b[36m \u001b[0m│\u001b[35m \u001b[0m\u001b[35m   0.8127257227897644    \u001b[0m\u001b[35m \u001b[0m│\n",
       "└───────────────────────────┴───────────────────────────┘\n"
      ]
     },
     "metadata": {},
     "output_type": "display_data"
    },
    {
     "data": {
      "text/plain": [
       "[{'val_loss': 0.8127257227897644, 'val_acc': 0.7251999974250793}]"
      ]
     },
     "execution_count": 31,
     "metadata": {},
     "output_type": "execute_result"
    }
   ],
   "source": [
    "trainer.validate(model, test_loader) "
   ]
  },
  {
   "cell_type": "markdown",
   "id": "29e5234e-1728-46da-bdbf-ca3dd07de8f9",
   "metadata": {},
   "source": [
    "We can see that it's not the best - however, we must remember that we're working based on an algorithm. As humans, smart ones at best, we can do this thing called 'reading research papers'.  \n",
    "\n",
    "And the *original* research papers and repositories implementing this learning rate finder suggest the value in between the min LR and max LR. In our case that number is...  \n",
    "\n",
    "3e-4. Which means our original LR was already optimal. \n",
    "\n",
    "But wait - we're not done tuning the learning rate yet! Onwards to..."
   ]
  },
  {
   "cell_type": "markdown",
   "id": "fe9cfb5d-7b2c-4f63-862c-b43be5372e61",
   "metadata": {},
   "source": [
    "### Method 3: Using a Learning Rate Scheduler\n",
    "We *should* be able to match 78% in this section."
   ]
  },
  {
   "cell_type": "code",
   "execution_count": 12,
   "id": "668c054e-6254-42cf-96c1-f640bea8764c",
   "metadata": {},
   "outputs": [],
   "source": [
    "class LResNet(pl.LightningModule):\n",
    "    def __init__(self, resnet_cls, max_lr, min_lr, epochs):\n",
    "        super().__init__()\n",
    "        self.resnet = resnet_cls()\n",
    "        self.resnet.fc = nn.Linear(512, 10)\n",
    "        #############################################################################\n",
    "        # NEW! Accept epochs, max_lr and min_lr, to make configuring OneCycleLR less painful.\n",
    "        self.max_lr = max_lr\n",
    "        self.min_lr = min_lr\n",
    "        self.epochs = epochs\n",
    "        #############################################################################\n",
    "\n",
    "        self.accuracy = torchmetrics.Accuracy(\"multiclass\", num_classes=10)\n",
    "        \n",
    "        self.apply(self._init_weights)\n",
    "        nn.init.xavier_uniform_(self.resnet.fc.weight)\n",
    "        nn.init.zeros_(self.resnet.fc.bias)\n",
    "        \n",
    "    def _init_weights(self, m):\n",
    "        if isinstance(m, nn.Conv2d):\n",
    "            nn.init.kaiming_normal_(m.weight, nonlinearity=\"relu\", mode=\"fan_out\")\n",
    "            if m.bias is not None:\n",
    "                nn.init.zeros_(m.bias)\n",
    "\n",
    "        elif isinstance(m, nn.BatchNorm2d):\n",
    "            nn.init.ones_(m.weight)\n",
    "            if m.bias is not None:\n",
    "                nn.init.zeros_(m.bias)\n",
    "\n",
    "    def training_step(self, batch, batch_idx):\n",
    "        X, y = batch\n",
    "        y_pred = self.resnet(X)\n",
    "        loss = nn.functional.cross_entropy(y_pred, y)\n",
    "        self.log(\"train_loss\", loss)\n",
    "        acc = self.accuracy(y_pred, y)\n",
    "        self.log(\"train_acc\", acc)\n",
    "\n",
    "        return loss\n",
    "\n",
    "    def validation_step(self, batch, batch_idx):\n",
    "        X, y = batch\n",
    "        y_pred = self.resnet(X)\n",
    "        loss = nn.functional.cross_entropy(y_pred, y)\n",
    "        self.log(\"val_loss\", loss)\n",
    "        acc = self.accuracy(y_pred, y)\n",
    "        self.log(\"val_acc\", acc)\n",
    "\n",
    "    def configure_optimizers(self):\n",
    "        #######################################\n",
    "        # NEW! Use OneCycleLR as the scheduler.\n",
    "        optimizer = torch.optim.AdamW(self.resnet.parameters(), lr=self.min_lr)\n",
    "        scheduler = torch.optim.lr_scheduler.OneCycleLR(optimizer, max_lr=self.max_lr, epochs=self.epochs, steps_per_epoch=len(train_loader), div_factor=self.max_lr/self.min_lr)\n",
    "        return [optimizer], [{\"scheduler\": scheduler, \"interval\": \"step\"}]\n",
    "        #######################################"
   ]
  },
  {
   "cell_type": "code",
   "execution_count": 35,
   "id": "3751712f-974e-4c95-846b-5401b853f320",
   "metadata": {
    "collapsed": true,
    "jupyter": {
     "outputs_hidden": true
    }
   },
   "outputs": [
    {
     "name": "stderr",
     "output_type": "stream",
     "text": [
      "GPU available: True (cuda), used: True\n",
      "TPU available: False, using: 0 TPU cores\n",
      "HPU available: False, using: 0 HPUs\n",
      "LOCAL_RANK: 0 - CUDA_VISIBLE_DEVICES: [0]\n",
      "\n",
      "  | Name     | Type               | Params | Mode \n",
      "--------------------------------------------------------\n",
      "0 | resnet   | ResNet             | 11.2 M | train\n",
      "1 | accuracy | MulticlassAccuracy | 0      | train\n",
      "--------------------------------------------------------\n",
      "11.2 M    Trainable params\n",
      "0         Non-trainable params\n",
      "11.2 M    Total params\n",
      "44.727    Total estimated model params size (MB)\n",
      "69        Modules in train mode\n",
      "0         Modules in eval mode\n"
     ]
    },
    {
     "data": {
      "application/vnd.jupyter.widget-view+json": {
       "model_id": "fe7a879f1ccf434f9627e621885e5e08",
       "version_major": 2,
       "version_minor": 0
      },
      "text/plain": [
       "Sanity Checking: |          | 0/? [00:00<?, ?it/s]"
      ]
     },
     "metadata": {},
     "output_type": "display_data"
    },
    {
     "data": {
      "application/vnd.jupyter.widget-view+json": {
       "model_id": "bcc06e4ff59d404cb1ca6eac4e3155f4",
       "version_major": 2,
       "version_minor": 0
      },
      "text/plain": [
       "Training: |          | 0/? [00:00<?, ?it/s]"
      ]
     },
     "metadata": {},
     "output_type": "display_data"
    },
    {
     "data": {
      "application/vnd.jupyter.widget-view+json": {
       "model_id": "b7d23a1c13f74b1d9eb8c9e20365228f",
       "version_major": 2,
       "version_minor": 0
      },
      "text/plain": [
       "Validation: |          | 0/? [00:00<?, ?it/s]"
      ]
     },
     "metadata": {},
     "output_type": "display_data"
    },
    {
     "name": "stderr",
     "output_type": "stream",
     "text": [
      "`Trainer.fit` stopped: `max_epochs=8` reached.\n"
     ]
    },
    {
     "name": "stdout",
     "output_type": "stream",
     "text": [
      "CPU times: user 52.8 s, sys: 2.28 s, total: 55.1 s\n",
      "Wall time: 53.2 s\n"
     ]
    }
   ],
   "source": [
    "%%time\n",
    "model = LResNet(resnet18, 5e-3, 2e-5, 8)\n",
    "trainer = pl.Trainer(max_epochs=8, log_every_n_steps=1, check_val_every_n_epoch=5, enable_checkpointing=False)\n",
    "trainer.fit(model, train_loader, test_loader) "
   ]
  },
  {
   "cell_type": "code",
   "execution_count": 36,
   "id": "cea640b8-b8bc-45b8-8eea-413c3f2f2041",
   "metadata": {},
   "outputs": [
    {
     "name": "stderr",
     "output_type": "stream",
     "text": [
      "LOCAL_RANK: 0 - CUDA_VISIBLE_DEVICES: [0]\n"
     ]
    },
    {
     "data": {
      "application/vnd.jupyter.widget-view+json": {
       "model_id": "09f3112f5f3e485484f0f4fbeaa7647c",
       "version_major": 2,
       "version_minor": 0
      },
      "text/plain": [
       "Validation: |          | 0/? [00:00<?, ?it/s]"
      ]
     },
     "metadata": {},
     "output_type": "display_data"
    },
    {
     "data": {
      "text/html": [
       "<pre style=\"white-space:pre;overflow-x:auto;line-height:normal;font-family:Menlo,'DejaVu Sans Mono',consolas,'Courier New',monospace\">┏━━━━━━━━━━━━━━━━━━━━━━━━━━━┳━━━━━━━━━━━━━━━━━━━━━━━━━━━┓\n",
       "┃<span style=\"font-weight: bold\">      Validate metric      </span>┃<span style=\"font-weight: bold\">       DataLoader 0        </span>┃\n",
       "┡━━━━━━━━━━━━━━━━━━━━━━━━━━━╇━━━━━━━━━━━━━━━━━━━━━━━━━━━┩\n",
       "│<span style=\"color: #008080; text-decoration-color: #008080\">          val_acc          </span>│<span style=\"color: #800080; text-decoration-color: #800080\">    0.7960000038146973     </span>│\n",
       "│<span style=\"color: #008080; text-decoration-color: #008080\">         val_loss          </span>│<span style=\"color: #800080; text-decoration-color: #800080\">    0.6065759062767029     </span>│\n",
       "└───────────────────────────┴───────────────────────────┘\n",
       "</pre>\n"
      ],
      "text/plain": [
       "┏━━━━━━━━━━━━━━━━━━━━━━━━━━━┳━━━━━━━━━━━━━━━━━━━━━━━━━━━┓\n",
       "┃\u001b[1m \u001b[0m\u001b[1m     Validate metric     \u001b[0m\u001b[1m \u001b[0m┃\u001b[1m \u001b[0m\u001b[1m      DataLoader 0       \u001b[0m\u001b[1m \u001b[0m┃\n",
       "┡━━━━━━━━━━━━━━━━━━━━━━━━━━━╇━━━━━━━━━━━━━━━━━━━━━━━━━━━┩\n",
       "│\u001b[36m \u001b[0m\u001b[36m         val_acc         \u001b[0m\u001b[36m \u001b[0m│\u001b[35m \u001b[0m\u001b[35m   0.7960000038146973    \u001b[0m\u001b[35m \u001b[0m│\n",
       "│\u001b[36m \u001b[0m\u001b[36m        val_loss         \u001b[0m\u001b[36m \u001b[0m│\u001b[35m \u001b[0m\u001b[35m   0.6065759062767029    \u001b[0m\u001b[35m \u001b[0m│\n",
       "└───────────────────────────┴───────────────────────────┘\n"
      ]
     },
     "metadata": {},
     "output_type": "display_data"
    },
    {
     "data": {
      "text/plain": [
       "[{'val_loss': 0.6065759062767029, 'val_acc': 0.7960000038146973}]"
      ]
     },
     "execution_count": 36,
     "metadata": {},
     "output_type": "execute_result"
    }
   ],
   "source": [
    "trainer.validate(model, test_loader) "
   ]
  },
  {
   "cell_type": "markdown",
   "id": "88ba8e82-8a65-40b1-9154-28a30e1c8a70",
   "metadata": {},
   "source": [
    "### Method 4: Mixed Precision Training"
   ]
  },
  {
   "cell_type": "markdown",
   "id": "48f7d560-4979-4ad9-b70b-ee8b0bf2d72c",
   "metadata": {},
   "source": [
    "Mixed precision is almost like magic. When used properly, it's able to accelerate training, while keeping about the same accuracy!  \n",
    "\n",
    "It does this by different precisions during different calculations. So, instead of operating on one 32-bit float, you can operate on two 16-bit floats! In reality there are some inefficiencies, but the gist of it is accurate - and the scale of improvement is too! In appropriately sized models, you are able to see the 2x speedup.\n",
    "\n",
    "In Lightning, all we need to do is to pass the `precision` argument to the trainer. In this case, we use `bf16-mixed`, where:\n",
    "- `bf16`: A type of half-precision (16-bit) float. Normal floats (`fp64`, `fp32`, `fp16`, `fp8`) give higher precision but lower range. Meanwhile, `bf16` has lower precision and higher range, which is greatly preferred in machine learning.. Search online if you want to know more!\n",
    "- `mixed`: Mixed precision, where the calculations and backpropagation is done using `bf16` while the weights remain in full 32-bit accuracy. This is in comparison to `true`, where the weights are cast to `bf16` too."
   ]
  },
  {
   "cell_type": "code",
   "execution_count": 14,
   "id": "ae04a033-b878-479b-82c2-5c207bbacf03",
   "metadata": {
    "collapsed": true,
    "jupyter": {
     "outputs_hidden": true
    }
   },
   "outputs": [
    {
     "name": "stderr",
     "output_type": "stream",
     "text": [
      "Using bfloat16 Automatic Mixed Precision (AMP)\n",
      "GPU available: True (cuda), used: True\n",
      "TPU available: False, using: 0 TPU cores\n",
      "HPU available: False, using: 0 HPUs\n",
      "LOCAL_RANK: 0 - CUDA_VISIBLE_DEVICES: [0]\n",
      "\n",
      "  | Name     | Type               | Params | Mode \n",
      "--------------------------------------------------------\n",
      "0 | resnet   | ResNet             | 11.2 M | train\n",
      "1 | accuracy | MulticlassAccuracy | 0      | train\n",
      "--------------------------------------------------------\n",
      "11.2 M    Trainable params\n",
      "0         Non-trainable params\n",
      "11.2 M    Total params\n",
      "44.727    Total estimated model params size (MB)\n",
      "69        Modules in train mode\n",
      "0         Modules in eval mode\n"
     ]
    },
    {
     "data": {
      "application/vnd.jupyter.widget-view+json": {
       "model_id": "d3930a27b4314c1aadf3c3d072c8d18a",
       "version_major": 2,
       "version_minor": 0
      },
      "text/plain": [
       "Sanity Checking: |          | 0/? [00:00<?, ?it/s]"
      ]
     },
     "metadata": {},
     "output_type": "display_data"
    },
    {
     "data": {
      "application/vnd.jupyter.widget-view+json": {
       "model_id": "91d9d683353f4f58992c4fdadbfac7a9",
       "version_major": 2,
       "version_minor": 0
      },
      "text/plain": [
       "Training: |          | 0/? [00:00<?, ?it/s]"
      ]
     },
     "metadata": {},
     "output_type": "display_data"
    },
    {
     "data": {
      "application/vnd.jupyter.widget-view+json": {
       "model_id": "0becfa75b1414be195431f7ebccc1752",
       "version_major": 2,
       "version_minor": 0
      },
      "text/plain": [
       "Validation: |          | 0/? [00:00<?, ?it/s]"
      ]
     },
     "metadata": {},
     "output_type": "display_data"
    },
    {
     "data": {
      "application/vnd.jupyter.widget-view+json": {
       "model_id": "b14d0fcdb75941638d4e77d29143910b",
       "version_major": 2,
       "version_minor": 0
      },
      "text/plain": [
       "Validation: |          | 0/? [00:00<?, ?it/s]"
      ]
     },
     "metadata": {},
     "output_type": "display_data"
    },
    {
     "name": "stderr",
     "output_type": "stream",
     "text": [
      "`Trainer.fit` stopped: `max_epochs=10` reached.\n"
     ]
    },
    {
     "name": "stdout",
     "output_type": "stream",
     "text": [
      "CPU times: user 1min 1s, sys: 2.72 s, total: 1min 4s\n",
      "Wall time: 1min 2s\n"
     ]
    }
   ],
   "source": [
    "%%time\n",
    "model = LResNet(resnet18, 5e-3, 2e-5, 10)\n",
    "trainer = pl.Trainer(precision=\"bf16-mixed\", max_epochs=10, log_every_n_steps=1, check_val_every_n_epoch=5, enable_checkpointing=False)\n",
    "trainer.fit(model, train_loader, test_loader) "
   ]
  },
  {
   "cell_type": "markdown",
   "id": "4ccd99d5-c98b-404d-a9b2-bfbb6376d561",
   "metadata": {},
   "source": [
    "Our model is a bit small, but the speed increases such that we can increase our training by *two whole epochs* while still taking 1 minute!"
   ]
  },
  {
   "cell_type": "code",
   "execution_count": 15,
   "id": "034fc559-61c0-4842-b226-669fdc1e39a1",
   "metadata": {},
   "outputs": [
    {
     "name": "stderr",
     "output_type": "stream",
     "text": [
      "LOCAL_RANK: 0 - CUDA_VISIBLE_DEVICES: [0]\n"
     ]
    },
    {
     "data": {
      "application/vnd.jupyter.widget-view+json": {
       "model_id": "f9fd87fecb3c4b8791971f547a7dd104",
       "version_major": 2,
       "version_minor": 0
      },
      "text/plain": [
       "Validation: |          | 0/? [00:00<?, ?it/s]"
      ]
     },
     "metadata": {},
     "output_type": "display_data"
    },
    {
     "data": {
      "text/html": [
       "<pre style=\"white-space:pre;overflow-x:auto;line-height:normal;font-family:Menlo,'DejaVu Sans Mono',consolas,'Courier New',monospace\">┏━━━━━━━━━━━━━━━━━━━━━━━━━━━┳━━━━━━━━━━━━━━━━━━━━━━━━━━━┓\n",
       "┃<span style=\"font-weight: bold\">      Validate metric      </span>┃<span style=\"font-weight: bold\">       DataLoader 0        </span>┃\n",
       "┡━━━━━━━━━━━━━━━━━━━━━━━━━━━╇━━━━━━━━━━━━━━━━━━━━━━━━━━━┩\n",
       "│<span style=\"color: #008080; text-decoration-color: #008080\">          val_acc          </span>│<span style=\"color: #800080; text-decoration-color: #800080\">    0.7968000173568726     </span>│\n",
       "│<span style=\"color: #008080; text-decoration-color: #008080\">         val_loss          </span>│<span style=\"color: #800080; text-decoration-color: #800080\">    0.5918164849281311     </span>│\n",
       "└───────────────────────────┴───────────────────────────┘\n",
       "</pre>\n"
      ],
      "text/plain": [
       "┏━━━━━━━━━━━━━━━━━━━━━━━━━━━┳━━━━━━━━━━━━━━━━━━━━━━━━━━━┓\n",
       "┃\u001b[1m \u001b[0m\u001b[1m     Validate metric     \u001b[0m\u001b[1m \u001b[0m┃\u001b[1m \u001b[0m\u001b[1m      DataLoader 0       \u001b[0m\u001b[1m \u001b[0m┃\n",
       "┡━━━━━━━━━━━━━━━━━━━━━━━━━━━╇━━━━━━━━━━━━━━━━━━━━━━━━━━━┩\n",
       "│\u001b[36m \u001b[0m\u001b[36m         val_acc         \u001b[0m\u001b[36m \u001b[0m│\u001b[35m \u001b[0m\u001b[35m   0.7968000173568726    \u001b[0m\u001b[35m \u001b[0m│\n",
       "│\u001b[36m \u001b[0m\u001b[36m        val_loss         \u001b[0m\u001b[36m \u001b[0m│\u001b[35m \u001b[0m\u001b[35m   0.5918164849281311    \u001b[0m\u001b[35m \u001b[0m│\n",
       "└───────────────────────────┴───────────────────────────┘\n"
      ]
     },
     "metadata": {},
     "output_type": "display_data"
    },
    {
     "data": {
      "text/plain": [
       "[{'val_loss': 0.5918164849281311, 'val_acc': 0.7968000173568726}]"
      ]
     },
     "execution_count": 15,
     "metadata": {},
     "output_type": "execute_result"
    }
   ],
   "source": [
    "trainer.validate(model, test_loader)"
   ]
  },
  {
   "cell_type": "markdown",
   "id": "845b04c3-aa37-4b02-8306-29a9ec9765ff",
   "metadata": {},
   "source": [
    "We see a slight improvement! We can see how the loss decreases slightly from the previous.  \n",
    "\n",
    "As mentioned above, this technique is more useful in much larger, multi-million parameter models. In those models, you can even see up to a *5x* speedup!"
   ]
  },
  {
   "cell_type": "markdown",
   "id": "3d4c4926-c85d-4ed2-ab07-d91ad318014c",
   "metadata": {},
   "source": [
    "### Method 5: Tuning Regularization\n",
    "This isn't as general a technique as the ones above, but it's an important one to cover since we're optimizing for accuracy in the shortest amount of time.  \n",
    "\n",
    "Regularization plays a key role in model performance, making sure that it doesn't overfit too quickly. However, too much can impede performance, and too little degrades performance too!  "
   ]
  },
  {
   "cell_type": "markdown",
   "id": "daeb2c3b-a9c7-40a2-9538-65d685f26505",
   "metadata": {},
   "source": [
    "#### Label Smoothing\n",
    "Label smoothing is a *somewhat* general technique that can be used across all classification tasks. It shifts the distribution of your targets, such that instead of a one-hot vector like `[0, 1, 0]`, some of the probability is spread among the non-target values, i.e. `[0.05, 0.9, 0.05]`.  \n",
    "\n",
    "How much it spreads is a hyperparameter of its own, but normally a value of `0.05` or `0.1` is used. I use `0.1` below. Note that PyTorch has label smoothing as part of its loss methods, so in our case the `cross_entropy` function."
   ]
  },
  {
   "cell_type": "code",
   "execution_count": 34,
   "id": "f01e9240-1209-4100-906f-7361c5999b2a",
   "metadata": {},
   "outputs": [],
   "source": [
    "class LResNet(pl.LightningModule):\n",
    "    def __init__(self, resnet_cls, max_lr, min_lr, epochs):\n",
    "        super().__init__()\n",
    "        self.resnet = resnet_cls()\n",
    "        self.resnet.fc = nn.Linear(512, 10)\n",
    "        self.max_lr = max_lr\n",
    "        self.min_lr = min_lr\n",
    "        self.epochs = epochs\n",
    "\n",
    "        self.accuracy = torchmetrics.Accuracy(\"multiclass\", num_classes=10)\n",
    "        \n",
    "        self.apply(self._init_weights)\n",
    "        nn.init.xavier_uniform_(self.resnet.fc.weight)\n",
    "        nn.init.zeros_(self.resnet.fc.bias)\n",
    "        \n",
    "    def _init_weights(self, m):\n",
    "        if isinstance(m, nn.Conv2d):\n",
    "            nn.init.kaiming_normal_(m.weight, nonlinearity=\"relu\", mode=\"fan_out\")\n",
    "            if m.bias is not None:\n",
    "                nn.init.zeros_(m.bias)\n",
    "\n",
    "        elif isinstance(m, nn.BatchNorm2d):\n",
    "            nn.init.ones_(m.weight)\n",
    "            if m.bias is not None:\n",
    "                nn.init.zeros_(m.bias)\n",
    "\n",
    "    def training_step(self, batch, batch_idx):\n",
    "        X, y = batch\n",
    "        y_pred = self.resnet(X)\n",
    "        ###########################\n",
    "        # NEW! Add label smoothing.\n",
    "        loss = nn.functional.cross_entropy(y_pred, y, label_smoothing=0.1)\n",
    "        ###########################\n",
    "        self.log(\"train_loss\", loss)\n",
    "        acc = self.accuracy(y_pred, y)\n",
    "        self.log(\"train_acc\", acc)\n",
    "\n",
    "        return loss\n",
    "\n",
    "    def validation_step(self, batch, batch_idx):\n",
    "        X, y = batch\n",
    "        y_pred = self.resnet(X)\n",
    "        loss = nn.functional.cross_entropy(y_pred, y)\n",
    "        self.log(\"val_loss\", loss)\n",
    "        acc = self.accuracy(y_pred, y)\n",
    "        self.log(\"val_acc\", acc)\n",
    "\n",
    "    def configure_optimizers(self):\n",
    "        optimizer = torch.optim.AdamW(self.resnet.parameters(), lr=self.min_lr)\n",
    "        scheduler = torch.optim.lr_scheduler.OneCycleLR(optimizer, max_lr=self.max_lr, epochs=self.epochs, steps_per_epoch=len(train_loader), div_factor=self.max_lr/self.min_lr)\n",
    "        return [optimizer], [{\"scheduler\": scheduler, \"interval\": \"step\"}]"
   ]
  },
  {
   "cell_type": "markdown",
   "id": "f5128cd9-5372-43d8-863a-9323e8b67f6f",
   "metadata": {},
   "source": [
    "Let's test it out!"
   ]
  },
  {
   "cell_type": "code",
   "execution_count": 32,
   "id": "e92ab011-94d3-4456-ba4f-42f5e750d0ca",
   "metadata": {
    "collapsed": true,
    "jupyter": {
     "outputs_hidden": true,
     "source_hidden": true
    }
   },
   "outputs": [
    {
     "name": "stderr",
     "output_type": "stream",
     "text": [
      "Using bfloat16 Automatic Mixed Precision (AMP)\n",
      "GPU available: True (cuda), used: True\n",
      "TPU available: False, using: 0 TPU cores\n",
      "HPU available: False, using: 0 HPUs\n",
      "LOCAL_RANK: 0 - CUDA_VISIBLE_DEVICES: [0]\n",
      "\n",
      "  | Name     | Type               | Params | Mode \n",
      "--------------------------------------------------------\n",
      "0 | resnet   | ResNet             | 11.2 M | train\n",
      "1 | accuracy | MulticlassAccuracy | 0      | train\n",
      "--------------------------------------------------------\n",
      "11.2 M    Trainable params\n",
      "0         Non-trainable params\n",
      "11.2 M    Total params\n",
      "44.727    Total estimated model params size (MB)\n",
      "69        Modules in train mode\n",
      "0         Modules in eval mode\n"
     ]
    },
    {
     "data": {
      "application/vnd.jupyter.widget-view+json": {
       "model_id": "c846955dd4164caaa949bda11dec1ae6",
       "version_major": 2,
       "version_minor": 0
      },
      "text/plain": [
       "Sanity Checking: |          | 0/? [00:00<?, ?it/s]"
      ]
     },
     "metadata": {},
     "output_type": "display_data"
    },
    {
     "data": {
      "application/vnd.jupyter.widget-view+json": {
       "model_id": "ca037d25aef94c74a377e1f2d293ce56",
       "version_major": 2,
       "version_minor": 0
      },
      "text/plain": [
       "Training: |          | 0/? [00:00<?, ?it/s]"
      ]
     },
     "metadata": {},
     "output_type": "display_data"
    },
    {
     "data": {
      "application/vnd.jupyter.widget-view+json": {
       "model_id": "74c2e1eecd2f46338f722c81755b4637",
       "version_major": 2,
       "version_minor": 0
      },
      "text/plain": [
       "Validation: |          | 0/? [00:00<?, ?it/s]"
      ]
     },
     "metadata": {},
     "output_type": "display_data"
    },
    {
     "data": {
      "application/vnd.jupyter.widget-view+json": {
       "model_id": "76b3ce0603a645a09c925644b75fcde3",
       "version_major": 2,
       "version_minor": 0
      },
      "text/plain": [
       "Validation: |          | 0/? [00:00<?, ?it/s]"
      ]
     },
     "metadata": {},
     "output_type": "display_data"
    },
    {
     "data": {
      "application/vnd.jupyter.widget-view+json": {
       "model_id": "dbc9782106694f5f892b89e53e9050a3",
       "version_major": 2,
       "version_minor": 0
      },
      "text/plain": [
       "Validation: |          | 0/? [00:00<?, ?it/s]"
      ]
     },
     "metadata": {},
     "output_type": "display_data"
    },
    {
     "data": {
      "application/vnd.jupyter.widget-view+json": {
       "model_id": "8b4ba718c2e549148ceffdc43b495644",
       "version_major": 2,
       "version_minor": 0
      },
      "text/plain": [
       "Validation: |          | 0/? [00:00<?, ?it/s]"
      ]
     },
     "metadata": {},
     "output_type": "display_data"
    },
    {
     "data": {
      "application/vnd.jupyter.widget-view+json": {
       "model_id": "717399eadd904b3c9e21412fcaa7c744",
       "version_major": 2,
       "version_minor": 0
      },
      "text/plain": [
       "Validation: |          | 0/? [00:00<?, ?it/s]"
      ]
     },
     "metadata": {},
     "output_type": "display_data"
    },
    {
     "data": {
      "application/vnd.jupyter.widget-view+json": {
       "model_id": "015b8487821942cc9f24c8a740921139",
       "version_major": 2,
       "version_minor": 0
      },
      "text/plain": [
       "Validation: |          | 0/? [00:00<?, ?it/s]"
      ]
     },
     "metadata": {},
     "output_type": "display_data"
    },
    {
     "data": {
      "application/vnd.jupyter.widget-view+json": {
       "model_id": "8bebf616c0a043dbbb937a595fcd0ccb",
       "version_major": 2,
       "version_minor": 0
      },
      "text/plain": [
       "Validation: |          | 0/? [00:00<?, ?it/s]"
      ]
     },
     "metadata": {},
     "output_type": "display_data"
    },
    {
     "data": {
      "application/vnd.jupyter.widget-view+json": {
       "model_id": "375471a11f064621844df2bf409438be",
       "version_major": 2,
       "version_minor": 0
      },
      "text/plain": [
       "Validation: |          | 0/? [00:00<?, ?it/s]"
      ]
     },
     "metadata": {},
     "output_type": "display_data"
    },
    {
     "data": {
      "application/vnd.jupyter.widget-view+json": {
       "model_id": "34c52e9ccc784baba9946fdadc6cff4c",
       "version_major": 2,
       "version_minor": 0
      },
      "text/plain": [
       "Validation: |          | 0/? [00:00<?, ?it/s]"
      ]
     },
     "metadata": {},
     "output_type": "display_data"
    },
    {
     "data": {
      "application/vnd.jupyter.widget-view+json": {
       "model_id": "1bf381389b594b198b8001eb029ba426",
       "version_major": 2,
       "version_minor": 0
      },
      "text/plain": [
       "Validation: |          | 0/? [00:00<?, ?it/s]"
      ]
     },
     "metadata": {},
     "output_type": "display_data"
    },
    {
     "name": "stderr",
     "output_type": "stream",
     "text": [
      "`Trainer.fit` stopped: `max_epochs=10` reached.\n"
     ]
    },
    {
     "name": "stdout",
     "output_type": "stream",
     "text": [
      "CPU times: user 1min 6s, sys: 3.24 s, total: 1min 10s\n",
      "Wall time: 1min 9s\n"
     ]
    }
   ],
   "source": [
    "%%time\n",
    "model = LResNet(resnet18, 5e-3, 2e-5, 10)\n",
    "trainer = pl.Trainer(precision=\"bf16-mixed\", max_epochs=10, log_every_n_steps=1, check_val_every_n_epoch=1, enable_checkpointing=False)\n",
    "trainer.fit(model, train_loader, test_loader) "
   ]
  },
  {
   "cell_type": "code",
   "execution_count": 33,
   "id": "39a544f1-86b5-4fb0-964a-89c2c78eb05e",
   "metadata": {},
   "outputs": [
    {
     "name": "stderr",
     "output_type": "stream",
     "text": [
      "LOCAL_RANK: 0 - CUDA_VISIBLE_DEVICES: [0]\n"
     ]
    },
    {
     "data": {
      "application/vnd.jupyter.widget-view+json": {
       "model_id": "ef8c874e61cd4088a5e50b868f049456",
       "version_major": 2,
       "version_minor": 0
      },
      "text/plain": [
       "Validation: |          | 0/? [00:00<?, ?it/s]"
      ]
     },
     "metadata": {},
     "output_type": "display_data"
    },
    {
     "data": {
      "text/html": [
       "<pre style=\"white-space:pre;overflow-x:auto;line-height:normal;font-family:Menlo,'DejaVu Sans Mono',consolas,'Courier New',monospace\">┏━━━━━━━━━━━━━━━━━━━━━━━━━━━┳━━━━━━━━━━━━━━━━━━━━━━━━━━━┓\n",
       "┃<span style=\"font-weight: bold\">      Validate metric      </span>┃<span style=\"font-weight: bold\">       DataLoader 0        </span>┃\n",
       "┡━━━━━━━━━━━━━━━━━━━━━━━━━━━╇━━━━━━━━━━━━━━━━━━━━━━━━━━━┩\n",
       "│<span style=\"color: #008080; text-decoration-color: #008080\">          val_acc          </span>│<span style=\"color: #800080; text-decoration-color: #800080\">    0.8130000233650208     </span>│\n",
       "│<span style=\"color: #008080; text-decoration-color: #008080\">         val_loss          </span>│<span style=\"color: #800080; text-decoration-color: #800080\">    0.6061072945594788     </span>│\n",
       "└───────────────────────────┴───────────────────────────┘\n",
       "</pre>\n"
      ],
      "text/plain": [
       "┏━━━━━━━━━━━━━━━━━━━━━━━━━━━┳━━━━━━━━━━━━━━━━━━━━━━━━━━━┓\n",
       "┃\u001b[1m \u001b[0m\u001b[1m     Validate metric     \u001b[0m\u001b[1m \u001b[0m┃\u001b[1m \u001b[0m\u001b[1m      DataLoader 0       \u001b[0m\u001b[1m \u001b[0m┃\n",
       "┡━━━━━━━━━━━━━━━━━━━━━━━━━━━╇━━━━━━━━━━━━━━━━━━━━━━━━━━━┩\n",
       "│\u001b[36m \u001b[0m\u001b[36m         val_acc         \u001b[0m\u001b[36m \u001b[0m│\u001b[35m \u001b[0m\u001b[35m   0.8130000233650208    \u001b[0m\u001b[35m \u001b[0m│\n",
       "│\u001b[36m \u001b[0m\u001b[36m        val_loss         \u001b[0m\u001b[36m \u001b[0m│\u001b[35m \u001b[0m\u001b[35m   0.6061072945594788    \u001b[0m\u001b[35m \u001b[0m│\n",
       "└───────────────────────────┴───────────────────────────┘\n"
      ]
     },
     "metadata": {},
     "output_type": "display_data"
    },
    {
     "data": {
      "text/plain": [
       "[{'val_loss': 0.6061072945594788, 'val_acc': 0.8130000233650208}]"
      ]
     },
     "execution_count": 33,
     "metadata": {},
     "output_type": "execute_result"
    }
   ],
   "source": [
    "trainer.validate(model, test_loader)"
   ]
  },
  {
   "cell_type": "markdown",
   "id": "b2f5fb47-6e34-448d-90e5-3c96b337c0fe",
   "metadata": {},
   "source": [
    "81% should be a significant increase from before! So we'll keep this modification."
   ]
  },
  {
   "cell_type": "markdown",
   "id": "4b1d2617-619a-47e3-aa69-38a9b6278473",
   "metadata": {},
   "source": [
    "#### Weight Decay\n",
    "**Weight decay** is an important parameter in regularization. It penalizes the weights of a model, such that no individual weight can be too large. This, in turn, encourages the model not to rely on any one weight too much - a key sign of overfitting.  \n",
    "\n",
    "With too low a weight decay, the model may overfit a dataset. However, if the weight decay is too high, the model may in fact *underfit* as its representation ability is restricted too much by the weight decay.\n",
    "\n",
    "*Fun fact: Weight decay is broken in the Adam optimizer. AdamW fixes it!*"
   ]
  },
  {
   "cell_type": "code",
   "execution_count": 35,
   "id": "32b333af-1c6b-4358-958a-1281326f444a",
   "metadata": {},
   "outputs": [],
   "source": [
    "class LResNet(pl.LightningModule):\n",
    "    def __init__(self, resnet_cls, max_lr, min_lr, epochs, wd):\n",
    "        super().__init__()\n",
    "        self.resnet = resnet_cls()\n",
    "        self.resnet.fc = nn.Linear(512, 10)\n",
    "        self.max_lr = max_lr\n",
    "        self.min_lr = min_lr\n",
    "        self.epochs = epochs\n",
    "        #################################\n",
    "        # NEW! Add weight decay argument.\n",
    "        self.wd = wd\n",
    "        #################################\n",
    "\n",
    "        self.accuracy = torchmetrics.Accuracy(\"multiclass\", num_classes=10)\n",
    "        \n",
    "        self.apply(self._init_weights)\n",
    "        nn.init.xavier_uniform_(self.resnet.fc.weight)\n",
    "        nn.init.zeros_(self.resnet.fc.bias)\n",
    "        \n",
    "    def _init_weights(self, m):\n",
    "        if isinstance(m, nn.Conv2d):\n",
    "            nn.init.kaiming_normal_(m.weight, nonlinearity=\"relu\", mode=\"fan_out\")\n",
    "            if m.bias is not None:\n",
    "                nn.init.zeros_(m.bias)\n",
    "\n",
    "        elif isinstance(m, nn.BatchNorm2d):\n",
    "            nn.init.ones_(m.weight)\n",
    "            if m.bias is not None:\n",
    "                nn.init.zeros_(m.bias)\n",
    "\n",
    "    def training_step(self, batch, batch_idx):\n",
    "        X, y = batch\n",
    "        y_pred = self.resnet(X)\n",
    "        loss = nn.functional.cross_entropy(y_pred, y, label_smoothing=0.1)\n",
    "        self.log(\"train_loss\", loss)\n",
    "        acc = self.accuracy(y_pred, y)\n",
    "        self.log(\"train_acc\", acc)\n",
    "\n",
    "        return loss\n",
    "\n",
    "    def validation_step(self, batch, batch_idx):\n",
    "        X, y = batch\n",
    "        y_pred = self.resnet(X)\n",
    "        loss = nn.functional.cross_entropy(y_pred, y)\n",
    "        self.log(\"val_loss\", loss)\n",
    "        acc = self.accuracy(y_pred, y)\n",
    "        self.log(\"val_acc\", acc)\n",
    "\n",
    "    def configure_optimizers(self):\n",
    "        #####################################\n",
    "        # NEW! Add weight decay to optimizer.\n",
    "        optimizer = torch.optim.AdamW(self.resnet.parameters(), lr=self.min_lr, weight_decay=self.wd)\n",
    "        #####################################\n",
    "        scheduler = torch.optim.lr_scheduler.OneCycleLR(optimizer, max_lr=self.max_lr, epochs=self.epochs, steps_per_epoch=len(train_loader), div_factor=self.max_lr/self.min_lr)\n",
    "        return [optimizer], [{\"scheduler\": scheduler, \"interval\": \"step\"}]"
   ]
  },
  {
   "cell_type": "markdown",
   "id": "6c4ea7ac-c964-45fb-a036-c42254fea84a",
   "metadata": {},
   "source": [
    "The default weight decay is `1e-2`. Let's try decreasing it to `1e-3` to see if the model would benefit from it."
   ]
  },
  {
   "cell_type": "code",
   "execution_count": 36,
   "id": "158bedd9-8a1c-4a7e-8173-34cb7d4ce080",
   "metadata": {
    "collapsed": true,
    "jupyter": {
     "outputs_hidden": true
    }
   },
   "outputs": [
    {
     "name": "stderr",
     "output_type": "stream",
     "text": [
      "Using bfloat16 Automatic Mixed Precision (AMP)\n",
      "GPU available: True (cuda), used: True\n",
      "TPU available: False, using: 0 TPU cores\n",
      "HPU available: False, using: 0 HPUs\n",
      "LOCAL_RANK: 0 - CUDA_VISIBLE_DEVICES: [0]\n",
      "\n",
      "  | Name     | Type               | Params | Mode \n",
      "--------------------------------------------------------\n",
      "0 | resnet   | ResNet             | 11.2 M | train\n",
      "1 | accuracy | MulticlassAccuracy | 0      | train\n",
      "--------------------------------------------------------\n",
      "11.2 M    Trainable params\n",
      "0         Non-trainable params\n",
      "11.2 M    Total params\n",
      "44.727    Total estimated model params size (MB)\n",
      "69        Modules in train mode\n",
      "0         Modules in eval mode\n"
     ]
    },
    {
     "data": {
      "application/vnd.jupyter.widget-view+json": {
       "model_id": "f73cfb8b5d8a4db7a428374b5de1f0da",
       "version_major": 2,
       "version_minor": 0
      },
      "text/plain": [
       "Sanity Checking: |          | 0/? [00:00<?, ?it/s]"
      ]
     },
     "metadata": {},
     "output_type": "display_data"
    },
    {
     "data": {
      "application/vnd.jupyter.widget-view+json": {
       "model_id": "f341dacb1c6b4ce2adfa93223cbe8b66",
       "version_major": 2,
       "version_minor": 0
      },
      "text/plain": [
       "Training: |          | 0/? [00:00<?, ?it/s]"
      ]
     },
     "metadata": {},
     "output_type": "display_data"
    },
    {
     "data": {
      "application/vnd.jupyter.widget-view+json": {
       "model_id": "3d2c0262ff6a436f8cdd942d7672dcb5",
       "version_major": 2,
       "version_minor": 0
      },
      "text/plain": [
       "Validation: |          | 0/? [00:00<?, ?it/s]"
      ]
     },
     "metadata": {},
     "output_type": "display_data"
    },
    {
     "data": {
      "application/vnd.jupyter.widget-view+json": {
       "model_id": "8ddd8a758f4b4d879772d77e596ebe94",
       "version_major": 2,
       "version_minor": 0
      },
      "text/plain": [
       "Validation: |          | 0/? [00:00<?, ?it/s]"
      ]
     },
     "metadata": {},
     "output_type": "display_data"
    },
    {
     "data": {
      "application/vnd.jupyter.widget-view+json": {
       "model_id": "f3b6c67f31aa4e83b3460d12ba7124cd",
       "version_major": 2,
       "version_minor": 0
      },
      "text/plain": [
       "Validation: |          | 0/? [00:00<?, ?it/s]"
      ]
     },
     "metadata": {},
     "output_type": "display_data"
    },
    {
     "data": {
      "application/vnd.jupyter.widget-view+json": {
       "model_id": "63c4a60b79034f8f81afc09db30ada66",
       "version_major": 2,
       "version_minor": 0
      },
      "text/plain": [
       "Validation: |          | 0/? [00:00<?, ?it/s]"
      ]
     },
     "metadata": {},
     "output_type": "display_data"
    },
    {
     "data": {
      "application/vnd.jupyter.widget-view+json": {
       "model_id": "88f4b52241e34d40be553eb0aa41b3e0",
       "version_major": 2,
       "version_minor": 0
      },
      "text/plain": [
       "Validation: |          | 0/? [00:00<?, ?it/s]"
      ]
     },
     "metadata": {},
     "output_type": "display_data"
    },
    {
     "data": {
      "application/vnd.jupyter.widget-view+json": {
       "model_id": "1e911e4dce7242ddafc677b6c7196644",
       "version_major": 2,
       "version_minor": 0
      },
      "text/plain": [
       "Validation: |          | 0/? [00:00<?, ?it/s]"
      ]
     },
     "metadata": {},
     "output_type": "display_data"
    },
    {
     "data": {
      "application/vnd.jupyter.widget-view+json": {
       "model_id": "0fd2be9145154119801428be77230273",
       "version_major": 2,
       "version_minor": 0
      },
      "text/plain": [
       "Validation: |          | 0/? [00:00<?, ?it/s]"
      ]
     },
     "metadata": {},
     "output_type": "display_data"
    },
    {
     "data": {
      "application/vnd.jupyter.widget-view+json": {
       "model_id": "2a72c18d4c234e819095274c3f8ce8c8",
       "version_major": 2,
       "version_minor": 0
      },
      "text/plain": [
       "Validation: |          | 0/? [00:00<?, ?it/s]"
      ]
     },
     "metadata": {},
     "output_type": "display_data"
    },
    {
     "data": {
      "application/vnd.jupyter.widget-view+json": {
       "model_id": "d65bff1a7bcf49b4afbd483fd256b310",
       "version_major": 2,
       "version_minor": 0
      },
      "text/plain": [
       "Validation: |          | 0/? [00:00<?, ?it/s]"
      ]
     },
     "metadata": {},
     "output_type": "display_data"
    },
    {
     "data": {
      "application/vnd.jupyter.widget-view+json": {
       "model_id": "5a45be6457e244e6971cdf0d8127512f",
       "version_major": 2,
       "version_minor": 0
      },
      "text/plain": [
       "Validation: |          | 0/? [00:00<?, ?it/s]"
      ]
     },
     "metadata": {},
     "output_type": "display_data"
    },
    {
     "name": "stderr",
     "output_type": "stream",
     "text": [
      "`Trainer.fit` stopped: `max_epochs=10` reached.\n"
     ]
    },
    {
     "name": "stdout",
     "output_type": "stream",
     "text": [
      "CPU times: user 1min 7s, sys: 3.35 s, total: 1min 10s\n",
      "Wall time: 1min 9s\n"
     ]
    }
   ],
   "source": [
    "%%time\n",
    "model = LResNet(resnet18, 5e-3, 2e-5, 10, 1e-3)\n",
    "trainer = pl.Trainer(precision=\"bf16-mixed\", max_epochs=10, log_every_n_steps=1, check_val_every_n_epoch=1, enable_checkpointing=False)\n",
    "trainer.fit(model, train_loader, test_loader) "
   ]
  },
  {
   "cell_type": "code",
   "execution_count": 37,
   "id": "6c3f7796-7d68-4f93-b25e-75d499e116a5",
   "metadata": {},
   "outputs": [
    {
     "name": "stderr",
     "output_type": "stream",
     "text": [
      "LOCAL_RANK: 0 - CUDA_VISIBLE_DEVICES: [0]\n"
     ]
    },
    {
     "data": {
      "application/vnd.jupyter.widget-view+json": {
       "model_id": "bfab0f19b826454896f9ead43a5be688",
       "version_major": 2,
       "version_minor": 0
      },
      "text/plain": [
       "Validation: |          | 0/? [00:00<?, ?it/s]"
      ]
     },
     "metadata": {},
     "output_type": "display_data"
    },
    {
     "data": {
      "text/html": [
       "<pre style=\"white-space:pre;overflow-x:auto;line-height:normal;font-family:Menlo,'DejaVu Sans Mono',consolas,'Courier New',monospace\">┏━━━━━━━━━━━━━━━━━━━━━━━━━━━┳━━━━━━━━━━━━━━━━━━━━━━━━━━━┓\n",
       "┃<span style=\"font-weight: bold\">      Validate metric      </span>┃<span style=\"font-weight: bold\">       DataLoader 0        </span>┃\n",
       "┡━━━━━━━━━━━━━━━━━━━━━━━━━━━╇━━━━━━━━━━━━━━━━━━━━━━━━━━━┩\n",
       "│<span style=\"color: #008080; text-decoration-color: #008080\">          val_acc          </span>│<span style=\"color: #800080; text-decoration-color: #800080\">    0.8087999820709229     </span>│\n",
       "│<span style=\"color: #008080; text-decoration-color: #008080\">         val_loss          </span>│<span style=\"color: #800080; text-decoration-color: #800080\">    0.6120442152023315     </span>│\n",
       "└───────────────────────────┴───────────────────────────┘\n",
       "</pre>\n"
      ],
      "text/plain": [
       "┏━━━━━━━━━━━━━━━━━━━━━━━━━━━┳━━━━━━━━━━━━━━━━━━━━━━━━━━━┓\n",
       "┃\u001b[1m \u001b[0m\u001b[1m     Validate metric     \u001b[0m\u001b[1m \u001b[0m┃\u001b[1m \u001b[0m\u001b[1m      DataLoader 0       \u001b[0m\u001b[1m \u001b[0m┃\n",
       "┡━━━━━━━━━━━━━━━━━━━━━━━━━━━╇━━━━━━━━━━━━━━━━━━━━━━━━━━━┩\n",
       "│\u001b[36m \u001b[0m\u001b[36m         val_acc         \u001b[0m\u001b[36m \u001b[0m│\u001b[35m \u001b[0m\u001b[35m   0.8087999820709229    \u001b[0m\u001b[35m \u001b[0m│\n",
       "│\u001b[36m \u001b[0m\u001b[36m        val_loss         \u001b[0m\u001b[36m \u001b[0m│\u001b[35m \u001b[0m\u001b[35m   0.6120442152023315    \u001b[0m\u001b[35m \u001b[0m│\n",
       "└───────────────────────────┴───────────────────────────┘\n"
      ]
     },
     "metadata": {},
     "output_type": "display_data"
    },
    {
     "data": {
      "text/plain": [
       "[{'val_loss': 0.6120442152023315, 'val_acc': 0.8087999820709229}]"
      ]
     },
     "execution_count": 37,
     "metadata": {},
     "output_type": "execute_result"
    }
   ],
   "source": [
    "trainer.validate(model, test_loader)"
   ]
  },
  {
   "cell_type": "markdown",
   "id": "5498fa4e-bca0-4227-b42a-4f965529d3a6",
   "metadata": {},
   "source": [
    "Alright, that's within margin of error... how about increasing it to `0.1`?"
   ]
  },
  {
   "cell_type": "code",
   "execution_count": 38,
   "id": "c7228ec2-540d-444d-be9a-15b85dc4be87",
   "metadata": {
    "collapsed": true,
    "jupyter": {
     "outputs_hidden": true
    }
   },
   "outputs": [
    {
     "name": "stderr",
     "output_type": "stream",
     "text": [
      "Using bfloat16 Automatic Mixed Precision (AMP)\n",
      "GPU available: True (cuda), used: True\n",
      "TPU available: False, using: 0 TPU cores\n",
      "HPU available: False, using: 0 HPUs\n",
      "LOCAL_RANK: 0 - CUDA_VISIBLE_DEVICES: [0]\n",
      "\n",
      "  | Name     | Type               | Params | Mode \n",
      "--------------------------------------------------------\n",
      "0 | resnet   | ResNet             | 11.2 M | train\n",
      "1 | accuracy | MulticlassAccuracy | 0      | train\n",
      "--------------------------------------------------------\n",
      "11.2 M    Trainable params\n",
      "0         Non-trainable params\n",
      "11.2 M    Total params\n",
      "44.727    Total estimated model params size (MB)\n",
      "69        Modules in train mode\n",
      "0         Modules in eval mode\n"
     ]
    },
    {
     "data": {
      "application/vnd.jupyter.widget-view+json": {
       "model_id": "5cb69f734caa43c6aee81979c5b9a8f7",
       "version_major": 2,
       "version_minor": 0
      },
      "text/plain": [
       "Sanity Checking: |          | 0/? [00:00<?, ?it/s]"
      ]
     },
     "metadata": {},
     "output_type": "display_data"
    },
    {
     "data": {
      "application/vnd.jupyter.widget-view+json": {
       "model_id": "fee90366d1f04a579a5a354eb2438e2c",
       "version_major": 2,
       "version_minor": 0
      },
      "text/plain": [
       "Training: |          | 0/? [00:00<?, ?it/s]"
      ]
     },
     "metadata": {},
     "output_type": "display_data"
    },
    {
     "data": {
      "application/vnd.jupyter.widget-view+json": {
       "model_id": "c7d860cba6444fc7a9949556336401ee",
       "version_major": 2,
       "version_minor": 0
      },
      "text/plain": [
       "Validation: |          | 0/? [00:00<?, ?it/s]"
      ]
     },
     "metadata": {},
     "output_type": "display_data"
    },
    {
     "data": {
      "application/vnd.jupyter.widget-view+json": {
       "model_id": "8e8182602bc0457f8029eca658a13f72",
       "version_major": 2,
       "version_minor": 0
      },
      "text/plain": [
       "Validation: |          | 0/? [00:00<?, ?it/s]"
      ]
     },
     "metadata": {},
     "output_type": "display_data"
    },
    {
     "data": {
      "application/vnd.jupyter.widget-view+json": {
       "model_id": "269ce95f4ffe423b91aca82fa11e4755",
       "version_major": 2,
       "version_minor": 0
      },
      "text/plain": [
       "Validation: |          | 0/? [00:00<?, ?it/s]"
      ]
     },
     "metadata": {},
     "output_type": "display_data"
    },
    {
     "data": {
      "application/vnd.jupyter.widget-view+json": {
       "model_id": "05e71c4123ff4d8586c1947391e8aebb",
       "version_major": 2,
       "version_minor": 0
      },
      "text/plain": [
       "Validation: |          | 0/? [00:00<?, ?it/s]"
      ]
     },
     "metadata": {},
     "output_type": "display_data"
    },
    {
     "data": {
      "application/vnd.jupyter.widget-view+json": {
       "model_id": "8689344d16d9462a89e36ac6adfb807f",
       "version_major": 2,
       "version_minor": 0
      },
      "text/plain": [
       "Validation: |          | 0/? [00:00<?, ?it/s]"
      ]
     },
     "metadata": {},
     "output_type": "display_data"
    },
    {
     "data": {
      "application/vnd.jupyter.widget-view+json": {
       "model_id": "eed021b89f3e42c78eaad93c41e9c416",
       "version_major": 2,
       "version_minor": 0
      },
      "text/plain": [
       "Validation: |          | 0/? [00:00<?, ?it/s]"
      ]
     },
     "metadata": {},
     "output_type": "display_data"
    },
    {
     "data": {
      "application/vnd.jupyter.widget-view+json": {
       "model_id": "98a60dfc2c2c470d9ead8d1f58f49dc5",
       "version_major": 2,
       "version_minor": 0
      },
      "text/plain": [
       "Validation: |          | 0/? [00:00<?, ?it/s]"
      ]
     },
     "metadata": {},
     "output_type": "display_data"
    },
    {
     "data": {
      "application/vnd.jupyter.widget-view+json": {
       "model_id": "bda223a5617648c28f3ee13195a63409",
       "version_major": 2,
       "version_minor": 0
      },
      "text/plain": [
       "Validation: |          | 0/? [00:00<?, ?it/s]"
      ]
     },
     "metadata": {},
     "output_type": "display_data"
    },
    {
     "data": {
      "application/vnd.jupyter.widget-view+json": {
       "model_id": "cdf479a8881b411dad68e9380ab71dea",
       "version_major": 2,
       "version_minor": 0
      },
      "text/plain": [
       "Validation: |          | 0/? [00:00<?, ?it/s]"
      ]
     },
     "metadata": {},
     "output_type": "display_data"
    },
    {
     "data": {
      "application/vnd.jupyter.widget-view+json": {
       "model_id": "b1808fa8a8584a98a9025814a1a853d0",
       "version_major": 2,
       "version_minor": 0
      },
      "text/plain": [
       "Validation: |          | 0/? [00:00<?, ?it/s]"
      ]
     },
     "metadata": {},
     "output_type": "display_data"
    },
    {
     "name": "stderr",
     "output_type": "stream",
     "text": [
      "`Trainer.fit` stopped: `max_epochs=10` reached.\n"
     ]
    },
    {
     "name": "stdout",
     "output_type": "stream",
     "text": [
      "CPU times: user 1min 7s, sys: 3.31 s, total: 1min 10s\n",
      "Wall time: 1min 9s\n"
     ]
    }
   ],
   "source": [
    "%%time\n",
    "model = LResNet(resnet18, 5e-3, 2e-5, 10, 0.1)\n",
    "trainer = pl.Trainer(precision=\"bf16-mixed\", max_epochs=10, log_every_n_steps=1, check_val_every_n_epoch=1, enable_checkpointing=False)\n",
    "trainer.fit(model, train_loader, test_loader) "
   ]
  },
  {
   "cell_type": "code",
   "execution_count": 39,
   "id": "cbbb5995-09ee-49eb-b2d2-77328d0bd2e3",
   "metadata": {},
   "outputs": [
    {
     "name": "stderr",
     "output_type": "stream",
     "text": [
      "LOCAL_RANK: 0 - CUDA_VISIBLE_DEVICES: [0]\n"
     ]
    },
    {
     "data": {
      "application/vnd.jupyter.widget-view+json": {
       "model_id": "c339f96067714ca1988f1a45ec6b86b0",
       "version_major": 2,
       "version_minor": 0
      },
      "text/plain": [
       "Validation: |          | 0/? [00:00<?, ?it/s]"
      ]
     },
     "metadata": {},
     "output_type": "display_data"
    },
    {
     "data": {
      "text/html": [
       "<pre style=\"white-space:pre;overflow-x:auto;line-height:normal;font-family:Menlo,'DejaVu Sans Mono',consolas,'Courier New',monospace\">┏━━━━━━━━━━━━━━━━━━━━━━━━━━━┳━━━━━━━━━━━━━━━━━━━━━━━━━━━┓\n",
       "┃<span style=\"font-weight: bold\">      Validate metric      </span>┃<span style=\"font-weight: bold\">       DataLoader 0        </span>┃\n",
       "┡━━━━━━━━━━━━━━━━━━━━━━━━━━━╇━━━━━━━━━━━━━━━━━━━━━━━━━━━┩\n",
       "│<span style=\"color: #008080; text-decoration-color: #008080\">          val_acc          </span>│<span style=\"color: #800080; text-decoration-color: #800080\">    0.8120999932289124     </span>│\n",
       "│<span style=\"color: #008080; text-decoration-color: #008080\">         val_loss          </span>│<span style=\"color: #800080; text-decoration-color: #800080\">     0.602706789970398     </span>│\n",
       "└───────────────────────────┴───────────────────────────┘\n",
       "</pre>\n"
      ],
      "text/plain": [
       "┏━━━━━━━━━━━━━━━━━━━━━━━━━━━┳━━━━━━━━━━━━━━━━━━━━━━━━━━━┓\n",
       "┃\u001b[1m \u001b[0m\u001b[1m     Validate metric     \u001b[0m\u001b[1m \u001b[0m┃\u001b[1m \u001b[0m\u001b[1m      DataLoader 0       \u001b[0m\u001b[1m \u001b[0m┃\n",
       "┡━━━━━━━━━━━━━━━━━━━━━━━━━━━╇━━━━━━━━━━━━━━━━━━━━━━━━━━━┩\n",
       "│\u001b[36m \u001b[0m\u001b[36m         val_acc         \u001b[0m\u001b[36m \u001b[0m│\u001b[35m \u001b[0m\u001b[35m   0.8120999932289124    \u001b[0m\u001b[35m \u001b[0m│\n",
       "│\u001b[36m \u001b[0m\u001b[36m        val_loss         \u001b[0m\u001b[36m \u001b[0m│\u001b[35m \u001b[0m\u001b[35m    0.602706789970398    \u001b[0m\u001b[35m \u001b[0m│\n",
       "└───────────────────────────┴───────────────────────────┘\n"
      ]
     },
     "metadata": {},
     "output_type": "display_data"
    },
    {
     "data": {
      "text/plain": [
       "[{'val_loss': 0.602706789970398, 'val_acc': 0.8120999932289124}]"
      ]
     },
     "execution_count": 39,
     "metadata": {},
     "output_type": "execute_result"
    }
   ],
   "source": [
    "trainer.validate(model, test_loader)"
   ]
  },
  {
   "cell_type": "markdown",
   "id": "4b032310-1868-4c99-a785-55478acec8e4",
   "metadata": {},
   "source": [
    "By right they're all within margin of error. So, I'll just stick with the default of `1e-2` since it gave the best results."
   ]
  },
  {
   "cell_type": "markdown",
   "id": "1fbdd6c9-1c91-452d-965a-65c9bad779c9",
   "metadata": {},
   "source": [
    "### Method 6: `torch.compile()`\n",
    "With PyTorch 2.0, JIT (just-in-time) compiling was introduced. This means that they compile the PyTorch module to minimize overhead, especially from the Python interpreter itself.  \n",
    "\n",
    "However, this takes quite some time to run. The first time you compile a module, PyTorch has to step through the entire process and piece together the compiled code."
   ]
  },
  {
   "cell_type": "code",
   "execution_count": 40,
   "id": "48cf5d43-67c7-4c09-9a9e-2b2c8c7db3e1",
   "metadata": {
    "collapsed": true,
    "jupyter": {
     "outputs_hidden": true
    }
   },
   "outputs": [
    {
     "name": "stderr",
     "output_type": "stream",
     "text": [
      "Using bfloat16 Automatic Mixed Precision (AMP)\n",
      "GPU available: True (cuda), used: True\n",
      "TPU available: False, using: 0 TPU cores\n",
      "HPU available: False, using: 0 HPUs\n",
      "LOCAL_RANK: 0 - CUDA_VISIBLE_DEVICES: [0]\n",
      "\n",
      "  | Name     | Type               | Params | Mode \n",
      "--------------------------------------------------------\n",
      "0 | resnet   | ResNet             | 11.2 M | train\n",
      "1 | accuracy | MulticlassAccuracy | 0      | train\n",
      "--------------------------------------------------------\n",
      "11.2 M    Trainable params\n",
      "0         Non-trainable params\n",
      "11.2 M    Total params\n",
      "44.727    Total estimated model params size (MB)\n",
      "69        Modules in train mode\n",
      "0         Modules in eval mode\n"
     ]
    },
    {
     "data": {
      "application/vnd.jupyter.widget-view+json": {
       "model_id": "9ecb6cbfb6d944b9842a8e4ded2bde82",
       "version_major": 2,
       "version_minor": 0
      },
      "text/plain": [
       "Sanity Checking: |          | 0/? [00:00<?, ?it/s]"
      ]
     },
     "metadata": {},
     "output_type": "display_data"
    },
    {
     "data": {
      "application/vnd.jupyter.widget-view+json": {
       "model_id": "c78e968f764946a3ab7824d59721dd74",
       "version_major": 2,
       "version_minor": 0
      },
      "text/plain": [
       "Training: |          | 0/? [00:00<?, ?it/s]"
      ]
     },
     "metadata": {},
     "output_type": "display_data"
    },
    {
     "name": "stderr",
     "output_type": "stream",
     "text": [
      "W0620 06:30:49.812000 8394 torch/_inductor/utils.py:1250] [5/0_1] Not enough SMs to use max_autotune_gemm mode\n",
      "W0620 06:31:13.395000 8394 torch/_dynamo/convert_frame.py:964] [1/8] torch._dynamo hit config.recompile_limit (8)\n",
      "W0620 06:31:13.395000 8394 torch/_dynamo/convert_frame.py:964] [1/8]    function: 'log' (/venv/main/lib/python3.12/site-packages/pytorch_lightning/core/module.py:376)\n",
      "W0620 06:31:13.395000 8394 torch/_dynamo/convert_frame.py:964] [1/8]    last reason: 1/7: name == 'train_acc'                                    \n",
      "W0620 06:31:13.395000 8394 torch/_dynamo/convert_frame.py:964] [1/8] To log all recompilation reasons, use TORCH_LOGS=\"recompiles\".\n",
      "W0620 06:31:13.395000 8394 torch/_dynamo/convert_frame.py:964] [1/8] To diagnose recompilation issues, see https://pytorch.org/docs/main/torch.compiler_troubleshooting.html.\n"
     ]
    },
    {
     "data": {
      "application/vnd.jupyter.widget-view+json": {
       "model_id": "be704c50ced04db49a6427611cc65e99",
       "version_major": 2,
       "version_minor": 0
      },
      "text/plain": [
       "Validation: |          | 0/? [00:00<?, ?it/s]"
      ]
     },
     "metadata": {},
     "output_type": "display_data"
    },
    {
     "data": {
      "application/vnd.jupyter.widget-view+json": {
       "model_id": "867fce68ab9c42128782a932be223f30",
       "version_major": 2,
       "version_minor": 0
      },
      "text/plain": [
       "Validation: |          | 0/? [00:00<?, ?it/s]"
      ]
     },
     "metadata": {},
     "output_type": "display_data"
    },
    {
     "name": "stderr",
     "output_type": "stream",
     "text": [
      "`Trainer.fit` stopped: `max_epochs=10` reached.\n"
     ]
    },
    {
     "name": "stdout",
     "output_type": "stream",
     "text": [
      "CPU times: user 1min 19s, sys: 4.79 s, total: 1min 24s\n",
      "Wall time: 1min 30s\n"
     ]
    }
   ],
   "source": [
    "%%time\n",
    "model = torch.compile(LResNet(resnet18, 5e-3, 2e-5, 10, 1e-2))\n",
    "trainer = pl.Trainer(precision=\"bf16-mixed\", max_epochs=10, log_every_n_steps=1, check_val_every_n_epoch=5, enable_checkpointing=False)\n",
    "trainer.fit(model, train_loader, test_loader) "
   ]
  },
  {
   "cell_type": "markdown",
   "id": "5e7dec64-bd14-4b9e-95c2-2a645e8fa918",
   "metadata": {},
   "source": [
    "The same thing took about 30 seconds extra to compile and run. However, the it/s increased by 10, which adds up significantly over many epochs!"
   ]
  },
  {
   "cell_type": "code",
   "execution_count": 41,
   "id": "58219eea-2c1f-43da-a7c6-c18294bbc088",
   "metadata": {},
   "outputs": [
    {
     "name": "stderr",
     "output_type": "stream",
     "text": [
      "LOCAL_RANK: 0 - CUDA_VISIBLE_DEVICES: [0]\n"
     ]
    },
    {
     "data": {
      "application/vnd.jupyter.widget-view+json": {
       "model_id": "05e4ea32a0fb4f2083df0ba091a9b938",
       "version_major": 2,
       "version_minor": 0
      },
      "text/plain": [
       "Validation: |          | 0/? [00:00<?, ?it/s]"
      ]
     },
     "metadata": {},
     "output_type": "display_data"
    },
    {
     "data": {
      "text/html": [
       "<pre style=\"white-space:pre;overflow-x:auto;line-height:normal;font-family:Menlo,'DejaVu Sans Mono',consolas,'Courier New',monospace\">┏━━━━━━━━━━━━━━━━━━━━━━━━━━━┳━━━━━━━━━━━━━━━━━━━━━━━━━━━┓\n",
       "┃<span style=\"font-weight: bold\">      Validate metric      </span>┃<span style=\"font-weight: bold\">       DataLoader 0        </span>┃\n",
       "┡━━━━━━━━━━━━━━━━━━━━━━━━━━━╇━━━━━━━━━━━━━━━━━━━━━━━━━━━┩\n",
       "│<span style=\"color: #008080; text-decoration-color: #008080\">          val_acc          </span>│<span style=\"color: #800080; text-decoration-color: #800080\">    0.8068000078201294     </span>│\n",
       "│<span style=\"color: #008080; text-decoration-color: #008080\">         val_loss          </span>│<span style=\"color: #800080; text-decoration-color: #800080\">    0.6096562743186951     </span>│\n",
       "└───────────────────────────┴───────────────────────────┘\n",
       "</pre>\n"
      ],
      "text/plain": [
       "┏━━━━━━━━━━━━━━━━━━━━━━━━━━━┳━━━━━━━━━━━━━━━━━━━━━━━━━━━┓\n",
       "┃\u001b[1m \u001b[0m\u001b[1m     Validate metric     \u001b[0m\u001b[1m \u001b[0m┃\u001b[1m \u001b[0m\u001b[1m      DataLoader 0       \u001b[0m\u001b[1m \u001b[0m┃\n",
       "┡━━━━━━━━━━━━━━━━━━━━━━━━━━━╇━━━━━━━━━━━━━━━━━━━━━━━━━━━┩\n",
       "│\u001b[36m \u001b[0m\u001b[36m         val_acc         \u001b[0m\u001b[36m \u001b[0m│\u001b[35m \u001b[0m\u001b[35m   0.8068000078201294    \u001b[0m\u001b[35m \u001b[0m│\n",
       "│\u001b[36m \u001b[0m\u001b[36m        val_loss         \u001b[0m\u001b[36m \u001b[0m│\u001b[35m \u001b[0m\u001b[35m   0.6096562743186951    \u001b[0m\u001b[35m \u001b[0m│\n",
       "└───────────────────────────┴───────────────────────────┘\n"
      ]
     },
     "metadata": {},
     "output_type": "display_data"
    },
    {
     "data": {
      "text/plain": [
       "[{'val_loss': 0.6096562743186951, 'val_acc': 0.8068000078201294}]"
      ]
     },
     "execution_count": 41,
     "metadata": {},
     "output_type": "execute_result"
    }
   ],
   "source": [
    "trainer.validate(model, test_loader)"
   ]
  },
  {
   "cell_type": "markdown",
   "id": "9b230fe1-d6bd-48f1-8ab8-08785865fac2",
   "metadata": {},
   "source": [
    "It also seems that the accuracy gets a bump down too. But it's within the margin of error, so we can't do too much."
   ]
  },
  {
   "cell_type": "markdown",
   "id": "b279cf7b-8150-46ef-9e2d-82309efaf13c",
   "metadata": {},
   "source": [
    "### Finale: Up to 11!\n",
    "That's all the techniques so far - so let's just crank up the epochs one last time to see what the highest accuracy is! I'll give a deadline of maybe 15 minutes for training, so we'll go for 100 epochs."
   ]
  },
  {
   "cell_type": "markdown",
   "id": "fab74885-180b-4c48-92a5-e53e07831de9",
   "metadata": {},
   "source": [
    "### The Final Code"
   ]
  },
  {
   "cell_type": "code",
   "execution_count": 1,
   "id": "83421385-30d4-4e04-bf80-4a2a6b85a290",
   "metadata": {},
   "outputs": [],
   "source": [
    "import torch\n",
    "import torch.nn as nn\n",
    "import torchvision\n",
    "from torchvision.models import resnet18\n",
    "import pytorch_lightning as pl\n",
    "import torchmetrics\n",
    "from torchvision.transforms import v2"
   ]
  },
  {
   "cell_type": "code",
   "execution_count": 2,
   "id": "85e7408d-ee33-4faa-8445-fd9f461bc8a8",
   "metadata": {},
   "outputs": [],
   "source": [
    "train_transforms = v2.Compose([\n",
    "    v2.ToImage(),\n",
    "    v2.Resize((32, 32)),\n",
    "    v2.AutoAugment(v2.AutoAugmentPolicy.CIFAR10),\n",
    "    v2.ToDtype(torch.float32, scale=True),\n",
    "    v2.Normalize([0.48, 0.44, 0.40], [0.22, 0.22, 0.22])\n",
    "])\n",
    "test_transforms = v2.Compose([\n",
    "    v2.ToImage(),\n",
    "    v2.Resize((32, 32)),\n",
    "    v2.ToDtype(torch.float32, scale=True),\n",
    "    v2.Normalize([0.48, 0.44, 0.40], [0.22, 0.22, 0.22])\n",
    "])\n",
    "\n",
    "train_ds = torchvision.datasets.CIFAR10(root=\"data\", train=True, download=True, transform=train_transforms)\n",
    "test_ds = torchvision.datasets.CIFAR10(root=\"data\", train=False, download=True, transform=test_transforms)\n",
    "\n",
    "train_loader = torch.utils.data.DataLoader(train_ds, batch_size=64, shuffle=True, num_workers=3, prefetch_factor=1, persistent_workers=True)\n",
    "test_loader = torch.utils.data.DataLoader(test_ds, batch_size=64, shuffle=False, num_workers=3, prefetch_factor=1, persistent_workers=True)"
   ]
  },
  {
   "cell_type": "code",
   "execution_count": 3,
   "id": "12737669-071b-4718-ad05-fd178f43bfb3",
   "metadata": {},
   "outputs": [],
   "source": [
    "torch.set_float32_matmul_precision('high')"
   ]
  },
  {
   "cell_type": "code",
   "execution_count": 4,
   "id": "f9e7c5fe-6141-4629-91e0-08460d7aede2",
   "metadata": {},
   "outputs": [],
   "source": [
    "class LResNet(pl.LightningModule):\n",
    "    def __init__(self, resnet_cls, max_lr, min_lr, epochs, wd):\n",
    "        super().__init__()\n",
    "        self.resnet = resnet_cls()\n",
    "        self.resnet.fc = nn.Linear(512, 10)\n",
    "        self.max_lr = max_lr\n",
    "        self.min_lr = min_lr\n",
    "        self.epochs = epochs\n",
    "        self.wd = wd\n",
    "\n",
    "        self.accuracy = torchmetrics.Accuracy(\"multiclass\", num_classes=10)\n",
    "        \n",
    "        self.apply(self._init_weights)\n",
    "        nn.init.xavier_uniform_(self.resnet.fc.weight)\n",
    "        nn.init.zeros_(self.resnet.fc.bias)\n",
    "        \n",
    "    def _init_weights(self, m):\n",
    "        if isinstance(m, nn.Conv2d):\n",
    "            nn.init.kaiming_normal_(m.weight, nonlinearity=\"relu\", mode=\"fan_out\")\n",
    "            if m.bias is not None:\n",
    "                nn.init.zeros_(m.bias)\n",
    "\n",
    "        elif isinstance(m, nn.BatchNorm2d):\n",
    "            nn.init.ones_(m.weight)\n",
    "            if m.bias is not None:\n",
    "                nn.init.zeros_(m.bias)\n",
    "\n",
    "    def training_step(self, batch, batch_idx):\n",
    "        X, y = batch\n",
    "        y_pred = self.resnet(X)\n",
    "        loss = nn.functional.cross_entropy(y_pred, y, label_smoothing=0.1)\n",
    "        self.log(\"train_loss\", loss)\n",
    "        acc = self.accuracy(y_pred, y)\n",
    "        self.log(\"train_acc\", acc)\n",
    "\n",
    "        return loss\n",
    "\n",
    "    def validation_step(self, batch, batch_idx):\n",
    "        X, y = batch\n",
    "        y_pred = self.resnet(X)\n",
    "        loss = nn.functional.cross_entropy(y_pred, y)\n",
    "        self.log(\"val_loss\", loss)\n",
    "        acc = self.accuracy(y_pred, y)\n",
    "        self.log(\"val_acc\", acc)\n",
    "\n",
    "    def configure_optimizers(self):\n",
    "        optimizer = torch.optim.AdamW(self.resnet.parameters(), lr=self.min_lr, weight_decay=self.wd)\n",
    "        scheduler = torch.optim.lr_scheduler.OneCycleLR(optimizer, max_lr=self.max_lr, epochs=self.epochs, steps_per_epoch=len(train_loader), div_factor=self.max_lr/self.min_lr)\n",
    "        return [optimizer], [{\"scheduler\": scheduler, \"interval\": \"step\"}]"
   ]
  },
  {
   "cell_type": "code",
   "execution_count": 5,
   "id": "c93098ef-613b-4b89-ab61-59c5b10f3469",
   "metadata": {},
   "outputs": [],
   "source": [
    "model = torch.compile(LResNet(resnet18, 5e-3, 2e-5, 100, 1e-2))"
   ]
  },
  {
   "cell_type": "code",
   "execution_count": 6,
   "id": "e3917788-5992-40d7-ab88-a9b8398bf7fd",
   "metadata": {
    "collapsed": true,
    "jupyter": {
     "outputs_hidden": true
    }
   },
   "outputs": [
    {
     "name": "stderr",
     "output_type": "stream",
     "text": [
      "Using bfloat16 Automatic Mixed Precision (AMP)\n",
      "GPU available: True (cuda), used: True\n",
      "TPU available: False, using: 0 TPU cores\n",
      "HPU available: False, using: 0 HPUs\n",
      "LOCAL_RANK: 0 - CUDA_VISIBLE_DEVICES: [0]\n",
      "\n",
      "  | Name     | Type               | Params | Mode \n",
      "--------------------------------------------------------\n",
      "0 | resnet   | ResNet             | 11.2 M | train\n",
      "1 | accuracy | MulticlassAccuracy | 0      | train\n",
      "--------------------------------------------------------\n",
      "11.2 M    Trainable params\n",
      "0         Non-trainable params\n",
      "11.2 M    Total params\n",
      "44.727    Total estimated model params size (MB)\n",
      "69        Modules in train mode\n",
      "0         Modules in eval mode\n"
     ]
    },
    {
     "data": {
      "application/vnd.jupyter.widget-view+json": {
       "model_id": "49ef523adb18433bab7cf92268c785e8",
       "version_major": 2,
       "version_minor": 0
      },
      "text/plain": [
       "Sanity Checking: |          | 0/? [00:00<?, ?it/s]"
      ]
     },
     "metadata": {},
     "output_type": "display_data"
    },
    {
     "data": {
      "application/vnd.jupyter.widget-view+json": {
       "model_id": "3831a317846746398b11a61f014fcf56",
       "version_major": 2,
       "version_minor": 0
      },
      "text/plain": [
       "Training: |          | 0/? [00:00<?, ?it/s]"
      ]
     },
     "metadata": {},
     "output_type": "display_data"
    },
    {
     "name": "stderr",
     "output_type": "stream",
     "text": [
      "W0620 06:44:34.322000 15630 torch/_dynamo/convert_frame.py:964] [1/8] torch._dynamo hit config.recompile_limit (8)\n",
      "W0620 06:44:34.322000 15630 torch/_dynamo/convert_frame.py:964] [1/8]    function: 'log' (/venv/main/lib/python3.12/site-packages/pytorch_lightning/core/module.py:376)\n",
      "W0620 06:44:34.322000 15630 torch/_dynamo/convert_frame.py:964] [1/8]    last reason: 1/7: name == 'train_acc'                                    \n",
      "W0620 06:44:34.322000 15630 torch/_dynamo/convert_frame.py:964] [1/8] To log all recompilation reasons, use TORCH_LOGS=\"recompiles\".\n",
      "W0620 06:44:34.322000 15630 torch/_dynamo/convert_frame.py:964] [1/8] To diagnose recompilation issues, see https://pytorch.org/docs/main/torch.compiler_troubleshooting.html.\n"
     ]
    },
    {
     "data": {
      "application/vnd.jupyter.widget-view+json": {
       "model_id": "ce2fdba311a74ccfab2150c0859ee800",
       "version_major": 2,
       "version_minor": 0
      },
      "text/plain": [
       "Validation: |          | 0/? [00:00<?, ?it/s]"
      ]
     },
     "metadata": {},
     "output_type": "display_data"
    },
    {
     "data": {
      "application/vnd.jupyter.widget-view+json": {
       "model_id": "0b1fc66faa1a43019aa68eab24e4641a",
       "version_major": 2,
       "version_minor": 0
      },
      "text/plain": [
       "Validation: |          | 0/? [00:00<?, ?it/s]"
      ]
     },
     "metadata": {},
     "output_type": "display_data"
    },
    {
     "data": {
      "application/vnd.jupyter.widget-view+json": {
       "model_id": "cc723e52b77040b3aff1bd45516576c6",
       "version_major": 2,
       "version_minor": 0
      },
      "text/plain": [
       "Validation: |          | 0/? [00:00<?, ?it/s]"
      ]
     },
     "metadata": {},
     "output_type": "display_data"
    },
    {
     "data": {
      "application/vnd.jupyter.widget-view+json": {
       "model_id": "5bf2c667ea5844e4848fb78a3e17f287",
       "version_major": 2,
       "version_minor": 0
      },
      "text/plain": [
       "Validation: |          | 0/? [00:00<?, ?it/s]"
      ]
     },
     "metadata": {},
     "output_type": "display_data"
    },
    {
     "data": {
      "application/vnd.jupyter.widget-view+json": {
       "model_id": "5347e7541cd3474f8689ef39250b1fb8",
       "version_major": 2,
       "version_minor": 0
      },
      "text/plain": [
       "Validation: |          | 0/? [00:00<?, ?it/s]"
      ]
     },
     "metadata": {},
     "output_type": "display_data"
    },
    {
     "data": {
      "application/vnd.jupyter.widget-view+json": {
       "model_id": "388b6eee434d43a68775bd8f589048d9",
       "version_major": 2,
       "version_minor": 0
      },
      "text/plain": [
       "Validation: |          | 0/? [00:00<?, ?it/s]"
      ]
     },
     "metadata": {},
     "output_type": "display_data"
    },
    {
     "data": {
      "application/vnd.jupyter.widget-view+json": {
       "model_id": "56cf84cc99044255b69fe74f6609dade",
       "version_major": 2,
       "version_minor": 0
      },
      "text/plain": [
       "Validation: |          | 0/? [00:00<?, ?it/s]"
      ]
     },
     "metadata": {},
     "output_type": "display_data"
    },
    {
     "data": {
      "application/vnd.jupyter.widget-view+json": {
       "model_id": "3c59119e131f40ca9d86e5c92d7569b4",
       "version_major": 2,
       "version_minor": 0
      },
      "text/plain": [
       "Validation: |          | 0/? [00:00<?, ?it/s]"
      ]
     },
     "metadata": {},
     "output_type": "display_data"
    },
    {
     "data": {
      "application/vnd.jupyter.widget-view+json": {
       "model_id": "617c3de6403a4a3ea32411552e3c1b23",
       "version_major": 2,
       "version_minor": 0
      },
      "text/plain": [
       "Validation: |          | 0/? [00:00<?, ?it/s]"
      ]
     },
     "metadata": {},
     "output_type": "display_data"
    },
    {
     "data": {
      "application/vnd.jupyter.widget-view+json": {
       "model_id": "bc5af680752c4a43a55b19663352d06c",
       "version_major": 2,
       "version_minor": 0
      },
      "text/plain": [
       "Validation: |          | 0/? [00:00<?, ?it/s]"
      ]
     },
     "metadata": {},
     "output_type": "display_data"
    },
    {
     "data": {
      "application/vnd.jupyter.widget-view+json": {
       "model_id": "fa8fae986e4d4003ae9aa87b2324e51e",
       "version_major": 2,
       "version_minor": 0
      },
      "text/plain": [
       "Validation: |          | 0/? [00:00<?, ?it/s]"
      ]
     },
     "metadata": {},
     "output_type": "display_data"
    },
    {
     "data": {
      "application/vnd.jupyter.widget-view+json": {
       "model_id": "4b1eee4293874d8b87c269bb656eec66",
       "version_major": 2,
       "version_minor": 0
      },
      "text/plain": [
       "Validation: |          | 0/? [00:00<?, ?it/s]"
      ]
     },
     "metadata": {},
     "output_type": "display_data"
    },
    {
     "data": {
      "application/vnd.jupyter.widget-view+json": {
       "model_id": "2e6a562cbf8549cab271aae32f2308f7",
       "version_major": 2,
       "version_minor": 0
      },
      "text/plain": [
       "Validation: |          | 0/? [00:00<?, ?it/s]"
      ]
     },
     "metadata": {},
     "output_type": "display_data"
    },
    {
     "data": {
      "application/vnd.jupyter.widget-view+json": {
       "model_id": "f7f7db4e571d4e038a29e7297eab42ca",
       "version_major": 2,
       "version_minor": 0
      },
      "text/plain": [
       "Validation: |          | 0/? [00:00<?, ?it/s]"
      ]
     },
     "metadata": {},
     "output_type": "display_data"
    },
    {
     "data": {
      "application/vnd.jupyter.widget-view+json": {
       "model_id": "4f8df8a7c8ac4f60bf336bd8ecd52ea6",
       "version_major": 2,
       "version_minor": 0
      },
      "text/plain": [
       "Validation: |          | 0/? [00:00<?, ?it/s]"
      ]
     },
     "metadata": {},
     "output_type": "display_data"
    },
    {
     "data": {
      "application/vnd.jupyter.widget-view+json": {
       "model_id": "4920f49608fb4e829d705d9e1ca46784",
       "version_major": 2,
       "version_minor": 0
      },
      "text/plain": [
       "Validation: |          | 0/? [00:00<?, ?it/s]"
      ]
     },
     "metadata": {},
     "output_type": "display_data"
    },
    {
     "data": {
      "application/vnd.jupyter.widget-view+json": {
       "model_id": "6a44f52f0e15498193b4024ceab2c961",
       "version_major": 2,
       "version_minor": 0
      },
      "text/plain": [
       "Validation: |          | 0/? [00:00<?, ?it/s]"
      ]
     },
     "metadata": {},
     "output_type": "display_data"
    },
    {
     "data": {
      "application/vnd.jupyter.widget-view+json": {
       "model_id": "7783474ca4cd4c4f898a674aee1a26b4",
       "version_major": 2,
       "version_minor": 0
      },
      "text/plain": [
       "Validation: |          | 0/? [00:00<?, ?it/s]"
      ]
     },
     "metadata": {},
     "output_type": "display_data"
    },
    {
     "data": {
      "application/vnd.jupyter.widget-view+json": {
       "model_id": "48de8e0db0d24e78b683b5ebbfa74d80",
       "version_major": 2,
       "version_minor": 0
      },
      "text/plain": [
       "Validation: |          | 0/? [00:00<?, ?it/s]"
      ]
     },
     "metadata": {},
     "output_type": "display_data"
    },
    {
     "data": {
      "application/vnd.jupyter.widget-view+json": {
       "model_id": "18066313ede54659b53df53433486a5e",
       "version_major": 2,
       "version_minor": 0
      },
      "text/plain": [
       "Validation: |          | 0/? [00:00<?, ?it/s]"
      ]
     },
     "metadata": {},
     "output_type": "display_data"
    },
    {
     "name": "stderr",
     "output_type": "stream",
     "text": [
      "`Trainer.fit` stopped: `max_epochs=100` reached.\n"
     ]
    },
    {
     "name": "stdout",
     "output_type": "stream",
     "text": [
      "CPU times: user 10min 17s, sys: 38.6 s, total: 10min 56s\n",
      "Wall time: 10min 34s\n"
     ]
    }
   ],
   "source": [
    "%%time\n",
    "trainer = pl.Trainer(precision=\"bf16-mixed\", max_epochs=100, log_every_n_steps=1, check_val_every_n_epoch=5, enable_checkpointing=False)\n",
    "trainer.fit(model, train_loader, test_loader) "
   ]
  },
  {
   "cell_type": "code",
   "execution_count": 7,
   "id": "daca217c-f4e2-41f3-a100-076057263911",
   "metadata": {},
   "outputs": [
    {
     "name": "stderr",
     "output_type": "stream",
     "text": [
      "LOCAL_RANK: 0 - CUDA_VISIBLE_DEVICES: [0]\n"
     ]
    },
    {
     "data": {
      "application/vnd.jupyter.widget-view+json": {
       "model_id": "6a0dc9974348408e9af6c4886d03ea96",
       "version_major": 2,
       "version_minor": 0
      },
      "text/plain": [
       "Validation: |          | 0/? [00:00<?, ?it/s]"
      ]
     },
     "metadata": {},
     "output_type": "display_data"
    },
    {
     "data": {
      "text/html": [
       "<pre style=\"white-space:pre;overflow-x:auto;line-height:normal;font-family:Menlo,'DejaVu Sans Mono',consolas,'Courier New',monospace\">┏━━━━━━━━━━━━━━━━━━━━━━━━━━━┳━━━━━━━━━━━━━━━━━━━━━━━━━━━┓\n",
       "┃<span style=\"font-weight: bold\">      Validate metric      </span>┃<span style=\"font-weight: bold\">       DataLoader 0        </span>┃\n",
       "┡━━━━━━━━━━━━━━━━━━━━━━━━━━━╇━━━━━━━━━━━━━━━━━━━━━━━━━━━┩\n",
       "│<span style=\"color: #008080; text-decoration-color: #008080\">          val_acc          </span>│<span style=\"color: #800080; text-decoration-color: #800080\">    0.8363000154495239     </span>│\n",
       "│<span style=\"color: #008080; text-decoration-color: #008080\">         val_loss          </span>│<span style=\"color: #800080; text-decoration-color: #800080\">     0.59126877784729      </span>│\n",
       "└───────────────────────────┴───────────────────────────┘\n",
       "</pre>\n"
      ],
      "text/plain": [
       "┏━━━━━━━━━━━━━━━━━━━━━━━━━━━┳━━━━━━━━━━━━━━━━━━━━━━━━━━━┓\n",
       "┃\u001b[1m \u001b[0m\u001b[1m     Validate metric     \u001b[0m\u001b[1m \u001b[0m┃\u001b[1m \u001b[0m\u001b[1m      DataLoader 0       \u001b[0m\u001b[1m \u001b[0m┃\n",
       "┡━━━━━━━━━━━━━━━━━━━━━━━━━━━╇━━━━━━━━━━━━━━━━━━━━━━━━━━━┩\n",
       "│\u001b[36m \u001b[0m\u001b[36m         val_acc         \u001b[0m\u001b[36m \u001b[0m│\u001b[35m \u001b[0m\u001b[35m   0.8363000154495239    \u001b[0m\u001b[35m \u001b[0m│\n",
       "│\u001b[36m \u001b[0m\u001b[36m        val_loss         \u001b[0m\u001b[36m \u001b[0m│\u001b[35m \u001b[0m\u001b[35m    0.59126877784729     \u001b[0m\u001b[35m \u001b[0m│\n",
       "└───────────────────────────┴───────────────────────────┘\n"
      ]
     },
     "metadata": {},
     "output_type": "display_data"
    },
    {
     "data": {
      "text/plain": [
       "[{'val_loss': 0.59126877784729, 'val_acc': 0.8363000154495239}]"
      ]
     },
     "execution_count": 7,
     "metadata": {},
     "output_type": "execute_result"
    }
   ],
   "source": [
    "trainer.validate(model, test_loader)"
   ]
  },
  {
   "cell_type": "markdown",
   "id": "58c9b5ae-da27-4114-adf2-73dbfb9db1f9",
   "metadata": {},
   "source": [
    "That's not too bad!  \n",
    "\n",
    "Overall, we improved from a base accuracy of ~75% to ~80% while training within 1 minute. Now, extending training to 15 minutes gives us an additional 3% - wonderful end to this story."
   ]
  },
  {
   "cell_type": "code",
   "execution_count": 8,
   "id": "ce16a7cf-8178-4508-aa1a-5239994d397f",
   "metadata": {},
   "outputs": [],
   "source": [
    "torch.save(model.resnet.state_dict(), \"model.pth\")"
   ]
  },
  {
   "cell_type": "markdown",
   "id": "08b83c83-349f-43a7-9fc3-73a6fec61d7e",
   "metadata": {},
   "source": [
    "### Where to next?\n",
    "I continue refining this model in the `Milking Accuracy` notebook - check that one out! It's about non architectural changes that can further increase your accuracy."
   ]
  },
  {
   "cell_type": "markdown",
   "id": "c263e74f-81c8-48f4-9181-d6bc9f8be21e",
   "metadata": {},
   "source": [
    "### Appendix: Issues with Large Batch Sizes\n",
    "In earlier versions of this notebook, I was using batch sizes of up to 16,384. That gave me a whole new world of problems, especially regarding overfitting and poor performance.  \n",
    "\n",
    "#### Overfitting\n",
    "Our good friend ChatGPT provides compelling and accurate reasons for this:\n",
    "> 1. **Less Gradient Noise → Less Regularization:** Small batches add noise to gradient updates, acting like a form of regularization. Large batches reduce this noise, making the model fit the training data more precisely—but often at the expense of generalization.\n",
    "> 2. **Sharp Minima:** Large batches are prone to converge to sharp minima, which fit the training data very well but generalize poorly to unseen data.\n",
    "> 3. **Effective Epochs Reduced:** With the same number of epochs or time, large batch training results in fewer weight updates, so you don’t get as many generalization-friendly updates from noisy gradients.\n",
    "> 4. **Normalization and Regularization Mismatch:**\n",
    "If you're using BatchNorm, it might behave differently (less noisy) with huge batches, weakening its regularizing effect.\n",
    "\n",
    "A summary? Smaller batch sizes have *more noise* in their batches, which is a *form of regularization*. Larger batch sizes reduces that, and, as a a result of less regularization, we start *overfitting*.  \n",
    "\n",
    "Ideally, we could crank up dropout. However, since we don't have access to the layers inside our predefined `resnet18`, I focused on tuning the regularization.\n",
    "\n",
    "#### Devastating Dataloader Performance\n",
    "When trying to perform things like normalization on 16,384 images, it's probably best to parallelize them. Try moving your augmentations and normalization to GPU - that sped up my training by *2x*. Treat the augmentations like a new layer in your model, for example:"
   ]
  },
  {
   "cell_type": "raw",
   "id": "e6899433-b882-4526-ab98-6093fd926b5d",
   "metadata": {},
   "source": [
    "class SampleModel(nn.Module):\n",
    "    def __init__(self):\n",
    "        super().__init__()\n",
    "        self.aug = v2.Compose([...])\n",
    "        ...\n",
    "\n",
    "    def forward(self, x):\n",
    "        # Assuming x is CUDA tensor\n",
    "        x = self.aug(x)\n",
    "        ..."
   ]
  }
 ],
 "metadata": {
  "kernelspec": {
   "display_name": "Python 3 (ipykernel)",
   "language": "python",
   "name": "python3"
  },
  "language_info": {
   "codemirror_mode": {
    "name": "ipython",
    "version": 3
   },
   "file_extension": ".py",
   "mimetype": "text/x-python",
   "name": "python",
   "nbconvert_exporter": "python",
   "pygments_lexer": "ipython3",
   "version": "3.12.8"
  }
 },
 "nbformat": 4,
 "nbformat_minor": 5
}
