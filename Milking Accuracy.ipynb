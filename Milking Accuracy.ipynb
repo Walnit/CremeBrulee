{
 "cells": [
  {
   "cell_type": "markdown",
   "id": "4d722d6d-c76c-45be-b125-9bd9cfd8d429",
   "metadata": {},
   "source": [
    "# Milking the final drops of Accuracy\n",
    "\n",
    "So... you've trained a model.  \n",
    "\n",
    "Now what? You could squeeze a few more epochs, but that'll only lead to small, negligible gains.  \n",
    "\n",
    "Or you could really scrape the bottom of the barrel and try the techniques in this notebook...? We'll try to go through some methods (e.g. SWA, KD) to get better results from our model. We use the model from the Speedrunning Model Training notebook, which itself is undertrained. Thus, this notebook will come in very handy."
   ]
  },
  {
   "cell_type": "code",
   "execution_count": 1,
   "id": "f76f85d5-a258-41d8-a952-1c7ecdc93bb0",
   "metadata": {},
   "outputs": [],
   "source": [
    "import torch\n",
    "import torch.nn as nn\n",
    "import torchvision\n",
    "from torchvision.models import resnet18\n",
    "import pytorch_lightning as pl\n",
    "import torchmetrics\n",
    "from torchvision.transforms import v2"
   ]
  },
  {
   "cell_type": "code",
   "execution_count": 2,
   "id": "0f8f5705-13ae-473f-ae97-e53e3a274c0a",
   "metadata": {},
   "outputs": [
    {
     "name": "stdout",
     "output_type": "stream",
     "text": [
      "Files already downloaded and verified\n",
      "Files already downloaded and verified\n"
     ]
    }
   ],
   "source": [
    "img_transforms = v2.Compose([\n",
    "    v2.ToImage(),\n",
    "])\n",
    "\n",
    "train_ds = torchvision.datasets.CIFAR10(root=\"data\", train=True, download=True, transform=img_transforms)\n",
    "test_ds = torchvision.datasets.CIFAR10(root=\"data\", train=False, download=True, transform=img_transforms)\n",
    "\n",
    "train_loader = torch.utils.data.DataLoader(train_ds, batch_size=4096, shuffle=True, num_workers=3, pin_memory=True, prefetch_factor=2, persistent_workers=True)\n",
    "test_loader = torch.utils.data.DataLoader(test_ds, batch_size=4096, shuffle=False, num_workers=3, pin_memory=True, prefetch_factor=2, persistent_workers=True)"
   ]
  },
  {
   "cell_type": "code",
   "execution_count": 3,
   "id": "b8a2f84e-3275-4612-b640-e9b988dcbaa2",
   "metadata": {},
   "outputs": [],
   "source": [
    "torch.set_float32_matmul_precision('high')\n",
    "torch.backends.cudnn.benchmark = True"
   ]
  },
  {
   "cell_type": "markdown",
   "id": "bc834d02-9e9d-4df6-a294-4708c11ec8ed",
   "metadata": {},
   "source": [
    "Our model is just a ResNet18 trained on CIFAR-10."
   ]
  },
  {
   "cell_type": "code",
   "execution_count": 8,
   "id": "1c0fd129-cf86-4323-9e43-e22675bd2c57",
   "metadata": {},
   "outputs": [
    {
     "data": {
      "text/plain": [
       "<All keys matched successfully>"
      ]
     },
     "execution_count": 8,
     "metadata": {},
     "output_type": "execute_result"
    }
   ],
   "source": [
    "model = resnet18()\n",
    "model.fc = nn.Linear(512, 10)\n",
    "model.load_state_dict(torch.load(\"model.pth\", weights_only=True))"
   ]
  },
  {
   "cell_type": "markdown",
   "id": "004a5f08-530b-473d-afc5-3d22d14a0179",
   "metadata": {},
   "source": [
    "## 1. Stochastic Weight Averaging (SWA)\n",
    "SWA is a method where you average the weights of a model over several training iterations. This way, you get a more generalized model, which should hopefully perform better.  \n",
    "\n",
    "Thankfully, PyTorch provides some help on how to do so! But since we're lazy people we can just use `pytorch_lightning`'s in-built feature. "
   ]
  },
  {
   "cell_type": "code",
   "execution_count": 49,
   "id": "a2749bd9-e354-4305-ba6a-034f19386206",
   "metadata": {},
   "outputs": [
    {
     "data": {
      "text/plain": [
       "<All keys matched successfully>"
      ]
     },
     "execution_count": 49,
     "metadata": {},
     "output_type": "execute_result"
    }
   ],
   "source": [
    "class LitSWAResNet(pl.LightningModule):\n",
    "    def __init__(self, resnet_cls, lr):\n",
    "        super().__init__()\n",
    "        self.resnet = resnet_cls()\n",
    "        self.resnet.fc = nn.Linear(512, 10)\n",
    "        self.lr = lr\n",
    "        \n",
    "        self.accuracy = torchmetrics.Accuracy(\"multiclass\", num_classes=10)\n",
    "\n",
    "        self.img_scale = v2.ToDtype(torch.float32, scale=True)\n",
    "        self.img_norm = v2.Normalize([0.48, 0.44, 0.40], [0.22, 0.22, 0.22])\n",
    "        self.img_aug = v2.AutoAugment(v2.AutoAugmentPolicy.CIFAR10)\n",
    "\n",
    "    def training_step(self, batch, batch_idx):\n",
    "        X, y = batch\n",
    "        X = self.img_norm(self.img_scale(self.img_aug(X)))\n",
    "        y_pred = self.resnet(X)\n",
    "        loss = nn.functional.cross_entropy(y_pred, y)\n",
    "        self.log(\"train_loss\", loss)\n",
    "        acc = self.accuracy(y_pred, y)\n",
    "        self.log(\"train_acc\", acc)\n",
    "\n",
    "        return loss\n",
    "\n",
    "    def validation_step(self, batch, batch_idx):\n",
    "        X, y = batch\n",
    "        X = self.img_norm(self.img_scale(X))\n",
    "        y_pred = self.resnet(X)\n",
    "        loss = nn.functional.cross_entropy(y_pred, y)\n",
    "        self.log(\"val_loss\", loss)\n",
    "        acc = self.accuracy(y_pred, y)\n",
    "        self.log(\"val_acc\", acc)\n",
    "\n",
    "    def configure_optimizers(self):\n",
    "        optimizer = torch.optim.AdamW(self.resnet.parameters(), lr=self.lr)\n",
    "        return optimizer\n",
    "\n",
    "model = LitSWAResNet(resnet18, 1e-5)\n",
    "model.resnet.load_state_dict(torch.load(\"model.pth\", weights_only=True))"
   ]
  },
  {
   "cell_type": "markdown",
   "id": "fefdfc1b-d778-44df-98e6-24cf8a003b6b",
   "metadata": {},
   "source": [
    "After playing around a while I found that decreasing the batch size + SWA gives us a much larger boost. This is because decreasing the batch size increases the noise of the gradients, letting us explore more area, while SWA lets us average these to get good results."
   ]
  },
  {
   "cell_type": "code",
   "execution_count": 50,
   "id": "ea3550af-7a99-4ee2-95ad-2d330ee31a13",
   "metadata": {},
   "outputs": [],
   "source": [
    "train_loader = torch.utils.data.DataLoader(train_ds, batch_size=512, shuffle=True, num_workers=3, pin_memory=True, prefetch_factor=2, persistent_workers=True)\n",
    "test_loader = torch.utils.data.DataLoader(test_ds, batch_size=512, shuffle=False, num_workers=3, pin_memory=True, prefetch_factor=2, persistent_workers=True)"
   ]
  },
  {
   "cell_type": "code",
   "execution_count": 51,
   "id": "759b051e-771e-434d-bdc6-d4bc8cb4ab6d",
   "metadata": {},
   "outputs": [
    {
     "name": "stderr",
     "output_type": "stream",
     "text": [
      "Using bfloat16 Automatic Mixed Precision (AMP)\n",
      "Using default `ModelCheckpoint`. Consider installing `litmodels` package to enable `LitModelCheckpoint` for automatic upload to the Lightning model registry.\n",
      "GPU available: True (cuda), used: True\n",
      "TPU available: False, using: 0 TPU cores\n",
      "HPU available: False, using: 0 HPUs\n",
      "LOCAL_RANK: 0 - CUDA_VISIBLE_DEVICES: [0]\n",
      "\n",
      "  | Name      | Type               | Params | Mode \n",
      "---------------------------------------------------------\n",
      "0 | resnet    | ResNet             | 11.2 M | train\n",
      "1 | accuracy  | MulticlassAccuracy | 0      | train\n",
      "2 | img_scale | ToDtype            | 0      | train\n",
      "3 | img_norm  | Normalize          | 0      | train\n",
      "4 | img_aug   | AutoAugment        | 0      | train\n",
      "---------------------------------------------------------\n",
      "11.2 M    Trainable params\n",
      "0         Non-trainable params\n",
      "11.2 M    Total params\n",
      "44.727    Total estimated model params size (MB)\n",
      "72        Modules in train mode\n",
      "0         Modules in eval mode\n"
     ]
    },
    {
     "data": {
      "application/vnd.jupyter.widget-view+json": {
       "model_id": "4d92d29faf584603a1cdfe4bc494fa88",
       "version_major": 2,
       "version_minor": 0
      },
      "text/plain": [
       "Sanity Checking: |          | 0/? [00:00<?, ?it/s]"
      ]
     },
     "metadata": {},
     "output_type": "display_data"
    },
    {
     "data": {
      "application/vnd.jupyter.widget-view+json": {
       "model_id": "cccddc06638a48a5ae6f4a0a3b9471f0",
       "version_major": 2,
       "version_minor": 0
      },
      "text/plain": [
       "Training: |          | 0/? [00:00<?, ?it/s]"
      ]
     },
     "metadata": {},
     "output_type": "display_data"
    },
    {
     "data": {
      "application/vnd.jupyter.widget-view+json": {
       "model_id": "21831a48b3f443458ccf69783dd7e0fe",
       "version_major": 2,
       "version_minor": 0
      },
      "text/plain": [
       "Validation: |          | 0/? [00:00<?, ?it/s]"
      ]
     },
     "metadata": {},
     "output_type": "display_data"
    },
    {
     "data": {
      "application/vnd.jupyter.widget-view+json": {
       "model_id": "2e9a937c4c164dd88826d4fbe642939f",
       "version_major": 2,
       "version_minor": 0
      },
      "text/plain": [
       "Validation: |          | 0/? [00:00<?, ?it/s]"
      ]
     },
     "metadata": {},
     "output_type": "display_data"
    },
    {
     "data": {
      "application/vnd.jupyter.widget-view+json": {
       "model_id": "5b731b36410c4a4882b27df6830d75e1",
       "version_major": 2,
       "version_minor": 0
      },
      "text/plain": [
       "Validation: |          | 0/? [00:00<?, ?it/s]"
      ]
     },
     "metadata": {},
     "output_type": "display_data"
    },
    {
     "name": "stderr",
     "output_type": "stream",
     "text": [
      "Exception ignored in: <function _MultiProcessingDataLoaderIter.__del__ at 0x7f36143f7ac0>\n",
      "Traceback (most recent call last):\n",
      "  File \"/venv/main/lib/python3.10/site-packages/torch/utils/data/dataloader.py\", line 1604, in __del__\n",
      "    self._shutdown_workers()\n",
      "  File \"/venv/main/lib/python3.10/site-packages/torch/utils/data/dataloader.py\", line 1587, in _shutdown_workers\n",
      "    if w.is_alive():\n",
      "  File \"/usr/lib/python3.10/multiprocessing/process.py\", line 160, in is_alive\n",
      "    assert self._parent_pid == os.getpid(), 'can only test a child process'\n",
      "AssertionError: can only test a child process\n",
      "Exception ignored in: <function _MultiProcessingDataLoaderIter.__del__ at 0x7f36143f7ac0>\n",
      "Traceback (most recent call last):\n",
      "  File \"/venv/main/lib/python3.10/site-packages/torch/utils/data/dataloader.py\", line 1604, in __del__\n",
      "    self._shutdown_workers()\n",
      "  File \"/venv/main/lib/python3.10/site-packages/torch/utils/data/dataloader.py\", line 1587, in _shutdown_workers\n",
      "    if w.is_alive():\n",
      "  File \"/usr/lib/python3.10/multiprocessing/process.py\", line 160, in is_alive\n",
      "    assert self._parent_pid == os.getpid(), 'can only test a child process'\n",
      "AssertionError: can only test a child process\n"
     ]
    },
    {
     "data": {
      "application/vnd.jupyter.widget-view+json": {
       "model_id": "9087e978c21a4d14a416d0dcd78eb6b8",
       "version_major": 2,
       "version_minor": 0
      },
      "text/plain": [
       "Validation: |          | 0/? [00:00<?, ?it/s]"
      ]
     },
     "metadata": {},
     "output_type": "display_data"
    },
    {
     "name": "stderr",
     "output_type": "stream",
     "text": [
      "Exception ignored in: <function _MultiProcessingDataLoaderIter.__del__ at 0x7f36143f7ac0>\n",
      "Traceback (most recent call last):\n",
      "  File \"/venv/main/lib/python3.10/site-packages/torch/utils/data/dataloader.py\", line 1604, in __del__\n",
      "    self._shutdown_workers()\n",
      "  File \"/venv/main/lib/python3.10/site-packages/torch/utils/data/dataloader.py\", line 1587, in _shutdown_workers\n",
      "    if w.is_alive():\n",
      "  File \"/usr/lib/python3.10/multiprocessing/process.py\", line 160, in is_alive\n",
      "    assert self._parent_pid == os.getpid(), 'can only test a child process'\n",
      "AssertionError: can only test a child process\n"
     ]
    },
    {
     "data": {
      "application/vnd.jupyter.widget-view+json": {
       "model_id": "5466183cf8fc41e1a7d65a6ea732f7b0",
       "version_major": 2,
       "version_minor": 0
      },
      "text/plain": [
       "Validation: |          | 0/? [00:00<?, ?it/s]"
      ]
     },
     "metadata": {},
     "output_type": "display_data"
    },
    {
     "data": {
      "application/vnd.jupyter.widget-view+json": {
       "model_id": "c4a69aa8e1c842e694e48cd87a72e842",
       "version_major": 2,
       "version_minor": 0
      },
      "text/plain": [
       "Validation: |          | 0/? [00:00<?, ?it/s]"
      ]
     },
     "metadata": {},
     "output_type": "display_data"
    },
    {
     "data": {
      "application/vnd.jupyter.widget-view+json": {
       "model_id": "ee4e6d03c0b947a8ba54e533290bb3d1",
       "version_major": 2,
       "version_minor": 0
      },
      "text/plain": [
       "Validation: |          | 0/? [00:00<?, ?it/s]"
      ]
     },
     "metadata": {},
     "output_type": "display_data"
    },
    {
     "data": {
      "application/vnd.jupyter.widget-view+json": {
       "model_id": "28edf6f49e154147a0a49645067d652c",
       "version_major": 2,
       "version_minor": 0
      },
      "text/plain": [
       "Validation: |          | 0/? [00:00<?, ?it/s]"
      ]
     },
     "metadata": {},
     "output_type": "display_data"
    },
    {
     "data": {
      "application/vnd.jupyter.widget-view+json": {
       "model_id": "03b344a0d9964d64890b6bc12da1a8ce",
       "version_major": 2,
       "version_minor": 0
      },
      "text/plain": [
       "Validation: |          | 0/? [00:00<?, ?it/s]"
      ]
     },
     "metadata": {},
     "output_type": "display_data"
    },
    {
     "data": {
      "application/vnd.jupyter.widget-view+json": {
       "model_id": "c0106305500e42aba03ff208fe163d61",
       "version_major": 2,
       "version_minor": 0
      },
      "text/plain": [
       "Validation: |          | 0/? [00:00<?, ?it/s]"
      ]
     },
     "metadata": {},
     "output_type": "display_data"
    },
    {
     "data": {
      "application/vnd.jupyter.widget-view+json": {
       "model_id": "767a421ef73f47e9a7bb18c79e271b41",
       "version_major": 2,
       "version_minor": 0
      },
      "text/plain": [
       "Validation: |          | 0/? [00:00<?, ?it/s]"
      ]
     },
     "metadata": {},
     "output_type": "display_data"
    },
    {
     "data": {
      "application/vnd.jupyter.widget-view+json": {
       "model_id": "114fbf14338949eaaa16d1467cfc3771",
       "version_major": 2,
       "version_minor": 0
      },
      "text/plain": [
       "Validation: |          | 0/? [00:00<?, ?it/s]"
      ]
     },
     "metadata": {},
     "output_type": "display_data"
    },
    {
     "data": {
      "application/vnd.jupyter.widget-view+json": {
       "model_id": "d3087c62f6ad48ec8ac66e0673e952eb",
       "version_major": 2,
       "version_minor": 0
      },
      "text/plain": [
       "Validation: |          | 0/? [00:00<?, ?it/s]"
      ]
     },
     "metadata": {},
     "output_type": "display_data"
    },
    {
     "data": {
      "application/vnd.jupyter.widget-view+json": {
       "model_id": "47f7029ff0304310b5f757739e30a402",
       "version_major": 2,
       "version_minor": 0
      },
      "text/plain": [
       "Validation: |          | 0/? [00:00<?, ?it/s]"
      ]
     },
     "metadata": {},
     "output_type": "display_data"
    },
    {
     "data": {
      "application/vnd.jupyter.widget-view+json": {
       "model_id": "a2c94d39cbf1494ba69c8578f67a2cb4",
       "version_major": 2,
       "version_minor": 0
      },
      "text/plain": [
       "Validation: |          | 0/? [00:00<?, ?it/s]"
      ]
     },
     "metadata": {},
     "output_type": "display_data"
    },
    {
     "data": {
      "application/vnd.jupyter.widget-view+json": {
       "model_id": "74adc87f1654440bbd910d3ebb79d267",
       "version_major": 2,
       "version_minor": 0
      },
      "text/plain": [
       "Validation: |          | 0/? [00:00<?, ?it/s]"
      ]
     },
     "metadata": {},
     "output_type": "display_data"
    },
    {
     "name": "stderr",
     "output_type": "stream",
     "text": [
      "`Trainer.fit` stopped: `max_epochs=16` reached.\n"
     ]
    }
   ],
   "source": [
    "swa_callback = pl.callbacks.StochasticWeightAveraging(swa_lrs=1e-3, swa_epoch_start=5, annealing_epochs=5)\n",
    "trainer = pl.Trainer(precision=\"bf16-mixed\", max_epochs=15, check_val_every_n_epoch=1, log_every_n_steps=5, callbacks=[swa_callback])\n",
    "trainer.fit(model, train_loader, test_loader)"
   ]
  },
  {
   "cell_type": "code",
   "execution_count": 52,
   "id": "c5482f12-36ae-4795-9cdc-60be867ddd96",
   "metadata": {},
   "outputs": [
    {
     "name": "stderr",
     "output_type": "stream",
     "text": [
      "LOCAL_RANK: 0 - CUDA_VISIBLE_DEVICES: [0]\n"
     ]
    },
    {
     "data": {
      "application/vnd.jupyter.widget-view+json": {
       "model_id": "89feceba69f540b9b89e0e47c30e7cf2",
       "version_major": 2,
       "version_minor": 0
      },
      "text/plain": [
       "Validation: |          | 0/? [00:00<?, ?it/s]"
      ]
     },
     "metadata": {},
     "output_type": "display_data"
    },
    {
     "data": {
      "text/html": [
       "<pre style=\"white-space:pre;overflow-x:auto;line-height:normal;font-family:Menlo,'DejaVu Sans Mono',consolas,'Courier New',monospace\">┏━━━━━━━━━━━━━━━━━━━━━━━━━━━┳━━━━━━━━━━━━━━━━━━━━━━━━━━━┓\n",
       "┃<span style=\"font-weight: bold\">      Validate metric      </span>┃<span style=\"font-weight: bold\">       DataLoader 0        </span>┃\n",
       "┡━━━━━━━━━━━━━━━━━━━━━━━━━━━╇━━━━━━━━━━━━━━━━━━━━━━━━━━━┩\n",
       "│<span style=\"color: #008080; text-decoration-color: #008080\">          val_acc          </span>│<span style=\"color: #800080; text-decoration-color: #800080\">     0.792900025844574     </span>│\n",
       "│<span style=\"color: #008080; text-decoration-color: #008080\">         val_loss          </span>│<span style=\"color: #800080; text-decoration-color: #800080\">    0.6302424669265747     </span>│\n",
       "└───────────────────────────┴───────────────────────────┘\n",
       "</pre>\n"
      ],
      "text/plain": [
       "┏━━━━━━━━━━━━━━━━━━━━━━━━━━━┳━━━━━━━━━━━━━━━━━━━━━━━━━━━┓\n",
       "┃\u001b[1m \u001b[0m\u001b[1m     Validate metric     \u001b[0m\u001b[1m \u001b[0m┃\u001b[1m \u001b[0m\u001b[1m      DataLoader 0       \u001b[0m\u001b[1m \u001b[0m┃\n",
       "┡━━━━━━━━━━━━━━━━━━━━━━━━━━━╇━━━━━━━━━━━━━━━━━━━━━━━━━━━┩\n",
       "│\u001b[36m \u001b[0m\u001b[36m         val_acc         \u001b[0m\u001b[36m \u001b[0m│\u001b[35m \u001b[0m\u001b[35m    0.792900025844574    \u001b[0m\u001b[35m \u001b[0m│\n",
       "│\u001b[36m \u001b[0m\u001b[36m        val_loss         \u001b[0m\u001b[36m \u001b[0m│\u001b[35m \u001b[0m\u001b[35m   0.6302424669265747    \u001b[0m\u001b[35m \u001b[0m│\n",
       "└───────────────────────────┴───────────────────────────┘\n"
      ]
     },
     "metadata": {},
     "output_type": "display_data"
    },
    {
     "data": {
      "text/plain": [
       "[{'val_loss': 0.6302424669265747, 'val_acc': 0.792900025844574}]"
      ]
     },
     "execution_count": 52,
     "metadata": {},
     "output_type": "execute_result"
    }
   ],
   "source": [
    "trainer.validate(model, test_loader)"
   ]
  },
  {
   "cell_type": "markdown",
   "id": "1b6f9bfa-769a-4f55-8e68-583072207b50",
   "metadata": {},
   "source": [
    "That's +1.2%! Not bad."
   ]
  },
  {
   "cell_type": "markdown",
   "id": "c27d5095-dcdf-4627-8b8d-f01e121c2e73",
   "metadata": {},
   "source": [
    "## 2: Self-Distillation\n",
    "Self-distillation is a special type of knowledge distillation, except instead of distilling the knowledge into a smaller model, you distill into a model of the same size. I've really wanted to see this for a long time now, so let's try it out!"
   ]
  },
  {
   "cell_type": "code",
   "execution_count": 54,
   "id": "9cc9fadb-a6ce-42ae-aa69-4e6f70da56ba",
   "metadata": {},
   "outputs": [],
   "source": [
    "teacher_model = model.resnet\n",
    "for param in teacher_model.parameters():\n",
    "    param.requires_grad = False"
   ]
  },
  {
   "cell_type": "code",
   "execution_count": 81,
   "id": "9b0bbdc3-dacb-439c-8690-c81c783659cb",
   "metadata": {},
   "outputs": [],
   "source": [
    "class LSelfDistillStudent(pl.LightningModule):\n",
    "    def __init__(self, resnet_cls, teacher_model, temperature, max_lr, min_lr, kd_balance=0.5):\n",
    "        super().__init__()\n",
    "        self.resnet = resnet_cls()\n",
    "        self.resnet.fc = nn.Linear(512, 10)\n",
    "        self.max_lr = max_lr\n",
    "        self.min_lr = min_lr\n",
    "        \n",
    "        self.accuracy = torchmetrics.Accuracy(\"multiclass\", num_classes=10)\n",
    "\n",
    "        self.img_scale = v2.ToDtype(torch.float32, scale=True)\n",
    "        self.img_norm = v2.Normalize([0.48, 0.44, 0.40], [0.22, 0.22, 0.22])\n",
    "        self.img_aug = v2.AutoAugment(v2.AutoAugmentPolicy.CIFAR10)\n",
    "\n",
    "        self.teacher = teacher_model\n",
    "        self.temperature = temperature\n",
    "        self.kd_balance = kd_balance\n",
    "\n",
    "    def training_step(self, batch, batch_idx):\n",
    "        X, y = batch\n",
    "        X = self.img_norm(self.img_scale(self.img_aug(X)))\n",
    "\n",
    "        with torch.inference_mode():\n",
    "            teacher_logits = self.teacher(X)\n",
    "        \n",
    "        student_logits = self.resnet(X)\n",
    "\n",
    "        # We soften everything by dividing by temperature so that the targets arent so sharp, and easier to learn\n",
    "        # Also log_softmax for kl_div\n",
    "        soft_teacher_targets = nn.functional.log_softmax(teacher_logits / self.temperature, dim=-1)\n",
    "        soft_student_probs = nn.functional.log_softmax(student_logits / self.temperature, dim=-1)\n",
    "        \n",
    "        labels_loss = nn.functional.cross_entropy(student_logits, y)\n",
    "        self.log(\"train_labels_loss\", labels_loss)\n",
    "        teacher_loss = nn.functional.kl_div(soft_student_probs, soft_teacher_targets, log_target=True) * (self.temperature**2) # scaled according to original distillation paper\n",
    "        self.log(\"train_teacher_loss\", teacher_loss)\n",
    "        loss = self.kd_balance*labels_loss + (1-self.kd_balance)*teacher_loss\n",
    "        \n",
    "        self.log(\"train_loss\", loss)\n",
    "        acc = self.accuracy(student_logits, y)\n",
    "        self.log(\"train_acc\", acc)\n",
    "\n",
    "        return loss\n",
    "\n",
    "    def validation_step(self, batch, batch_idx):\n",
    "        X, y = batch\n",
    "        X = self.img_norm(self.img_scale(X))\n",
    "        y_pred = self.resnet(X)\n",
    "        loss = nn.functional.cross_entropy(y_pred, y)\n",
    "        self.log(\"val_loss\", loss)\n",
    "        acc = self.accuracy(y_pred, y)\n",
    "        self.log(\"val_acc\", acc)\n",
    "\n",
    "    def configure_optimizers(self):\n",
    "        optimizer = torch.optim.AdamW(self.resnet.parameters(), lr=self.min_lr)\n",
    "        scheduler = torch.optim.lr_scheduler.OneCycleLR(optimizer, max_lr=self.max_lr, epochs=100, steps_per_epoch=len(train_loader), div_factor=self.max_lr/self.min_lr, pct_start=0.1)\n",
    "        return [optimizer], [{\"scheduler\": scheduler, \"interval\": \"step\"}]"
   ]
  },
  {
   "cell_type": "markdown",
   "id": "7e06cb49-1f37-427b-87a0-c9f078bca30b",
   "metadata": {},
   "source": [
    "Let's get the batch size back to 4096 for training..."
   ]
  },
  {
   "cell_type": "code",
   "execution_count": 82,
   "id": "30ae13b1-461a-423c-aaf4-e8cde8b06296",
   "metadata": {},
   "outputs": [],
   "source": [
    "train_loader = torch.utils.data.DataLoader(train_ds, batch_size=4096, shuffle=True, num_workers=3, pin_memory=True, prefetch_factor=2, persistent_workers=True)\n",
    "test_loader = torch.utils.data.DataLoader(test_ds, batch_size=4096, shuffle=False, num_workers=3, pin_memory=True, prefetch_factor=2, persistent_workers=True)"
   ]
  },
  {
   "cell_type": "code",
   "execution_count": 83,
   "id": "75014bf2-f647-4de9-a741-cb4474b157ce",
   "metadata": {},
   "outputs": [
    {
     "name": "stderr",
     "output_type": "stream",
     "text": [
      "Using bfloat16 Automatic Mixed Precision (AMP)\n",
      "Using default `ModelCheckpoint`. Consider installing `litmodels` package to enable `LitModelCheckpoint` for automatic upload to the Lightning model registry.\n",
      "GPU available: True (cuda), used: True\n",
      "TPU available: False, using: 0 TPU cores\n",
      "HPU available: False, using: 0 HPUs\n",
      "LOCAL_RANK: 0 - CUDA_VISIBLE_DEVICES: [0]\n",
      "\n",
      "  | Name      | Type               | Params | Mode \n",
      "---------------------------------------------------------\n",
      "0 | resnet    | ResNet             | 11.2 M | train\n",
      "1 | accuracy  | MulticlassAccuracy | 0      | train\n",
      "2 | img_scale | ToDtype            | 0      | train\n",
      "3 | img_norm  | Normalize          | 0      | train\n",
      "4 | img_aug   | AutoAugment        | 0      | train\n",
      "5 | teacher   | ResNet             | 11.2 M | train\n",
      "---------------------------------------------------------\n",
      "11.2 M    Trainable params\n",
      "11.2 M    Non-trainable params\n",
      "22.4 M    Total params\n",
      "89.453    Total estimated model params size (MB)\n",
      "140       Modules in train mode\n",
      "0         Modules in eval mode\n"
     ]
    },
    {
     "data": {
      "application/vnd.jupyter.widget-view+json": {
       "model_id": "de4b8371777946aea6d4b4d52de30ad7",
       "version_major": 2,
       "version_minor": 0
      },
      "text/plain": [
       "Sanity Checking: |          | 0/? [00:00<?, ?it/s]"
      ]
     },
     "metadata": {},
     "output_type": "display_data"
    },
    {
     "data": {
      "application/vnd.jupyter.widget-view+json": {
       "model_id": "1ebc54495b7d495b932bbdb87eae7c54",
       "version_major": 2,
       "version_minor": 0
      },
      "text/plain": [
       "Training: |          | 0/? [00:00<?, ?it/s]"
      ]
     },
     "metadata": {},
     "output_type": "display_data"
    },
    {
     "data": {
      "application/vnd.jupyter.widget-view+json": {
       "model_id": "72908811cf7a4c138a3e93cd6c3a7f2d",
       "version_major": 2,
       "version_minor": 0
      },
      "text/plain": [
       "Validation: |          | 0/? [00:00<?, ?it/s]"
      ]
     },
     "metadata": {},
     "output_type": "display_data"
    },
    {
     "data": {
      "application/vnd.jupyter.widget-view+json": {
       "model_id": "8caec005058c4e1a9c15671a5e8896dd",
       "version_major": 2,
       "version_minor": 0
      },
      "text/plain": [
       "Validation: |          | 0/? [00:00<?, ?it/s]"
      ]
     },
     "metadata": {},
     "output_type": "display_data"
    },
    {
     "data": {
      "application/vnd.jupyter.widget-view+json": {
       "model_id": "edbec364c0af450a849d652ccfd48bb7",
       "version_major": 2,
       "version_minor": 0
      },
      "text/plain": [
       "Validation: |          | 0/? [00:00<?, ?it/s]"
      ]
     },
     "metadata": {},
     "output_type": "display_data"
    },
    {
     "data": {
      "application/vnd.jupyter.widget-view+json": {
       "model_id": "acfdf79b493a44af9ac38e75712c3f68",
       "version_major": 2,
       "version_minor": 0
      },
      "text/plain": [
       "Validation: |          | 0/? [00:00<?, ?it/s]"
      ]
     },
     "metadata": {},
     "output_type": "display_data"
    },
    {
     "name": "stderr",
     "output_type": "stream",
     "text": [
      "`Trainer.fit` stopped: `max_epochs=100` reached.\n"
     ]
    }
   ],
   "source": [
    "model = LSelfDistillStudent(resnet18, teacher_model, 2.0, 2e-3, 1e-5)\n",
    "trainer = pl.Trainer(precision=\"bf16-mixed\", max_epochs=100, check_val_every_n_epoch=25, log_every_n_steps=5) \n",
    "trainer.fit(model, train_loader, test_loader)"
   ]
  },
  {
   "cell_type": "code",
   "execution_count": 84,
   "id": "fbee81ed-b626-477f-8bbb-b23a7872f174",
   "metadata": {},
   "outputs": [
    {
     "name": "stderr",
     "output_type": "stream",
     "text": [
      "LOCAL_RANK: 0 - CUDA_VISIBLE_DEVICES: [0]\n"
     ]
    },
    {
     "data": {
      "application/vnd.jupyter.widget-view+json": {
       "model_id": "ab853ddcb73a41b396c9aeed07c4a05d",
       "version_major": 2,
       "version_minor": 0
      },
      "text/plain": [
       "Validation: |          | 0/? [00:00<?, ?it/s]"
      ]
     },
     "metadata": {},
     "output_type": "display_data"
    },
    {
     "data": {
      "text/html": [
       "<pre style=\"white-space:pre;overflow-x:auto;line-height:normal;font-family:Menlo,'DejaVu Sans Mono',consolas,'Courier New',monospace\">┏━━━━━━━━━━━━━━━━━━━━━━━━━━━┳━━━━━━━━━━━━━━━━━━━━━━━━━━━┓\n",
       "┃<span style=\"font-weight: bold\">      Validate metric      </span>┃<span style=\"font-weight: bold\">       DataLoader 0        </span>┃\n",
       "┡━━━━━━━━━━━━━━━━━━━━━━━━━━━╇━━━━━━━━━━━━━━━━━━━━━━━━━━━┩\n",
       "│<span style=\"color: #008080; text-decoration-color: #008080\">          val_acc          </span>│<span style=\"color: #800080; text-decoration-color: #800080\">    0.7882999777793884     </span>│\n",
       "│<span style=\"color: #008080; text-decoration-color: #008080\">         val_loss          </span>│<span style=\"color: #800080; text-decoration-color: #800080\">    0.7320585250854492     </span>│\n",
       "└───────────────────────────┴───────────────────────────┘\n",
       "</pre>\n"
      ],
      "text/plain": [
       "┏━━━━━━━━━━━━━━━━━━━━━━━━━━━┳━━━━━━━━━━━━━━━━━━━━━━━━━━━┓\n",
       "┃\u001b[1m \u001b[0m\u001b[1m     Validate metric     \u001b[0m\u001b[1m \u001b[0m┃\u001b[1m \u001b[0m\u001b[1m      DataLoader 0       \u001b[0m\u001b[1m \u001b[0m┃\n",
       "┡━━━━━━━━━━━━━━━━━━━━━━━━━━━╇━━━━━━━━━━━━━━━━━━━━━━━━━━━┩\n",
       "│\u001b[36m \u001b[0m\u001b[36m         val_acc         \u001b[0m\u001b[36m \u001b[0m│\u001b[35m \u001b[0m\u001b[35m   0.7882999777793884    \u001b[0m\u001b[35m \u001b[0m│\n",
       "│\u001b[36m \u001b[0m\u001b[36m        val_loss         \u001b[0m\u001b[36m \u001b[0m│\u001b[35m \u001b[0m\u001b[35m   0.7320585250854492    \u001b[0m\u001b[35m \u001b[0m│\n",
       "└───────────────────────────┴───────────────────────────┘\n"
      ]
     },
     "metadata": {},
     "output_type": "display_data"
    },
    {
     "data": {
      "text/plain": [
       "[{'val_loss': 0.7320585250854492, 'val_acc': 0.7882999777793884}]"
      ]
     },
     "execution_count": 84,
     "metadata": {},
     "output_type": "execute_result"
    }
   ],
   "source": [
    "trainer.validate(model, test_loader)"
   ]
  },
  {
   "cell_type": "markdown",
   "id": "66f8cb9f-3375-4857-aa3f-12ae9db734f6",
   "metadata": {},
   "source": [
    "That's +0.8% from the original result! We can probably also throw SWA at this..."
   ]
  },
  {
   "cell_type": "markdown",
   "id": "e9209833-e666-46d3-907f-59237cc8b759",
   "metadata": {},
   "source": [
    "## 2.5: SWA + Distilled Student"
   ]
  },
  {
   "cell_type": "code",
   "execution_count": 85,
   "id": "9fba0052-237e-41d1-b022-53d5ac85fe96",
   "metadata": {},
   "outputs": [],
   "source": [
    "torch.save(model.resnet.state_dict(), \"model_student.pth\")"
   ]
  },
  {
   "cell_type": "code",
   "execution_count": 86,
   "id": "368015db-ebcc-4f6a-bbaf-0b4c997b70d8",
   "metadata": {},
   "outputs": [],
   "source": [
    "train_loader = torch.utils.data.DataLoader(train_ds, batch_size=512, shuffle=True, num_workers=3, pin_memory=True, prefetch_factor=2, persistent_workers=True)\n",
    "test_loader = torch.utils.data.DataLoader(test_ds, batch_size=512, shuffle=False, num_workers=3, pin_memory=True, prefetch_factor=2, persistent_workers=True)"
   ]
  },
  {
   "cell_type": "markdown",
   "id": "1954ca3b-644d-4482-bee8-5194833b882a",
   "metadata": {},
   "source": [
    "Load the no-scheduler model, as per above:"
   ]
  },
  {
   "cell_type": "code",
   "execution_count": 89,
   "id": "cd456417-facc-41ac-af3b-640971e0c502",
   "metadata": {},
   "outputs": [
    {
     "data": {
      "text/plain": [
       "<All keys matched successfully>"
      ]
     },
     "execution_count": 89,
     "metadata": {},
     "output_type": "execute_result"
    }
   ],
   "source": [
    "class LitSWAResNet(pl.LightningModule):\n",
    "    def __init__(self, resnet_cls, lr):\n",
    "        super().__init__()\n",
    "        self.resnet = resnet_cls()\n",
    "        self.resnet.fc = nn.Linear(512, 10)\n",
    "        self.lr = lr\n",
    "        \n",
    "        self.accuracy = torchmetrics.Accuracy(\"multiclass\", num_classes=10)\n",
    "\n",
    "        self.img_scale = v2.ToDtype(torch.float32, scale=True)\n",
    "        self.img_norm = v2.Normalize([0.48, 0.44, 0.40], [0.22, 0.22, 0.22])\n",
    "        self.img_aug = v2.AutoAugment(v2.AutoAugmentPolicy.CIFAR10)\n",
    "\n",
    "    def training_step(self, batch, batch_idx):\n",
    "        X, y = batch\n",
    "        X = self.img_norm(self.img_scale(self.img_aug(X)))\n",
    "        y_pred = self.resnet(X)\n",
    "        loss = nn.functional.cross_entropy(y_pred, y)\n",
    "        self.log(\"train_loss\", loss)\n",
    "        acc = self.accuracy(y_pred, y)\n",
    "        self.log(\"train_acc\", acc)\n",
    "\n",
    "        return loss\n",
    "\n",
    "    def validation_step(self, batch, batch_idx):\n",
    "        X, y = batch\n",
    "        X = self.img_norm(self.img_scale(X))\n",
    "        y_pred = self.resnet(X)\n",
    "        loss = nn.functional.cross_entropy(y_pred, y)\n",
    "        self.log(\"val_loss\", loss)\n",
    "        acc = self.accuracy(y_pred, y)\n",
    "        self.log(\"val_acc\", acc)\n",
    "\n",
    "    def configure_optimizers(self):\n",
    "        optimizer = torch.optim.AdamW(self.resnet.parameters(), lr=self.lr)\n",
    "        return optimizer\n",
    "\n",
    "model = LitSWAResNet(resnet18, 1e-5)\n",
    "model.resnet.load_state_dict(torch.load(\"model_student.pth\", weights_only=True))"
   ]
  },
  {
   "cell_type": "code",
   "execution_count": 90,
   "id": "0c37a891-1bbd-409f-8d8a-22fff830ae91",
   "metadata": {},
   "outputs": [
    {
     "name": "stderr",
     "output_type": "stream",
     "text": [
      "Using bfloat16 Automatic Mixed Precision (AMP)\n",
      "Using default `ModelCheckpoint`. Consider installing `litmodels` package to enable `LitModelCheckpoint` for automatic upload to the Lightning model registry.\n",
      "GPU available: True (cuda), used: True\n",
      "TPU available: False, using: 0 TPU cores\n",
      "HPU available: False, using: 0 HPUs\n",
      "LOCAL_RANK: 0 - CUDA_VISIBLE_DEVICES: [0]\n",
      "\n",
      "  | Name      | Type               | Params | Mode \n",
      "---------------------------------------------------------\n",
      "0 | resnet    | ResNet             | 11.2 M | train\n",
      "1 | accuracy  | MulticlassAccuracy | 0      | train\n",
      "2 | img_scale | ToDtype            | 0      | train\n",
      "3 | img_norm  | Normalize          | 0      | train\n",
      "4 | img_aug   | AutoAugment        | 0      | train\n",
      "---------------------------------------------------------\n",
      "11.2 M    Trainable params\n",
      "0         Non-trainable params\n",
      "11.2 M    Total params\n",
      "44.727    Total estimated model params size (MB)\n",
      "72        Modules in train mode\n",
      "0         Modules in eval mode\n"
     ]
    },
    {
     "data": {
      "application/vnd.jupyter.widget-view+json": {
       "model_id": "8cf4ccf4874e495c93d18f72d0e5bec6",
       "version_major": 2,
       "version_minor": 0
      },
      "text/plain": [
       "Sanity Checking: |          | 0/? [00:00<?, ?it/s]"
      ]
     },
     "metadata": {},
     "output_type": "display_data"
    },
    {
     "data": {
      "application/vnd.jupyter.widget-view+json": {
       "model_id": "313a3ad24ef549348e7efc10d331a068",
       "version_major": 2,
       "version_minor": 0
      },
      "text/plain": [
       "Training: |          | 0/? [00:00<?, ?it/s]"
      ]
     },
     "metadata": {},
     "output_type": "display_data"
    },
    {
     "data": {
      "application/vnd.jupyter.widget-view+json": {
       "model_id": "99f9dc3677cf42a1a0fd2d1aee40e15d",
       "version_major": 2,
       "version_minor": 0
      },
      "text/plain": [
       "Validation: |          | 0/? [00:00<?, ?it/s]"
      ]
     },
     "metadata": {},
     "output_type": "display_data"
    },
    {
     "data": {
      "application/vnd.jupyter.widget-view+json": {
       "model_id": "67e49edb140348eabd47e4aaf5119590",
       "version_major": 2,
       "version_minor": 0
      },
      "text/plain": [
       "Validation: |          | 0/? [00:00<?, ?it/s]"
      ]
     },
     "metadata": {},
     "output_type": "display_data"
    },
    {
     "data": {
      "application/vnd.jupyter.widget-view+json": {
       "model_id": "3f911c16237b40f4a1dd735815c3e0f8",
       "version_major": 2,
       "version_minor": 0
      },
      "text/plain": [
       "Validation: |          | 0/? [00:00<?, ?it/s]"
      ]
     },
     "metadata": {},
     "output_type": "display_data"
    },
    {
     "data": {
      "application/vnd.jupyter.widget-view+json": {
       "model_id": "9cd13a10eed2439d968e64dbb13aefde",
       "version_major": 2,
       "version_minor": 0
      },
      "text/plain": [
       "Validation: |          | 0/? [00:00<?, ?it/s]"
      ]
     },
     "metadata": {},
     "output_type": "display_data"
    },
    {
     "data": {
      "application/vnd.jupyter.widget-view+json": {
       "model_id": "393525eb35d54c768a1bb0e1ce7218a6",
       "version_major": 2,
       "version_minor": 0
      },
      "text/plain": [
       "Validation: |          | 0/? [00:00<?, ?it/s]"
      ]
     },
     "metadata": {},
     "output_type": "display_data"
    },
    {
     "data": {
      "application/vnd.jupyter.widget-view+json": {
       "model_id": "78ac496c1a9749f4a243307703882c98",
       "version_major": 2,
       "version_minor": 0
      },
      "text/plain": [
       "Validation: |          | 0/? [00:00<?, ?it/s]"
      ]
     },
     "metadata": {},
     "output_type": "display_data"
    },
    {
     "data": {
      "application/vnd.jupyter.widget-view+json": {
       "model_id": "c935de6301714001bb4a78059533ece0",
       "version_major": 2,
       "version_minor": 0
      },
      "text/plain": [
       "Validation: |          | 0/? [00:00<?, ?it/s]"
      ]
     },
     "metadata": {},
     "output_type": "display_data"
    },
    {
     "data": {
      "application/vnd.jupyter.widget-view+json": {
       "model_id": "d12923c4040f4380ba99399fe26add9d",
       "version_major": 2,
       "version_minor": 0
      },
      "text/plain": [
       "Validation: |          | 0/? [00:00<?, ?it/s]"
      ]
     },
     "metadata": {},
     "output_type": "display_data"
    },
    {
     "data": {
      "application/vnd.jupyter.widget-view+json": {
       "model_id": "c13876d6b1e44e219d8f01878151af6a",
       "version_major": 2,
       "version_minor": 0
      },
      "text/plain": [
       "Validation: |          | 0/? [00:00<?, ?it/s]"
      ]
     },
     "metadata": {},
     "output_type": "display_data"
    },
    {
     "data": {
      "application/vnd.jupyter.widget-view+json": {
       "model_id": "870abc7b6d6a486da50c635ae125f5fc",
       "version_major": 2,
       "version_minor": 0
      },
      "text/plain": [
       "Validation: |          | 0/? [00:00<?, ?it/s]"
      ]
     },
     "metadata": {},
     "output_type": "display_data"
    },
    {
     "data": {
      "application/vnd.jupyter.widget-view+json": {
       "model_id": "0d2855165d8e4632a20fd09d9ed94631",
       "version_major": 2,
       "version_minor": 0
      },
      "text/plain": [
       "Validation: |          | 0/? [00:00<?, ?it/s]"
      ]
     },
     "metadata": {},
     "output_type": "display_data"
    },
    {
     "data": {
      "application/vnd.jupyter.widget-view+json": {
       "model_id": "8f22b504b83b4a598dd83442c9caae66",
       "version_major": 2,
       "version_minor": 0
      },
      "text/plain": [
       "Validation: |          | 0/? [00:00<?, ?it/s]"
      ]
     },
     "metadata": {},
     "output_type": "display_data"
    },
    {
     "data": {
      "application/vnd.jupyter.widget-view+json": {
       "model_id": "a912a3e37cc04085844cee236fa94fed",
       "version_major": 2,
       "version_minor": 0
      },
      "text/plain": [
       "Validation: |          | 0/? [00:00<?, ?it/s]"
      ]
     },
     "metadata": {},
     "output_type": "display_data"
    },
    {
     "data": {
      "application/vnd.jupyter.widget-view+json": {
       "model_id": "9645e3edd23a47908f2de889085473e1",
       "version_major": 2,
       "version_minor": 0
      },
      "text/plain": [
       "Validation: |          | 0/? [00:00<?, ?it/s]"
      ]
     },
     "metadata": {},
     "output_type": "display_data"
    },
    {
     "data": {
      "application/vnd.jupyter.widget-view+json": {
       "model_id": "6224e394eb644886941dba393db130a6",
       "version_major": 2,
       "version_minor": 0
      },
      "text/plain": [
       "Validation: |          | 0/? [00:00<?, ?it/s]"
      ]
     },
     "metadata": {},
     "output_type": "display_data"
    },
    {
     "data": {
      "application/vnd.jupyter.widget-view+json": {
       "model_id": "ed1f34a510ef4b96ab38aa5934dd2572",
       "version_major": 2,
       "version_minor": 0
      },
      "text/plain": [
       "Validation: |          | 0/? [00:00<?, ?it/s]"
      ]
     },
     "metadata": {},
     "output_type": "display_data"
    },
    {
     "name": "stderr",
     "output_type": "stream",
     "text": [
      "`Trainer.fit` stopped: `max_epochs=16` reached.\n"
     ]
    }
   ],
   "source": [
    "swa_callback = pl.callbacks.StochasticWeightAveraging(swa_lrs=1e-3, swa_epoch_start=5, annealing_epochs=5)\n",
    "trainer = pl.Trainer(precision=\"bf16-mixed\", max_epochs=15, check_val_every_n_epoch=1, log_every_n_steps=5, callbacks=[swa_callback])\n",
    "trainer.fit(model, train_loader, test_loader)"
   ]
  },
  {
   "cell_type": "code",
   "execution_count": 91,
   "id": "1a7c6af8-4540-4fab-a8dd-c925ee07ee7f",
   "metadata": {},
   "outputs": [
    {
     "name": "stderr",
     "output_type": "stream",
     "text": [
      "LOCAL_RANK: 0 - CUDA_VISIBLE_DEVICES: [0]\n"
     ]
    },
    {
     "data": {
      "application/vnd.jupyter.widget-view+json": {
       "model_id": "94b7d259d08a4710b0f2430f23648d40",
       "version_major": 2,
       "version_minor": 0
      },
      "text/plain": [
       "Validation: |          | 0/? [00:00<?, ?it/s]"
      ]
     },
     "metadata": {},
     "output_type": "display_data"
    },
    {
     "data": {
      "text/html": [
       "<pre style=\"white-space:pre;overflow-x:auto;line-height:normal;font-family:Menlo,'DejaVu Sans Mono',consolas,'Courier New',monospace\">┏━━━━━━━━━━━━━━━━━━━━━━━━━━━┳━━━━━━━━━━━━━━━━━━━━━━━━━━━┓\n",
       "┃<span style=\"font-weight: bold\">      Validate metric      </span>┃<span style=\"font-weight: bold\">       DataLoader 0        </span>┃\n",
       "┡━━━━━━━━━━━━━━━━━━━━━━━━━━━╇━━━━━━━━━━━━━━━━━━━━━━━━━━━┩\n",
       "│<span style=\"color: #008080; text-decoration-color: #008080\">          val_acc          </span>│<span style=\"color: #800080; text-decoration-color: #800080\">     0.795799970626831     </span>│\n",
       "│<span style=\"color: #008080; text-decoration-color: #008080\">         val_loss          </span>│<span style=\"color: #800080; text-decoration-color: #800080\">    0.6451417803764343     </span>│\n",
       "└───────────────────────────┴───────────────────────────┘\n",
       "</pre>\n"
      ],
      "text/plain": [
       "┏━━━━━━━━━━━━━━━━━━━━━━━━━━━┳━━━━━━━━━━━━━━━━━━━━━━━━━━━┓\n",
       "┃\u001b[1m \u001b[0m\u001b[1m     Validate metric     \u001b[0m\u001b[1m \u001b[0m┃\u001b[1m \u001b[0m\u001b[1m      DataLoader 0       \u001b[0m\u001b[1m \u001b[0m┃\n",
       "┡━━━━━━━━━━━━━━━━━━━━━━━━━━━╇━━━━━━━━━━━━━━━━━━━━━━━━━━━┩\n",
       "│\u001b[36m \u001b[0m\u001b[36m         val_acc         \u001b[0m\u001b[36m \u001b[0m│\u001b[35m \u001b[0m\u001b[35m    0.795799970626831    \u001b[0m\u001b[35m \u001b[0m│\n",
       "│\u001b[36m \u001b[0m\u001b[36m        val_loss         \u001b[0m\u001b[36m \u001b[0m│\u001b[35m \u001b[0m\u001b[35m   0.6451417803764343    \u001b[0m\u001b[35m \u001b[0m│\n",
       "└───────────────────────────┴───────────────────────────┘\n"
      ]
     },
     "metadata": {},
     "output_type": "display_data"
    },
    {
     "data": {
      "text/plain": [
       "[{'val_loss': 0.6451417803764343, 'val_acc': 0.795799970626831}]"
      ]
     },
     "execution_count": 91,
     "metadata": {},
     "output_type": "execute_result"
    }
   ],
   "source": [
    "trainer.validate(model, test_loader)"
   ]
  },
  {
   "cell_type": "markdown",
   "id": "bc78b1c0-865a-4887-bc76-e9ed39c0f73d",
   "metadata": {},
   "source": [
    "79.5%!!!!!!!  \n",
    "\n",
    "That's +0.2% more than the previous one!!!!!  \n",
    "\n",
    "But can we do better?  \n",
    "\n",
    "There's one last thing we can try that involves no training at all. (No we are not doing ensembling although you could definitely do that for better performance!)"
   ]
  },
  {
   "cell_type": "markdown",
   "id": "092eae14-79cd-410c-83fd-bb2d2ee7419f",
   "metadata": {},
   "source": [
    "## 3. Test-Time Augmentation\n",
    "By augmenting the images during test time and averaging the outputs, we can see if there is an increase in accuracy. Sounds counter-intuitive, but when you hve more changes to look at the same image, maybe you'll do better?"
   ]
  },
  {
   "cell_type": "code",
   "execution_count": 92,
   "id": "ed83b350-e212-4eaf-abe1-dfca691eae1b",
   "metadata": {},
   "outputs": [],
   "source": [
    "torch.save(model.resnet.state_dict(), \"model_student_swa.pth\")"
   ]
  },
  {
   "cell_type": "code",
   "execution_count": 157,
   "id": "c05f22c0-3bb9-4edc-917f-f90d9638c971",
   "metadata": {},
   "outputs": [
    {
     "data": {
      "text/plain": [
       "<All keys matched successfully>"
      ]
     },
     "execution_count": 157,
     "metadata": {},
     "output_type": "execute_result"
    }
   ],
   "source": [
    "class LitSWAResNet(pl.LightningModule):\n",
    "    def __init__(self, resnet_cls, lr):\n",
    "        super().__init__()\n",
    "        self.resnet = resnet_cls()\n",
    "        self.resnet.fc = nn.Linear(512, 10)\n",
    "        self.lr = lr\n",
    "        \n",
    "        self.accuracy = torchmetrics.Accuracy(\"multiclass\", num_classes=10)\n",
    "\n",
    "        self.img_scale = v2.ToDtype(torch.float32, scale=True)\n",
    "        self.img_norm = v2.Normalize([0.48, 0.44, 0.40], [0.22, 0.22, 0.22])\n",
    "        self.img_aug = v2.AutoAugment(v2.AutoAugmentPolicy.CIFAR10)\n",
    "\n",
    "        self.test_augs = [\n",
    "            None,\n",
    "            v2.RandomHorizontalFlip(p=1.0)\n",
    "        ]\n",
    "\n",
    "    def training_step(self, batch, batch_idx):\n",
    "        X, y = batch\n",
    "        X = self.img_norm(self.img_scale(self.img_aug(X)))\n",
    "        y_pred = self.resnet(X)\n",
    "        loss = nn.functional.cross_entropy(y_pred, y)\n",
    "        self.log(\"train_loss\", loss)\n",
    "        acc = self.accuracy(y_pred, y)\n",
    "        self.log(\"train_acc\", acc)\n",
    "\n",
    "        return loss\n",
    "\n",
    "    def validation_step(self, batch, batch_idx):\n",
    "        X, y = batch\n",
    "        X = self.img_norm(self.img_scale(X))\n",
    "        \n",
    "        preds = []\n",
    "        for aug in self.test_augs:\n",
    "            if aug is not None:\n",
    "                y_pred = self.resnet(aug(X))\n",
    "            else:\n",
    "                y_pred = self.resnet(X)\n",
    "            preds.append(y_pred)\n",
    "        y_pred = torch.mean(torch.stack(preds, dim=0), dim=0)\n",
    "        \n",
    "        loss = nn.functional.cross_entropy(y_pred, y)\n",
    "        self.log(\"val_loss\", loss)\n",
    "        acc = self.accuracy(y_pred, y)\n",
    "        self.log(\"val_acc\", acc)\n",
    "\n",
    "    def configure_optimizers(self):\n",
    "        optimizer = torch.optim.AdamW(self.resnet.parameters(), lr=self.lr)\n",
    "        return optimizer\n",
    "\n",
    "model = LitSWAResNet(resnet18, 1e-5)\n",
    "model.resnet.load_state_dict(torch.load(\"model_student_swa.pth\", weights_only=True))"
   ]
  },
  {
   "cell_type": "code",
   "execution_count": 158,
   "id": "1350d6a5-bed6-4278-bad1-83c4957f2fbf",
   "metadata": {},
   "outputs": [
    {
     "name": "stderr",
     "output_type": "stream",
     "text": [
      "LOCAL_RANK: 0 - CUDA_VISIBLE_DEVICES: [0]\n"
     ]
    },
    {
     "data": {
      "application/vnd.jupyter.widget-view+json": {
       "model_id": "6652b3693c544dcb9990532c021bfe79",
       "version_major": 2,
       "version_minor": 0
      },
      "text/plain": [
       "Validation: |          | 0/? [00:00<?, ?it/s]"
      ]
     },
     "metadata": {},
     "output_type": "display_data"
    },
    {
     "data": {
      "text/html": [
       "<pre style=\"white-space:pre;overflow-x:auto;line-height:normal;font-family:Menlo,'DejaVu Sans Mono',consolas,'Courier New',monospace\">┏━━━━━━━━━━━━━━━━━━━━━━━━━━━┳━━━━━━━━━━━━━━━━━━━━━━━━━━━┓\n",
       "┃<span style=\"font-weight: bold\">      Validate metric      </span>┃<span style=\"font-weight: bold\">       DataLoader 0        </span>┃\n",
       "┡━━━━━━━━━━━━━━━━━━━━━━━━━━━╇━━━━━━━━━━━━━━━━━━━━━━━━━━━┩\n",
       "│<span style=\"color: #008080; text-decoration-color: #008080\">          val_acc          </span>│<span style=\"color: #800080; text-decoration-color: #800080\">    0.8126999735832214     </span>│\n",
       "│<span style=\"color: #008080; text-decoration-color: #008080\">         val_loss          </span>│<span style=\"color: #800080; text-decoration-color: #800080\">    0.5610480308532715     </span>│\n",
       "└───────────────────────────┴───────────────────────────┘\n",
       "</pre>\n"
      ],
      "text/plain": [
       "┏━━━━━━━━━━━━━━━━━━━━━━━━━━━┳━━━━━━━━━━━━━━━━━━━━━━━━━━━┓\n",
       "┃\u001b[1m \u001b[0m\u001b[1m     Validate metric     \u001b[0m\u001b[1m \u001b[0m┃\u001b[1m \u001b[0m\u001b[1m      DataLoader 0       \u001b[0m\u001b[1m \u001b[0m┃\n",
       "┡━━━━━━━━━━━━━━━━━━━━━━━━━━━╇━━━━━━━━━━━━━━━━━━━━━━━━━━━┩\n",
       "│\u001b[36m \u001b[0m\u001b[36m         val_acc         \u001b[0m\u001b[36m \u001b[0m│\u001b[35m \u001b[0m\u001b[35m   0.8126999735832214    \u001b[0m\u001b[35m \u001b[0m│\n",
       "│\u001b[36m \u001b[0m\u001b[36m        val_loss         \u001b[0m\u001b[36m \u001b[0m│\u001b[35m \u001b[0m\u001b[35m   0.5610480308532715    \u001b[0m\u001b[35m \u001b[0m│\n",
       "└───────────────────────────┴───────────────────────────┘\n"
      ]
     },
     "metadata": {},
     "output_type": "display_data"
    },
    {
     "data": {
      "text/plain": [
       "[{'val_loss': 0.5610480308532715, 'val_acc': 0.8126999735832214}]"
      ]
     },
     "execution_count": 158,
     "metadata": {},
     "output_type": "execute_result"
    }
   ],
   "source": [
    "trainer.validate(model, test_loader)"
   ]
  },
  {
   "cell_type": "markdown",
   "id": "99509744-4c68-40da-90f6-c3eaccbf99b0",
   "metadata": {},
   "source": [
    "Bam! Instant +1.7% improvement. One thing to note is what augmentations you use though - initially I used multiple (vertical flip, rotate 90 degrees) but I realized they were performing poorly because the model was not trained on that.  \n",
    "\n",
    "To be fair the entire model was trained with very weak augmentation. It could defintely perform better with those."
   ]
  }
 ],
 "metadata": {
  "kernelspec": {
   "display_name": "Python 3 (ipykernel)",
   "language": "python",
   "name": "python3"
  },
  "language_info": {
   "codemirror_mode": {
    "name": "ipython",
    "version": 3
   },
   "file_extension": ".py",
   "mimetype": "text/x-python",
   "name": "python",
   "nbconvert_exporter": "python",
   "pygments_lexer": "ipython3",
   "version": "3.12.8"
  }
 },
 "nbformat": 4,
 "nbformat_minor": 5
}
